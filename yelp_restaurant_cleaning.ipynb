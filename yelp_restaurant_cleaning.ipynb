{
 "cells": [
  {
   "cell_type": "code",
   "execution_count": 1,
   "id": "f759b823",
   "metadata": {
    "tags": []
   },
   "outputs": [],
   "source": [
    "# import packages \n",
    "import zipfile\n",
    "import tarfile\n",
    "import io\n",
    "import numpy as np\n",
    "import pandas as pd\n",
    "import json\n",
    "import re"
   ]
  },
  {
   "cell_type": "markdown",
   "id": "2a248eca-4791-41bc-b346-08afbada03b1",
   "metadata": {},
   "source": [
    "# Inital Dataset Exploration"
   ]
  },
  {
   "cell_type": "code",
   "execution_count": 2,
   "id": "a4281f00",
   "metadata": {},
   "outputs": [
    {
     "name": "stdout",
     "output_type": "stream",
     "text": [
      "['Yelp JSON/', 'Yelp JSON/Yelp Dataset Documentation & ToS copy.pdf', '__MACOSX/Yelp JSON/._Yelp Dataset Documentation & ToS copy.pdf', 'Yelp JSON/yelp_dataset.tar', '__MACOSX/Yelp JSON/._yelp_dataset.tar']\n"
     ]
    }
   ],
   "source": [
    "# See files within ZIP file\n",
    "\n",
    "# Path to your ZIP file\n",
    "zip_path = \"Yelp-JSON.zip\"\n",
    "\n",
    "# Open the ZIP file and list file names\n",
    "with zipfile.ZipFile(zip_path, 'r') as zip_ref:\n",
    "    file_names = zip_ref.namelist()\n",
    "\n",
    "# Print file names\n",
    "print(file_names)"
   ]
  },
  {
   "cell_type": "code",
   "execution_count": 2,
   "id": "98ad3614",
   "metadata": {},
   "outputs": [
    {
     "name": "stdout",
     "output_type": "stream",
     "text": [
      "Contents of TAR file: ['Dataset_User_Agreement.pdf', 'yelp_academic_dataset_business.json', 'yelp_academic_dataset_checkin.json', 'yelp_academic_dataset_review.json', 'yelp_academic_dataset_tip.json', 'yelp_academic_dataset_user.json']\n"
     ]
    }
   ],
   "source": [
    "# See files within dataset TAR file\n",
    "\n",
    "# Path to your ZIP file\n",
    "zip_path = \"Yelp-JSON.zip\"\n",
    "\n",
    "# Open ZIP file and extract the TAR file\n",
    "with zipfile.ZipFile(zip_path, 'r') as zip_ref:\n",
    "    # Find the first .tar file in the ZIP\n",
    "    tar_file_name = [name for name in zip_ref.namelist() if name.endswith('.tar')][0]\n",
    "\n",
    "    # Read the TAR file from the ZIP into memory\n",
    "    with zip_ref.open(tar_file_name) as tar_bytes:\n",
    "        tar_file = tarfile.open(fileobj=io.BytesIO(tar_bytes.read()))\n",
    "\n",
    "        # List contents of the TAR file\n",
    "        tar_contents = tar_file.getnames()\n",
    "        print(\"Contents of TAR file:\", tar_contents)"
   ]
  },
  {
   "cell_type": "markdown",
   "id": "8964ccb2-f775-48e9-b9ac-29721016d3e3",
   "metadata": {},
   "source": [
    "# Cleaning Restaurants Dataset"
   ]
  },
  {
   "cell_type": "code",
   "execution_count": 2,
   "id": "e7d6b7be",
   "metadata": {
    "tags": []
   },
   "outputs": [
    {
     "name": "stdout",
     "output_type": "stream",
     "text": [
      "Extracting JSON file: yelp_academic_dataset_business.json\n",
      "Done\n"
     ]
    }
   ],
   "source": [
    "# Extracting dataframe from yelp_academic_dataset_business.json\n",
    "\n",
    "# Path to your ZIP file\n",
    "zip_path = \"Yelp-JSON.zip\"\n",
    "\n",
    "# Open ZIP file without loading everything into memory\n",
    "with zipfile.ZipFile(zip_path, 'r') as zip_ref:\n",
    "    # Find the first .tar file in the ZIP\n",
    "    tar_file_name = next(name for name in zip_ref.namelist() if name.endswith('.tar'))\n",
    "\n",
    "    # Open TAR file directly from ZIP without reading it all at once\n",
    "    with zip_ref.open(tar_file_name) as tar_bytes, tarfile.open(fileobj=tar_bytes) as tar_file:\n",
    "        # Find the first JSON file inside the TAR\n",
    "        json_file_name = next(name for name in tar_file.getnames() if name.endswith('.json'))\n",
    "        \n",
    "        print(f\"Extracting JSON file: {json_file_name}\")\n",
    "\n",
    "        # Open JSON file directly from the TAR archive (streaming, no full extraction)\n",
    "        with tar_file.extractfile(json_file_name) as json_file:\n",
    "            data_list = []  # Collect JSON objects into a list\n",
    "            \n",
    "            for line in json_file:  # Read each line of the JSON file\n",
    "                json_data = line.decode('utf-8').strip()\n",
    "                if not json_data:\n",
    "                    continue  # Skip empty lines\n",
    "                \n",
    "                try:\n",
    "                    parsed_json = json.loads(json_data)  # Parse JSON line\n",
    "                    data_list.append(parsed_json)  # Append to list\n",
    "                except json.JSONDecodeError as e:\n",
    "                    print(f\"Skipping invalid JSON line: {e}\")\n",
    "            \n",
    "            # Convert to DataFrame once after collecting all data\n",
    "            df = pd.DataFrame(data_list)\n",
    "            \n",
    "            # Filter to businesses in Pennsylvania \n",
    "            if 'state' in df.columns and 'PA' in df['state'].unique():\n",
    "                df = df[df['state'] == 'PA']\n",
    "\n",
    "print(\"Done\")"
   ]
  },
  {
   "cell_type": "code",
   "execution_count": 42,
   "id": "cc859b5a",
   "metadata": {
    "tags": []
   },
   "outputs": [
    {
     "name": "stderr",
     "output_type": "stream",
     "text": [
      "/tmp/ipykernel_975427/2699315166.py:4: SettingWithCopyWarning: \n",
      "A value is trying to be set on a copy of a slice from a DataFrame.\n",
      "Try using .loc[row_indexer,col_indexer] = value instead\n",
      "\n",
      "See the caveats in the documentation: https://pandas.pydata.org/pandas-docs/stable/user_guide/indexing.html#returning-a-view-versus-a-copy\n",
      "  philly_df['city']='Philadelphia'\n"
     ]
    }
   ],
   "source": [
    "# Clean dataset\n",
    "\n",
    "# clean and subset philadelphia businesses \n",
    "df['city'] = df['city'].str.lower()\n",
    "philly_df = df[df['city'].str.contains('phil')]\n",
    "philly_df['city']='Philadelphia'\n",
    "\n",
    "# subset restaurants\n",
    "philly_rest = philly_df[philly_df['categories'].str.contains('restaurant', na=False, case=False)]\n",
    "\n",
    "# expand json in attributes \n",
    "philly_rest = philly_rest.join(pd.json_normalize(df[\"attributes\"])).drop(columns=[\"attributes\"])\n",
    "\n",
    "# subset to restaurants that have price category \n",
    "philly_rest = philly_rest.loc[philly_rest['RestaurantsPriceRange2'].notnull()]"
   ]
  },
  {
   "cell_type": "code",
   "execution_count": 43,
   "id": "7b18561f-5277-49c6-b569-1fef1b079e0f",
   "metadata": {
    "tags": []
   },
   "outputs": [],
   "source": [
    "# Rename columns\n",
    "philly_rest['price_level'] = philly_rest['RestaurantsPriceRange2']\n",
    "\n",
    "# Drop unecessary columns \n",
    "columns = ['is_open', 'categories', 'hours','RestaurantsDelivery', 'OutdoorSeating', 'BusinessAcceptsCreditCards', \n",
    "           'BusinessParking', 'BikeParking', 'RestaurantsTakeOut', 'ByAppointmentOnly', \n",
    "           'WiFi', 'Alcohol', 'Caters', 'WheelchairAccessible', 'GoodForKids', \n",
    "           'RestaurantsReservations', 'RestaurantsGoodForGroups',\n",
    "           'RestaurantsAttire', 'HasTV', 'Ambience', 'GoodForMeal', 'NoiseLevel',\n",
    "           'DogsAllowed', 'HappyHour', 'RestaurantsTableService', 'Smoking',\n",
    "           'Music', 'GoodForDancing', 'BusinessAcceptsBitcoin', 'AcceptsInsurance',\n",
    "           'CoatCheck', 'BYOB', 'BestNights', 'DriveThru', 'Corkage',\n",
    "           'BYOBCorkage', 'HairSpecializesIn', 'Open24Hours', 'AgesAllowed',\n",
    "           'DietaryRestrictions', 'RestaurantsCounterService', 'RestaurantsPriceRange2']\n",
    "philly_rest.drop(columns, axis=1, inplace=True)"
   ]
  },
  {
   "cell_type": "code",
   "execution_count": 44,
   "id": "75cd79d9",
   "metadata": {
    "tags": []
   },
   "outputs": [
    {
     "data": {
      "text/html": [
       "<div>\n",
       "<style scoped>\n",
       "    .dataframe tbody tr th:only-of-type {\n",
       "        vertical-align: middle;\n",
       "    }\n",
       "\n",
       "    .dataframe tbody tr th {\n",
       "        vertical-align: top;\n",
       "    }\n",
       "\n",
       "    .dataframe thead th {\n",
       "        text-align: right;\n",
       "    }\n",
       "</style>\n",
       "<table border=\"1\" class=\"dataframe\">\n",
       "  <thead>\n",
       "    <tr style=\"text-align: right;\">\n",
       "      <th></th>\n",
       "      <th>business_id</th>\n",
       "      <th>name</th>\n",
       "      <th>address</th>\n",
       "      <th>city</th>\n",
       "      <th>state</th>\n",
       "      <th>postal_code</th>\n",
       "      <th>latitude</th>\n",
       "      <th>longitude</th>\n",
       "      <th>stars</th>\n",
       "      <th>review_count</th>\n",
       "      <th>price_level</th>\n",
       "    </tr>\n",
       "  </thead>\n",
       "  <tbody>\n",
       "    <tr>\n",
       "      <th>3</th>\n",
       "      <td>MTSW4McQd7CbVtyjqoe9mw</td>\n",
       "      <td>St Honore Pastries</td>\n",
       "      <td>935 Race St</td>\n",
       "      <td>Philadelphia</td>\n",
       "      <td>PA</td>\n",
       "      <td>19107</td>\n",
       "      <td>39.955505</td>\n",
       "      <td>-75.155564</td>\n",
       "      <td>4.0</td>\n",
       "      <td>80</td>\n",
       "      <td>1</td>\n",
       "    </tr>\n",
       "    <tr>\n",
       "      <th>15</th>\n",
       "      <td>MUTTqe8uqyMdBl186RmNeA</td>\n",
       "      <td>Tuna Bar</td>\n",
       "      <td>205 Race St</td>\n",
       "      <td>Philadelphia</td>\n",
       "      <td>PA</td>\n",
       "      <td>19106</td>\n",
       "      <td>39.953949</td>\n",
       "      <td>-75.143226</td>\n",
       "      <td>4.0</td>\n",
       "      <td>245</td>\n",
       "      <td>3</td>\n",
       "    </tr>\n",
       "    <tr>\n",
       "      <th>19</th>\n",
       "      <td>ROeacJQwBeh05Rqg7F6TCg</td>\n",
       "      <td>BAP</td>\n",
       "      <td>1224 South St</td>\n",
       "      <td>Philadelphia</td>\n",
       "      <td>PA</td>\n",
       "      <td>19147</td>\n",
       "      <td>39.943223</td>\n",
       "      <td>-75.162568</td>\n",
       "      <td>4.5</td>\n",
       "      <td>205</td>\n",
       "      <td>1</td>\n",
       "    </tr>\n",
       "    <tr>\n",
       "      <th>28</th>\n",
       "      <td>QdN72BWoyFypdGJhhI5r7g</td>\n",
       "      <td>Bar One</td>\n",
       "      <td>767 S 9th St</td>\n",
       "      <td>Philadelphia</td>\n",
       "      <td>PA</td>\n",
       "      <td>19147</td>\n",
       "      <td>39.939825</td>\n",
       "      <td>-75.157447</td>\n",
       "      <td>4.0</td>\n",
       "      <td>65</td>\n",
       "      <td>1</td>\n",
       "    </tr>\n",
       "    <tr>\n",
       "      <th>35</th>\n",
       "      <td>aPNXGTDkf-4bjhyMBQxqpQ</td>\n",
       "      <td>Craft Hall</td>\n",
       "      <td>901 N Delaware Ave</td>\n",
       "      <td>Philadelphia</td>\n",
       "      <td>PA</td>\n",
       "      <td>19123</td>\n",
       "      <td>39.962582</td>\n",
       "      <td>-75.135657</td>\n",
       "      <td>3.5</td>\n",
       "      <td>65</td>\n",
       "      <td>2</td>\n",
       "    </tr>\n",
       "  </tbody>\n",
       "</table>\n",
       "</div>"
      ],
      "text/plain": [
       "               business_id                name             address  \\\n",
       "3   MTSW4McQd7CbVtyjqoe9mw  St Honore Pastries         935 Race St   \n",
       "15  MUTTqe8uqyMdBl186RmNeA            Tuna Bar         205 Race St   \n",
       "19  ROeacJQwBeh05Rqg7F6TCg                 BAP       1224 South St   \n",
       "28  QdN72BWoyFypdGJhhI5r7g             Bar One        767 S 9th St   \n",
       "35  aPNXGTDkf-4bjhyMBQxqpQ          Craft Hall  901 N Delaware Ave   \n",
       "\n",
       "            city state postal_code   latitude  longitude  stars  review_count  \\\n",
       "3   Philadelphia    PA       19107  39.955505 -75.155564    4.0            80   \n",
       "15  Philadelphia    PA       19106  39.953949 -75.143226    4.0           245   \n",
       "19  Philadelphia    PA       19147  39.943223 -75.162568    4.5           205   \n",
       "28  Philadelphia    PA       19147  39.939825 -75.157447    4.0            65   \n",
       "35  Philadelphia    PA       19123  39.962582 -75.135657    3.5            65   \n",
       "\n",
       "   price_level  \n",
       "3            1  \n",
       "15           3  \n",
       "19           1  \n",
       "28           1  \n",
       "35           2  "
      ]
     },
     "execution_count": 44,
     "metadata": {},
     "output_type": "execute_result"
    }
   ],
   "source": [
    "philly_rest.head()"
   ]
  },
  {
   "cell_type": "markdown",
   "id": "99b8c932-dd1c-459c-a1d4-b6cbdd677b40",
   "metadata": {},
   "source": [
    "### Column Explanation:\n",
    "- price_level: 1-4, 1 is lowest, 4 is highest"
   ]
  },
  {
   "cell_type": "code",
   "execution_count": 45,
   "id": "9a71f937-709c-4149-a708-9dafd426462e",
   "metadata": {
    "tags": []
   },
   "outputs": [],
   "source": [
    "# Export csv\n",
    "philly_rest.to_csv('philly_restaurants.csv')"
   ]
  },
  {
   "cell_type": "markdown",
   "id": "c1de8f4b-31a9-4c02-9a19-4c8a91b7ef6c",
   "metadata": {},
   "source": [
    "# Cleaning Review Dataset"
   ]
  },
  {
   "cell_type": "code",
   "execution_count": 5,
   "id": "0cb6bea0-aa60-4f7a-8145-0bccb7e6ae8e",
   "metadata": {
    "tags": []
   },
   "outputs": [],
   "source": [
    "# Get business ids from philly_restaurants.csv\n",
    "philly_rest = pd.read_csv(\"philly_restaurants.csv\", low_memory=False)\n",
    "ids = philly_rest['business_id'].unique()"
   ]
  },
  {
   "cell_type": "code",
   "execution_count": 7,
   "id": "d33839b3-7185-4d54-8aa8-7960d177c2f9",
   "metadata": {
    "tags": []
   },
   "outputs": [
    {
     "name": "stdout",
     "output_type": "stream",
     "text": [
      "Extracting JSON file: yelp_academic_dataset_review.json\n",
      "Done\n"
     ]
    }
   ],
   "source": [
    "# Extracting dataframe from yelp_academic_dataset_review.json\n",
    "\n",
    "# Path to your ZIP file\n",
    "zip_path = \"Yelp-JSON.zip\"\n",
    "\n",
    "# Open ZIP file without loading everything into memory\n",
    "with zipfile.ZipFile(zip_path, 'r') as zip_ref:\n",
    "    # Find the first .tar file in the ZIP\n",
    "    tar_file_name = next(name for name in zip_ref.namelist() if name.endswith('.tar'))\n",
    "\n",
    "    # Open TAR file directly from ZIP without reading it all at once\n",
    "    with zip_ref.open(tar_file_name) as tar_bytes, tarfile.open(fileobj=tar_bytes) as tar_file:\n",
    "        # Find review dataset within the TAR\n",
    "        json_file_name = 'yelp_academic_dataset_review.json'\n",
    "        print(f\"Extracting JSON file: {json_file_name}\")\n",
    "\n",
    "        # Open JSON file directly from the TAR archive (streaming, no full extraction)\n",
    "        with tar_file.extractfile(json_file_name) as json_file:\n",
    "            data_list = []  # Collect JSON objects into a list\n",
    "            \n",
    "            for line in json_file:  # Read each line of the JSON file\n",
    "                json_data = line.decode('utf-8').strip()\n",
    "                if not json_data:\n",
    "                    continue  # Skip empty lines\n",
    "                \n",
    "                try:\n",
    "                    parsed_json = json.loads(json_data)  # Parse JSON line\n",
    "                    data_list.append(parsed_json)  # Append to list\n",
    "                except json.JSONDecodeError as e:\n",
    "                    print(f\"Skipping invalid JSON line: {e}\")\n",
    "            \n",
    "            # Convert to DataFrame once after collecting all data\n",
    "            df = pd.DataFrame(data_list)\n",
    "            \n",
    "            # Filter to restaurants in Pennsylvania \n",
    "            df = df[df[\"business_id\"].isin(ids)]\n",
    "\n",
    "print(\"Done\")"
   ]
  },
  {
   "cell_type": "code",
   "execution_count": 17,
   "id": "d3e3a234-fdfa-424c-8dd3-d2ef0bd6bc3c",
   "metadata": {
    "tags": []
   },
   "outputs": [],
   "source": [
    "# Drop unnecessary columns\n",
    "cols = ['user_id','useful','funny','cool']\n",
    "df.drop(cols, axis=1, inplace=True)"
   ]
  },
  {
   "cell_type": "code",
   "execution_count": 18,
   "id": "ee2da802-04b0-44d3-a54b-4865c21f178b",
   "metadata": {
    "tags": []
   },
   "outputs": [
    {
     "data": {
      "text/html": [
       "<div>\n",
       "<style scoped>\n",
       "    .dataframe tbody tr th:only-of-type {\n",
       "        vertical-align: middle;\n",
       "    }\n",
       "\n",
       "    .dataframe tbody tr th {\n",
       "        vertical-align: top;\n",
       "    }\n",
       "\n",
       "    .dataframe thead th {\n",
       "        text-align: right;\n",
       "    }\n",
       "</style>\n",
       "<table border=\"1\" class=\"dataframe\">\n",
       "  <thead>\n",
       "    <tr style=\"text-align: right;\">\n",
       "      <th></th>\n",
       "      <th>review_id</th>\n",
       "      <th>business_id</th>\n",
       "      <th>stars</th>\n",
       "      <th>text</th>\n",
       "      <th>date</th>\n",
       "    </tr>\n",
       "  </thead>\n",
       "  <tbody>\n",
       "    <tr>\n",
       "      <th>13</th>\n",
       "      <td>8JFGBuHMoiNDyfcxuWNtrA</td>\n",
       "      <td>RZtGWDLCAtuipwaZ-UfjmQ</td>\n",
       "      <td>4.0</td>\n",
       "      <td>Good food--loved the gnocchi with marinara\\nth...</td>\n",
       "      <td>2009-10-14 19:57:14</td>\n",
       "    </tr>\n",
       "    <tr>\n",
       "      <th>16</th>\n",
       "      <td>oyaMhzBSwfGgemSGuZCdwQ</td>\n",
       "      <td>YtSqYv1Q_pOltsVPSx54SA</td>\n",
       "      <td>5.0</td>\n",
       "      <td>Tremendous service (Big shout out to Douglas) ...</td>\n",
       "      <td>2013-06-24 11:21:25</td>\n",
       "    </tr>\n",
       "    <tr>\n",
       "      <th>19</th>\n",
       "      <td>Xs8Z8lmKkosqW5mw_sVAoA</td>\n",
       "      <td>eFvzHawVJofxSnD7TgbZtg</td>\n",
       "      <td>5.0</td>\n",
       "      <td>My absolute favorite cafe in the city. Their b...</td>\n",
       "      <td>2014-11-12 15:30:27</td>\n",
       "    </tr>\n",
       "    <tr>\n",
       "      <th>49</th>\n",
       "      <td>cvQXRFLCyr0S7EgFb4lZqw</td>\n",
       "      <td>EtKSTHV5Qx_Q7Aur9o4kQQ</td>\n",
       "      <td>5.0</td>\n",
       "      <td>On a scale of one to things that are awesome, ...</td>\n",
       "      <td>2009-10-14 01:15:04</td>\n",
       "    </tr>\n",
       "    <tr>\n",
       "      <th>51</th>\n",
       "      <td>r2IBPY_E8AE5_GpsqlONyg</td>\n",
       "      <td>VJEzpfLs_Jnzgqh5A_FVTg</td>\n",
       "      <td>4.0</td>\n",
       "      <td>It was my fiance's birthday and he decided he ...</td>\n",
       "      <td>2014-04-01 13:05:18</td>\n",
       "    </tr>\n",
       "  </tbody>\n",
       "</table>\n",
       "</div>"
      ],
      "text/plain": [
       "                 review_id             business_id  stars  \\\n",
       "13  8JFGBuHMoiNDyfcxuWNtrA  RZtGWDLCAtuipwaZ-UfjmQ    4.0   \n",
       "16  oyaMhzBSwfGgemSGuZCdwQ  YtSqYv1Q_pOltsVPSx54SA    5.0   \n",
       "19  Xs8Z8lmKkosqW5mw_sVAoA  eFvzHawVJofxSnD7TgbZtg    5.0   \n",
       "49  cvQXRFLCyr0S7EgFb4lZqw  EtKSTHV5Qx_Q7Aur9o4kQQ    5.0   \n",
       "51  r2IBPY_E8AE5_GpsqlONyg  VJEzpfLs_Jnzgqh5A_FVTg    4.0   \n",
       "\n",
       "                                                 text                 date  \n",
       "13  Good food--loved the gnocchi with marinara\\nth...  2009-10-14 19:57:14  \n",
       "16  Tremendous service (Big shout out to Douglas) ...  2013-06-24 11:21:25  \n",
       "19  My absolute favorite cafe in the city. Their b...  2014-11-12 15:30:27  \n",
       "49  On a scale of one to things that are awesome, ...  2009-10-14 01:15:04  \n",
       "51  It was my fiance's birthday and he decided he ...  2014-04-01 13:05:18  "
      ]
     },
     "execution_count": 18,
     "metadata": {},
     "output_type": "execute_result"
    }
   ],
   "source": [
    "df.head()"
   ]
  },
  {
   "cell_type": "code",
   "execution_count": 19,
   "id": "7324b0da-adec-4bc6-a69f-3d8e9f964659",
   "metadata": {
    "tags": []
   },
   "outputs": [],
   "source": [
    "# Export csv\n",
    "df.to_csv(\"philly_reviews.csv\")"
   ]
  }
 ],
 "metadata": {
  "kernelspec": {
   "display_name": "Python 3 (ipykernel)",
   "language": "python",
   "name": "python3"
  },
  "language_info": {
   "codemirror_mode": {
    "name": "ipython",
    "version": 3
   },
   "file_extension": ".py",
   "mimetype": "text/x-python",
   "name": "python",
   "nbconvert_exporter": "python",
   "pygments_lexer": "ipython3",
   "version": "3.11.4"
  }
 },
 "nbformat": 4,
 "nbformat_minor": 5
}
