{
  "nbformat": 4,
  "nbformat_minor": 0,
  "metadata": {
    "colab": {
      "provenance": [],
      "authorship_tag": "ABX9TyNtzXdRwTUnn8mAU6TmZZpv",
      "include_colab_link": true
    },
    "kernelspec": {
      "name": "python3",
      "display_name": "Python 3"
    },
    "language_info": {
      "name": "python"
    }
  },
  "cells": [
    {
      "cell_type": "markdown",
      "metadata": {
        "id": "view-in-github",
        "colab_type": "text"
      },
      "source": [
        "<a href=\"https://colab.research.google.com/github/avesselinov/Project1/blob/main/spearman_analysis.ipynb\" target=\"_parent\"><img src=\"https://colab.research.google.com/assets/colab-badge.svg\" alt=\"Open In Colab\"/></a>"
      ]
    },
    {
      "cell_type": "code",
      "execution_count": null,
      "metadata": {
        "id": "JTOOpcfWJ6o8"
      },
      "outputs": [],
      "source": [
        "import pandas as pd\n",
        "import numpy as np\n",
        "from scipy.stats import spearmanr\n",
        "\n",
        "# Load dataset (this is with assumed 'price_level' and 'sentiment_score' columns)\n",
        "df = pd.read_csv(\"philadelphia_restaurants_2.csv\")  # or whatever the actual final file name is\n",
        "\n",
        "# Convert price levels ($, $$, $$$, $$$$) to numerical values (1, 2, 3, 4)\n",
        "price_mapping = {'$': 1, '$$': 2, '$$$': 3, '$$$$': 4}\n",
        "df['price_numeric'] = df['price_level'].map(price_mapping)\n",
        "\n",
        "# Drop any rows with missing values in relevant columns\n",
        "df = df.dropna(subset=['price_numeric', 'sentiment_score'])\n",
        "\n",
        "# Calculate Spearman correlation\n",
        "corr, p_value = spearmanr(df['price_numeric'], df['sentiment_score'])\n",
        "\n",
        "# Print results\n",
        "print(f\"Spearman Correlation: {corr:.3f}\")\n",
        "print(f\"P-Value: {p_value:.5f}\")\n",
        "\n",
        "# Interpretation\n",
        "if p_value < 0.05:\n",
        "    print(\"There is a statistically significant correlation between price level and sentiment score.\")\n",
        "else:\n",
        "    print(\"No significant correlation found between price level and sentiment score.\")\n"
      ]
    }
  ]
}