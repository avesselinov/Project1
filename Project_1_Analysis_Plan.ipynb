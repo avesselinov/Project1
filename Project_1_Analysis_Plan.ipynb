{
  "nbformat": 4,
  "nbformat_minor": 0,
  "metadata": {
    "colab": {
      "provenance": [],
      "authorship_tag": "ABX9TyPFuJosg71720cTfOeKAkMY",
      "include_colab_link": true
    },
    "kernelspec": {
      "name": "python3",
      "display_name": "Python 3"
    },
    "language_info": {
      "name": "python"
    }
  },
  "cells": [
    {
      "cell_type": "markdown",
      "metadata": {
        "id": "view-in-github",
        "colab_type": "text"
      },
      "source": [
        "<a href=\"https://colab.research.google.com/github/avesselinov/Project1/blob/main/Project_1_Analysis_Plan.ipynb\" target=\"_parent\"><img src=\"https://colab.research.google.com/assets/colab-badge.svg\" alt=\"Open In Colab\"/></a>"
      ]
    },
    {
      "cell_type": "code",
      "execution_count": null,
      "metadata": {
        "id": "lQyXtymHBwW8"
      },
      "outputs": [],
      "source": [
        "import nltk\n",
        "import pandas as pd\n",
        "import numpy as np\n",
        "import seaborn as sns\n",
        "import matplotlib.pyplot as plt\n",
        "from nltk.sentiment.vader import SentimentIntensityAnalyzer\n",
        "from scipy import stats\n",
        "\n",
        "# Install and download VADER lexicon\n",
        "nltk.download('vader_lexicon')\n",
        "\n",
        "# Load the Yelp dataset (replace 'yelp_data.csv' with actual dataset file)\n",
        "df = pd.read_csv('yelp_data.csv')\n",
        "\n",
        "# Ensure relevant columns exist (some assumed columns i.e. 'review_text', 'price', 'rating')\n",
        "df = df[['review_text', 'price', 'rating']].dropna()\n",
        "\n",
        "# Initialize VADER sentiment analyzer\n",
        "analyzer = SentimentIntensityAnalyzer()\n",
        "\n",
        "def get_sentiment(text):\n",
        "    \"\"\"Compute sentiment compound score for a given review.\"\"\"\n",
        "    return analyzer.polarity_scores(text)['compound']\n",
        "\n",
        "# Apply sentiment analysis\n",
        "df['sentiment_score'] = df['review_text'].apply(get_sentiment)\n",
        "\n",
        "# Group by price category and calculate mean sentiment\n",
        "grouped = df.groupby('price')['sentiment_score'].mean().reset_index()\n",
        "print(grouped)\n",
        "\n",
        "# Perform ANOVA test\n",
        "price_groups = [df[df['price'] == p]['sentiment_score'].dropna() for p in df['price'].unique()]\n",
        "anova_result = stats.f_oneway(*price_groups)\n",
        "print(f\"ANOVA p-value: {anova_result.pvalue}\")\n",
        "\n",
        "# Visualization\n",
        "sns.boxplot(x='price', y='sentiment_score', data=df)\n",
        "plt.title('Sentiment Scores by Restaurant Price Level')\n",
        "plt.xlabel('Price Level')\n",
        "plt.ylabel('Sentiment Score')\n",
        "plt.show()\n"
      ]
    }
  ]
}