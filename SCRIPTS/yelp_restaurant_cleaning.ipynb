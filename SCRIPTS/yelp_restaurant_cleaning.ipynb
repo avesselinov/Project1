{
 "cells": [
  {
   "cell_type": "code",
   "execution_count": 1,
   "id": "f759b823",
   "metadata": {
    "tags": []
   },
   "outputs": [],
   "source": [
    "# import packages \n",
    "import zipfile\n",
    "import tarfile\n",
    "import io\n",
    "import numpy as np\n",
    "import pandas as pd\n",
    "import json\n",
    "import re\n",
    "import plotly.express as px\n",
    "import matplotlib.pyplot as plt\n",
    "import seaborn as sns"
   ]
  },
  {
   "cell_type": "markdown",
   "id": "2a248eca-4791-41bc-b346-08afbada03b1",
   "metadata": {},
   "source": [
    "# Inital Dataset Exploration"
   ]
  },
  {
   "cell_type": "code",
   "execution_count": 2,
   "id": "a4281f00",
   "metadata": {},
   "outputs": [
    {
     "name": "stdout",
     "output_type": "stream",
     "text": [
      "['Yelp JSON/', 'Yelp JSON/Yelp Dataset Documentation & ToS copy.pdf', '__MACOSX/Yelp JSON/._Yelp Dataset Documentation & ToS copy.pdf', 'Yelp JSON/yelp_dataset.tar', '__MACOSX/Yelp JSON/._yelp_dataset.tar']\n"
     ]
    }
   ],
   "source": [
    "# See files within ZIP file\n",
    "\n",
    "# Path to your ZIP file\n",
    "zip_path = \"Yelp-JSON.zip\"\n",
    "\n",
    "# Open the ZIP file and list file names\n",
    "with zipfile.ZipFile(zip_path, 'r') as zip_ref:\n",
    "    file_names = zip_ref.namelist()\n",
    "\n",
    "# Print file names\n",
    "print(file_names)"
   ]
  },
  {
   "cell_type": "code",
   "execution_count": 2,
   "id": "98ad3614",
   "metadata": {},
   "outputs": [
    {
     "name": "stdout",
     "output_type": "stream",
     "text": [
      "Contents of TAR file: ['Dataset_User_Agreement.pdf', 'yelp_academic_dataset_business.json', 'yelp_academic_dataset_checkin.json', 'yelp_academic_dataset_review.json', 'yelp_academic_dataset_tip.json', 'yelp_academic_dataset_user.json']\n"
     ]
    }
   ],
   "source": [
    "# See files within dataset TAR file\n",
    "\n",
    "# Path to your ZIP file\n",
    "zip_path = \"Yelp-JSON.zip\"\n",
    "\n",
    "# Open ZIP file and extract the TAR file\n",
    "with zipfile.ZipFile(zip_path, 'r') as zip_ref:\n",
    "    # Find the first .tar file in the ZIP\n",
    "    tar_file_name = [name for name in zip_ref.namelist() if name.endswith('.tar')][0]\n",
    "\n",
    "    # Read the TAR file from the ZIP into memory\n",
    "    with zip_ref.open(tar_file_name) as tar_bytes:\n",
    "        tar_file = tarfile.open(fileobj=io.BytesIO(tar_bytes.read()))\n",
    "\n",
    "        # List contents of the TAR file\n",
    "        tar_contents = tar_file.getnames()\n",
    "        print(\"Contents of TAR file:\", tar_contents)"
   ]
  },
  {
   "cell_type": "markdown",
   "id": "8964ccb2-f775-48e9-b9ac-29721016d3e3",
   "metadata": {},
   "source": [
    "# Cleaning Restaurants Dataset"
   ]
  },
  {
   "cell_type": "code",
   "execution_count": 3,
   "id": "e7d6b7be",
   "metadata": {
    "tags": []
   },
   "outputs": [
    {
     "name": "stdout",
     "output_type": "stream",
     "text": [
      "Extracting JSON file: yelp_academic_dataset_business.json\n",
      "Done\n"
     ]
    }
   ],
   "source": [
    "# Extracting dataframe from yelp_academic_dataset_business.json\n",
    "\n",
    "# Path to your ZIP file\n",
    "zip_path = \"Yelp-JSON.zip\"\n",
    "\n",
    "# Open ZIP file without loading everything into memory\n",
    "with zipfile.ZipFile(zip_path, 'r') as zip_ref:\n",
    "    # Find the first .tar file in the ZIP\n",
    "    tar_file_name = next(name for name in zip_ref.namelist() if name.endswith('.tar'))\n",
    "\n",
    "    # Open TAR file directly from ZIP without reading it all at once\n",
    "    with zip_ref.open(tar_file_name) as tar_bytes, tarfile.open(fileobj=tar_bytes) as tar_file:\n",
    "        # Find the first JSON file inside the TAR\n",
    "        json_file_name = next(name for name in tar_file.getnames() if name.endswith('.json'))\n",
    "        \n",
    "        print(f\"Extracting JSON file: {json_file_name}\")\n",
    "\n",
    "        # Open JSON file directly from the TAR archive (streaming, no full extraction)\n",
    "        with tar_file.extractfile(json_file_name) as json_file:\n",
    "            data_list = []  # Collect JSON objects into a list\n",
    "            \n",
    "            for line in json_file:  # Read each line of the JSON file\n",
    "                json_data = line.decode('utf-8').strip()\n",
    "                if not json_data:\n",
    "                    continue  # Skip empty lines\n",
    "                \n",
    "                try:\n",
    "                    parsed_json = json.loads(json_data)  # Parse JSON line\n",
    "                    data_list.append(parsed_json)  # Append to list\n",
    "                except json.JSONDecodeError as e:\n",
    "                    print(f\"Skipping invalid JSON line: {e}\")\n",
    "            \n",
    "            # Convert to DataFrame once after collecting all data\n",
    "            df = pd.DataFrame(data_list)\n",
    "            \n",
    "            # # Filter to businesses in Pennsylvania \n",
    "            # if 'state' in df.columns and 'PA' in df['state'].unique():\n",
    "            #     df = df[df['state'] == 'PA']\n",
    "\n",
    "print(\"Done\")"
   ]
  },
  {
   "cell_type": "code",
   "execution_count": 5,
   "id": "ea342b98-a97a-4e4f-bcc6-faf0a4cf7293",
   "metadata": {
    "tags": []
   },
   "outputs": [
    {
     "data": {
      "text/plain": [
       "(150346, 14)"
      ]
     },
     "metadata": {},
     "output_type": "display_data"
    }
   ],
   "source": [
    "# entire dataset \n",
    "display(df.shape)"
   ]
  },
  {
   "cell_type": "code",
   "execution_count": 8,
   "id": "cc859b5a",
   "metadata": {
    "tags": []
   },
   "outputs": [
    {
     "name": "stderr",
     "output_type": "stream",
     "text": [
      "/tmp/ipykernel_326739/4256575981.py:7: SettingWithCopyWarning: \n",
      "A value is trying to be set on a copy of a slice from a DataFrame.\n",
      "Try using .loc[row_indexer,col_indexer] = value instead\n",
      "\n",
      "See the caveats in the documentation: https://pandas.pydata.org/pandas-docs/stable/user_guide/indexing.html#returning-a-view-versus-a-copy\n",
      "  philly_df['city']='Philadelphia'\n"
     ]
    }
   ],
   "source": [
    "# Clean dataset\n",
    "\n",
    "# clean and subset philadelphia businesses \n",
    "df = df.loc[df['state'] == 'PA']\n",
    "df['city'] = df['city'].str.lower()\n",
    "philly_df = df.loc[df['city'].str.contains('phil')]\n",
    "philly_df['city']='Philadelphia'\n",
    "\n",
    "# subset restaurants\n",
    "philly_rest = philly_df[philly_df['categories'].str.contains('restaurant', na=False, case=False)]\n",
    "\n",
    "# expand json in attributes \n",
    "philly_rest = philly_rest.join(pd.json_normalize(df[\"attributes\"])).drop(columns=[\"attributes\"])\n",
    "\n",
    "# subset to restaurants that have price category \n",
    "philly_rest = philly_rest.loc[philly_rest['RestaurantsPriceRange2'].notnull()]"
   ]
  },
  {
   "cell_type": "code",
   "execution_count": 9,
   "id": "7b18561f-5277-49c6-b569-1fef1b079e0f",
   "metadata": {
    "tags": []
   },
   "outputs": [],
   "source": [
    "# Rename columns\n",
    "philly_rest['price_level'] = philly_rest['RestaurantsPriceRange2']\n",
    "\n",
    "# Drop unecessary columns \n",
    "columns = ['is_open', 'categories', 'hours','RestaurantsDelivery', 'OutdoorSeating', 'BusinessAcceptsCreditCards', \n",
    "           'BusinessParking', 'BikeParking', 'RestaurantsTakeOut', 'ByAppointmentOnly', \n",
    "           'WiFi', 'Alcohol', 'Caters', 'WheelchairAccessible', 'GoodForKids', \n",
    "           'RestaurantsReservations', 'RestaurantsGoodForGroups',\n",
    "           'RestaurantsAttire', 'HasTV', 'Ambience', 'GoodForMeal', 'NoiseLevel',\n",
    "           'DogsAllowed', 'HappyHour', 'RestaurantsTableService', 'Smoking',\n",
    "           'Music', 'GoodForDancing', 'BusinessAcceptsBitcoin', 'AcceptsInsurance',\n",
    "           'CoatCheck', 'BYOB', 'BestNights', 'DriveThru', 'Corkage',\n",
    "           'BYOBCorkage', 'HairSpecializesIn', 'Open24Hours', 'AgesAllowed',\n",
    "           'DietaryRestrictions', 'RestaurantsCounterService', 'RestaurantsPriceRange2']\n",
    "philly_rest.drop(columns, axis=1, inplace=True)"
   ]
  },
  {
   "cell_type": "code",
   "execution_count": 10,
   "id": "75cd79d9",
   "metadata": {
    "tags": []
   },
   "outputs": [
    {
     "data": {
      "text/html": [
       "<div>\n",
       "<style scoped>\n",
       "    .dataframe tbody tr th:only-of-type {\n",
       "        vertical-align: middle;\n",
       "    }\n",
       "\n",
       "    .dataframe tbody tr th {\n",
       "        vertical-align: top;\n",
       "    }\n",
       "\n",
       "    .dataframe thead th {\n",
       "        text-align: right;\n",
       "    }\n",
       "</style>\n",
       "<table border=\"1\" class=\"dataframe\">\n",
       "  <thead>\n",
       "    <tr style=\"text-align: right;\">\n",
       "      <th></th>\n",
       "      <th>business_id</th>\n",
       "      <th>name</th>\n",
       "      <th>address</th>\n",
       "      <th>city</th>\n",
       "      <th>state</th>\n",
       "      <th>postal_code</th>\n",
       "      <th>latitude</th>\n",
       "      <th>longitude</th>\n",
       "      <th>stars</th>\n",
       "      <th>review_count</th>\n",
       "      <th>price_level</th>\n",
       "    </tr>\n",
       "  </thead>\n",
       "  <tbody>\n",
       "    <tr>\n",
       "      <th>3</th>\n",
       "      <td>MTSW4McQd7CbVtyjqoe9mw</td>\n",
       "      <td>St Honore Pastries</td>\n",
       "      <td>935 Race St</td>\n",
       "      <td>Philadelphia</td>\n",
       "      <td>PA</td>\n",
       "      <td>19107</td>\n",
       "      <td>39.955505</td>\n",
       "      <td>-75.155564</td>\n",
       "      <td>4.0</td>\n",
       "      <td>80</td>\n",
       "      <td>1</td>\n",
       "    </tr>\n",
       "    <tr>\n",
       "      <th>15</th>\n",
       "      <td>MUTTqe8uqyMdBl186RmNeA</td>\n",
       "      <td>Tuna Bar</td>\n",
       "      <td>205 Race St</td>\n",
       "      <td>Philadelphia</td>\n",
       "      <td>PA</td>\n",
       "      <td>19106</td>\n",
       "      <td>39.953949</td>\n",
       "      <td>-75.143226</td>\n",
       "      <td>4.0</td>\n",
       "      <td>245</td>\n",
       "      <td>3</td>\n",
       "    </tr>\n",
       "    <tr>\n",
       "      <th>19</th>\n",
       "      <td>ROeacJQwBeh05Rqg7F6TCg</td>\n",
       "      <td>BAP</td>\n",
       "      <td>1224 South St</td>\n",
       "      <td>Philadelphia</td>\n",
       "      <td>PA</td>\n",
       "      <td>19147</td>\n",
       "      <td>39.943223</td>\n",
       "      <td>-75.162568</td>\n",
       "      <td>4.5</td>\n",
       "      <td>205</td>\n",
       "      <td>1</td>\n",
       "    </tr>\n",
       "    <tr>\n",
       "      <th>28</th>\n",
       "      <td>QdN72BWoyFypdGJhhI5r7g</td>\n",
       "      <td>Bar One</td>\n",
       "      <td>767 S 9th St</td>\n",
       "      <td>Philadelphia</td>\n",
       "      <td>PA</td>\n",
       "      <td>19147</td>\n",
       "      <td>39.939825</td>\n",
       "      <td>-75.157447</td>\n",
       "      <td>4.0</td>\n",
       "      <td>65</td>\n",
       "      <td>1</td>\n",
       "    </tr>\n",
       "    <tr>\n",
       "      <th>35</th>\n",
       "      <td>aPNXGTDkf-4bjhyMBQxqpQ</td>\n",
       "      <td>Craft Hall</td>\n",
       "      <td>901 N Delaware Ave</td>\n",
       "      <td>Philadelphia</td>\n",
       "      <td>PA</td>\n",
       "      <td>19123</td>\n",
       "      <td>39.962582</td>\n",
       "      <td>-75.135657</td>\n",
       "      <td>3.5</td>\n",
       "      <td>65</td>\n",
       "      <td>2</td>\n",
       "    </tr>\n",
       "  </tbody>\n",
       "</table>\n",
       "</div>"
      ],
      "text/plain": [
       "               business_id                name             address  \\\n",
       "3   MTSW4McQd7CbVtyjqoe9mw  St Honore Pastries         935 Race St   \n",
       "15  MUTTqe8uqyMdBl186RmNeA            Tuna Bar         205 Race St   \n",
       "19  ROeacJQwBeh05Rqg7F6TCg                 BAP       1224 South St   \n",
       "28  QdN72BWoyFypdGJhhI5r7g             Bar One        767 S 9th St   \n",
       "35  aPNXGTDkf-4bjhyMBQxqpQ          Craft Hall  901 N Delaware Ave   \n",
       "\n",
       "            city state postal_code   latitude  longitude  stars  review_count  \\\n",
       "3   Philadelphia    PA       19107  39.955505 -75.155564    4.0            80   \n",
       "15  Philadelphia    PA       19106  39.953949 -75.143226    4.0           245   \n",
       "19  Philadelphia    PA       19147  39.943223 -75.162568    4.5           205   \n",
       "28  Philadelphia    PA       19147  39.939825 -75.157447    4.0            65   \n",
       "35  Philadelphia    PA       19123  39.962582 -75.135657    3.5            65   \n",
       "\n",
       "   price_level  \n",
       "3            1  \n",
       "15           3  \n",
       "19           1  \n",
       "28           1  \n",
       "35           2  "
      ]
     },
     "execution_count": 10,
     "metadata": {},
     "output_type": "execute_result"
    }
   ],
   "source": [
    "philly_rest.head()"
   ]
  },
  {
   "cell_type": "markdown",
   "id": "99b8c932-dd1c-459c-a1d4-b6cbdd677b40",
   "metadata": {},
   "source": [
    "### Column Explanation:\n",
    "- price_level: 1-4, 1 is lowest, 4 is highest"
   ]
  },
  {
   "cell_type": "code",
   "execution_count": 13,
   "id": "1f593fa7-5a91-4385-8714-b8a374d30043",
   "metadata": {
    "tags": []
   },
   "outputs": [
    {
     "data": {
      "text/html": [
       "<div>\n",
       "<style scoped>\n",
       "    .dataframe tbody tr th:only-of-type {\n",
       "        vertical-align: middle;\n",
       "    }\n",
       "\n",
       "    .dataframe tbody tr th {\n",
       "        vertical-align: top;\n",
       "    }\n",
       "\n",
       "    .dataframe thead th {\n",
       "        text-align: right;\n",
       "    }\n",
       "</style>\n",
       "<table border=\"1\" class=\"dataframe\">\n",
       "  <thead>\n",
       "    <tr style=\"text-align: right;\">\n",
       "      <th></th>\n",
       "      <th>business_id</th>\n",
       "      <th>name</th>\n",
       "      <th>address</th>\n",
       "      <th>city</th>\n",
       "      <th>state</th>\n",
       "      <th>postal_code</th>\n",
       "      <th>latitude</th>\n",
       "      <th>longitude</th>\n",
       "      <th>stars</th>\n",
       "      <th>review_count</th>\n",
       "      <th>price_level</th>\n",
       "      <th>full_address</th>\n",
       "    </tr>\n",
       "  </thead>\n",
       "  <tbody>\n",
       "    <tr>\n",
       "      <th>0</th>\n",
       "      <td>MTSW4McQd7CbVtyjqoe9mw</td>\n",
       "      <td>St Honore Pastries</td>\n",
       "      <td>935 Race St</td>\n",
       "      <td>Philadelphia</td>\n",
       "      <td>PA</td>\n",
       "      <td>19107</td>\n",
       "      <td>39.955505</td>\n",
       "      <td>-75.155564</td>\n",
       "      <td>4.0</td>\n",
       "      <td>80</td>\n",
       "      <td>1</td>\n",
       "      <td>935 Race St, Philadelphia, PA, 19107</td>\n",
       "    </tr>\n",
       "    <tr>\n",
       "      <th>1</th>\n",
       "      <td>MUTTqe8uqyMdBl186RmNeA</td>\n",
       "      <td>Tuna Bar</td>\n",
       "      <td>205 Race St</td>\n",
       "      <td>Philadelphia</td>\n",
       "      <td>PA</td>\n",
       "      <td>19106</td>\n",
       "      <td>39.953949</td>\n",
       "      <td>-75.143226</td>\n",
       "      <td>4.0</td>\n",
       "      <td>245</td>\n",
       "      <td>3</td>\n",
       "      <td>205 Race St, Philadelphia, PA, 19106</td>\n",
       "    </tr>\n",
       "    <tr>\n",
       "      <th>2</th>\n",
       "      <td>ROeacJQwBeh05Rqg7F6TCg</td>\n",
       "      <td>BAP</td>\n",
       "      <td>1224 South St</td>\n",
       "      <td>Philadelphia</td>\n",
       "      <td>PA</td>\n",
       "      <td>19147</td>\n",
       "      <td>39.943223</td>\n",
       "      <td>-75.162568</td>\n",
       "      <td>4.5</td>\n",
       "      <td>205</td>\n",
       "      <td>1</td>\n",
       "      <td>1224 South St, Philadelphia, PA, 19147</td>\n",
       "    </tr>\n",
       "    <tr>\n",
       "      <th>3</th>\n",
       "      <td>QdN72BWoyFypdGJhhI5r7g</td>\n",
       "      <td>Bar One</td>\n",
       "      <td>767 S 9th St</td>\n",
       "      <td>Philadelphia</td>\n",
       "      <td>PA</td>\n",
       "      <td>19147</td>\n",
       "      <td>39.939825</td>\n",
       "      <td>-75.157447</td>\n",
       "      <td>4.0</td>\n",
       "      <td>65</td>\n",
       "      <td>1</td>\n",
       "      <td>767 S 9th St, Philadelphia, PA, 19147</td>\n",
       "    </tr>\n",
       "    <tr>\n",
       "      <th>4</th>\n",
       "      <td>aPNXGTDkf-4bjhyMBQxqpQ</td>\n",
       "      <td>Craft Hall</td>\n",
       "      <td>901 N Delaware Ave</td>\n",
       "      <td>Philadelphia</td>\n",
       "      <td>PA</td>\n",
       "      <td>19123</td>\n",
       "      <td>39.962582</td>\n",
       "      <td>-75.135657</td>\n",
       "      <td>3.5</td>\n",
       "      <td>65</td>\n",
       "      <td>2</td>\n",
       "      <td>901 N Delaware Ave, Philadelphia, PA, 19123</td>\n",
       "    </tr>\n",
       "  </tbody>\n",
       "</table>\n",
       "</div>"
      ],
      "text/plain": [
       "              business_id                name             address  \\\n",
       "0  MTSW4McQd7CbVtyjqoe9mw  St Honore Pastries         935 Race St   \n",
       "1  MUTTqe8uqyMdBl186RmNeA            Tuna Bar         205 Race St   \n",
       "2  ROeacJQwBeh05Rqg7F6TCg                 BAP       1224 South St   \n",
       "3  QdN72BWoyFypdGJhhI5r7g             Bar One        767 S 9th St   \n",
       "4  aPNXGTDkf-4bjhyMBQxqpQ          Craft Hall  901 N Delaware Ave   \n",
       "\n",
       "           city state  postal_code   latitude  longitude  stars  review_count  \\\n",
       "0  Philadelphia    PA        19107  39.955505 -75.155564    4.0            80   \n",
       "1  Philadelphia    PA        19106  39.953949 -75.143226    4.0           245   \n",
       "2  Philadelphia    PA        19147  39.943223 -75.162568    4.5           205   \n",
       "3  Philadelphia    PA        19147  39.939825 -75.157447    4.0            65   \n",
       "4  Philadelphia    PA        19123  39.962582 -75.135657    3.5            65   \n",
       "\n",
       "   price_level                                 full_address  \n",
       "0            1         935 Race St, Philadelphia, PA, 19107  \n",
       "1            3         205 Race St, Philadelphia, PA, 19106  \n",
       "2            1       1224 South St, Philadelphia, PA, 19147  \n",
       "3            1        767 S 9th St, Philadelphia, PA, 19147  \n",
       "4            2  901 N Delaware Ave, Philadelphia, PA, 19123  "
      ]
     },
     "execution_count": 13,
     "metadata": {},
     "output_type": "execute_result"
    }
   ],
   "source": [
    "# compile address, city, etc columns into one address column\n",
    "philly_rest['full_address'] = philly_rest[['address', 'city', 'state', 'postal_code']].astype(str).agg(', '.join, axis=1)\n",
    "philly_rest.head()"
   ]
  },
  {
   "cell_type": "code",
   "execution_count": 14,
   "id": "6942a5cc-b9dd-4df9-8d6e-525f0df3ff20",
   "metadata": {
    "tags": []
   },
   "outputs": [],
   "source": [
    "# drop extra columns\n",
    "philly_rest = philly_rest.drop(['address', 'city', 'state', 'postal_code'], axis=1)"
   ]
  },
  {
   "cell_type": "code",
   "execution_count": 16,
   "id": "9a71f937-709c-4149-a708-9dafd426462e",
   "metadata": {
    "tags": []
   },
   "outputs": [],
   "source": [
    "# Export csv\n",
    "philly_rest.to_csv('philly_restaurants.csv', index=False)"
   ]
  },
  {
   "cell_type": "markdown",
   "id": "c1de8f4b-31a9-4c02-9a19-4c8a91b7ef6c",
   "metadata": {},
   "source": [
    "# Cleaning Review Dataset"
   ]
  },
  {
   "cell_type": "code",
   "execution_count": 11,
   "id": "0cb6bea0-aa60-4f7a-8145-0bccb7e6ae8e",
   "metadata": {
    "tags": []
   },
   "outputs": [],
   "source": [
    "# Get business ids from philly_restaurants.csv\n",
    "philly_rest = pd.read_csv(\"philly_restaurants.csv\", low_memory=False)\n",
    "ids = philly_rest['business_id'].unique()"
   ]
  },
  {
   "cell_type": "code",
   "execution_count": 13,
   "id": "d33839b3-7185-4d54-8aa8-7960d177c2f9",
   "metadata": {
    "tags": []
   },
   "outputs": [
    {
     "name": "stdout",
     "output_type": "stream",
     "text": [
      "Extracting JSON file: yelp_academic_dataset_review.json\n",
      "Done\n"
     ]
    }
   ],
   "source": [
    "# Extracting dataframe from yelp_academic_dataset_review.json\n",
    "\n",
    "# Path to your ZIP file\n",
    "zip_path = \"Yelp-JSON.zip\"\n",
    "\n",
    "# Open ZIP file without loading everything into memory\n",
    "with zipfile.ZipFile(zip_path, 'r') as zip_ref:\n",
    "    # Find the first .tar file in the ZIP\n",
    "    tar_file_name = next(name for name in zip_ref.namelist() if name.endswith('.tar'))\n",
    "\n",
    "    # Open TAR file directly from ZIP without reading it all at once\n",
    "    with zip_ref.open(tar_file_name) as tar_bytes, tarfile.open(fileobj=tar_bytes) as tar_file:\n",
    "        # Find review dataset within the TAR\n",
    "        json_file_name = 'yelp_academic_dataset_review.json'\n",
    "        print(f\"Extracting JSON file: {json_file_name}\")\n",
    "\n",
    "        # Open JSON file directly from the TAR archive (streaming, no full extraction)\n",
    "        with tar_file.extractfile(json_file_name) as json_file:\n",
    "            data_list = []  # Collect JSON objects into a list\n",
    "            \n",
    "            for line in json_file:  # Read each line of the JSON file\n",
    "                json_data = line.decode('utf-8').strip()\n",
    "                if not json_data:\n",
    "                    continue  # Skip empty lines\n",
    "                \n",
    "                try:\n",
    "                    parsed_json = json.loads(json_data)  # Parse JSON line\n",
    "                    data_list.append(parsed_json)  # Append to list\n",
    "                except json.JSONDecodeError as e:\n",
    "                    print(f\"Skipping invalid JSON line: {e}\")\n",
    "            \n",
    "            # Convert to DataFrame once after collecting all data\n",
    "            df = pd.DataFrame(data_list)\n",
    "            \n",
    "            # # Filter to restaurants in Pennsylvania \n",
    "            # df = df[df[\"business_id\"].isin(ids)]\n",
    "\n",
    "print(\"Done\")"
   ]
  },
  {
   "cell_type": "code",
   "execution_count": 16,
   "id": "b469e78e-2df9-4a02-9d70-be373a54e4ec",
   "metadata": {
    "tags": []
   },
   "outputs": [
    {
     "data": {
      "text/plain": [
       "(6990280, 9)"
      ]
     },
     "metadata": {},
     "output_type": "display_data"
    },
    {
     "data": {
      "text/plain": [
       "'2005-02-16 03:23:22'"
      ]
     },
     "metadata": {},
     "output_type": "display_data"
    },
    {
     "data": {
      "text/plain": [
       "'2022-01-19 19:48:45'"
      ]
     },
     "metadata": {},
     "output_type": "display_data"
    }
   ],
   "source": [
    "# entire dataset \n",
    "display(df.shape)\n",
    "display(df['date'].min())\n",
    "display(df['date'].max())"
   ]
  },
  {
   "cell_type": "code",
   "execution_count": 17,
   "id": "d3e3a234-fdfa-424c-8dd3-d2ef0bd6bc3c",
   "metadata": {
    "tags": []
   },
   "outputs": [],
   "source": [
    "# Filter to restaurants in Pennsylvania \n",
    "df = df[df[\"business_id\"].isin(ids)]\n",
    "\n",
    "# Drop unnecessary columns\n",
    "cols = ['user_id','useful','funny','cool']\n",
    "df.drop(cols, axis=1, inplace=True)"
   ]
  },
  {
   "cell_type": "code",
   "execution_count": 18,
   "id": "ee2da802-04b0-44d3-a54b-4865c21f178b",
   "metadata": {
    "tags": []
   },
   "outputs": [
    {
     "data": {
      "text/html": [
       "<div>\n",
       "<style scoped>\n",
       "    .dataframe tbody tr th:only-of-type {\n",
       "        vertical-align: middle;\n",
       "    }\n",
       "\n",
       "    .dataframe tbody tr th {\n",
       "        vertical-align: top;\n",
       "    }\n",
       "\n",
       "    .dataframe thead th {\n",
       "        text-align: right;\n",
       "    }\n",
       "</style>\n",
       "<table border=\"1\" class=\"dataframe\">\n",
       "  <thead>\n",
       "    <tr style=\"text-align: right;\">\n",
       "      <th></th>\n",
       "      <th>review_id</th>\n",
       "      <th>business_id</th>\n",
       "      <th>stars</th>\n",
       "      <th>text</th>\n",
       "      <th>date</th>\n",
       "    </tr>\n",
       "  </thead>\n",
       "  <tbody>\n",
       "    <tr>\n",
       "      <th>13</th>\n",
       "      <td>8JFGBuHMoiNDyfcxuWNtrA</td>\n",
       "      <td>RZtGWDLCAtuipwaZ-UfjmQ</td>\n",
       "      <td>4.0</td>\n",
       "      <td>Good food--loved the gnocchi with marinara\\nth...</td>\n",
       "      <td>2009-10-14 19:57:14</td>\n",
       "    </tr>\n",
       "    <tr>\n",
       "      <th>16</th>\n",
       "      <td>oyaMhzBSwfGgemSGuZCdwQ</td>\n",
       "      <td>YtSqYv1Q_pOltsVPSx54SA</td>\n",
       "      <td>5.0</td>\n",
       "      <td>Tremendous service (Big shout out to Douglas) ...</td>\n",
       "      <td>2013-06-24 11:21:25</td>\n",
       "    </tr>\n",
       "    <tr>\n",
       "      <th>19</th>\n",
       "      <td>Xs8Z8lmKkosqW5mw_sVAoA</td>\n",
       "      <td>eFvzHawVJofxSnD7TgbZtg</td>\n",
       "      <td>5.0</td>\n",
       "      <td>My absolute favorite cafe in the city. Their b...</td>\n",
       "      <td>2014-11-12 15:30:27</td>\n",
       "    </tr>\n",
       "    <tr>\n",
       "      <th>49</th>\n",
       "      <td>cvQXRFLCyr0S7EgFb4lZqw</td>\n",
       "      <td>EtKSTHV5Qx_Q7Aur9o4kQQ</td>\n",
       "      <td>5.0</td>\n",
       "      <td>On a scale of one to things that are awesome, ...</td>\n",
       "      <td>2009-10-14 01:15:04</td>\n",
       "    </tr>\n",
       "    <tr>\n",
       "      <th>51</th>\n",
       "      <td>r2IBPY_E8AE5_GpsqlONyg</td>\n",
       "      <td>VJEzpfLs_Jnzgqh5A_FVTg</td>\n",
       "      <td>4.0</td>\n",
       "      <td>It was my fiance's birthday and he decided he ...</td>\n",
       "      <td>2014-04-01 13:05:18</td>\n",
       "    </tr>\n",
       "  </tbody>\n",
       "</table>\n",
       "</div>"
      ],
      "text/plain": [
       "                 review_id             business_id  stars  \\\n",
       "13  8JFGBuHMoiNDyfcxuWNtrA  RZtGWDLCAtuipwaZ-UfjmQ    4.0   \n",
       "16  oyaMhzBSwfGgemSGuZCdwQ  YtSqYv1Q_pOltsVPSx54SA    5.0   \n",
       "19  Xs8Z8lmKkosqW5mw_sVAoA  eFvzHawVJofxSnD7TgbZtg    5.0   \n",
       "49  cvQXRFLCyr0S7EgFb4lZqw  EtKSTHV5Qx_Q7Aur9o4kQQ    5.0   \n",
       "51  r2IBPY_E8AE5_GpsqlONyg  VJEzpfLs_Jnzgqh5A_FVTg    4.0   \n",
       "\n",
       "                                                 text                 date  \n",
       "13  Good food--loved the gnocchi with marinara\\nth...  2009-10-14 19:57:14  \n",
       "16  Tremendous service (Big shout out to Douglas) ...  2013-06-24 11:21:25  \n",
       "19  My absolute favorite cafe in the city. Their b...  2014-11-12 15:30:27  \n",
       "49  On a scale of one to things that are awesome, ...  2009-10-14 01:15:04  \n",
       "51  It was my fiance's birthday and he decided he ...  2014-04-01 13:05:18  "
      ]
     },
     "execution_count": 18,
     "metadata": {},
     "output_type": "execute_result"
    }
   ],
   "source": [
    "df.head()"
   ]
  },
  {
   "cell_type": "code",
   "execution_count": 19,
   "id": "7324b0da-adec-4bc6-a69f-3d8e9f964659",
   "metadata": {
    "tags": []
   },
   "outputs": [],
   "source": [
    "# Export csv\n",
    "df.to_csv(\"philly_reviews.csv\", index=False)"
   ]
  },
  {
   "cell_type": "markdown",
   "id": "66856299-468b-429d-aac2-ddd9d7e1c392",
   "metadata": {},
   "source": [
    "# Exploratory Plots"
   ]
  },
  {
   "cell_type": "code",
   "execution_count": 56,
   "id": "a63f12a1-62a0-4a1a-a7b9-6bbfbe4a1edc",
   "metadata": {
    "tags": []
   },
   "outputs": [
    {
     "data": {
      "application/vnd.plotly.v1+json": {
       "config": {
        "plotlyServerURL": "https://plot.ly"
       },
       "data": [
        {
         "hovertemplate": "<b>%{hovertext}</b><br><br>Price Level=1<br>latitude=%{lat}<br>longitude=%{lon}<extra></extra>",
         "hovertext": [
          "St Honore Pastries",
          "BAP",
          "Bar One",
          "Red Hook Coffee & Tea",
          "Crown Fried Chicken",
          "Bistro St. Tropez",
          "The Royal Indian Cuisine",
          "McDonald's",
          "Cedar Park Cafe",
          "Wawa",
          "Minas Pizza",
          "The Lunar Inn",
          "Benna's West",
          "Izumi",
          "McDonald's",
          "Taqueria La Hacienda",
          "Han Dynasty",
          "Hakka Beef House",
          "Guavaberry Foods & Drinks ",
          "Junes Breakfast",
          "Lincoln Chicken Pizza And Grill",
          "Pho Nam Giang",
          "Quality Pizza",
          "Three 12 Sport Bar and Lounge",
          "Sonam",
          "Villagio Pizza Cafe",
          "Papa Sam",
          "Pizza Hut",
          "Vineyards Cafe",
          "Ron's Caribbean Cuisine",
          "Latin Flavor",
          "The Fat ChickeN",
          "Nannie Francos Pizza",
          "The Blue Duck",
          "Chevy’s Famous Thin Crust Pizza",
          "Charlie's Roast Pork",
          "Philippine Jeepney Grill",
          "Loco Lucho's Latino Kitchen",
          "Potito's Italian American Pastries",
          "Dae Jang Geum",
          "Sorrento Pizzeria And Grill",
          "Sam's Pizza",
          "George's Sandwich Shop",
          "The Palace of Indian",
          "Moon Flower House",
          "Holmesburg Bakery",
          "Champps Penn's Landing",
          "Flow State CoffeeBar",
          "Jay's Favorite Sushi Bar",
          "Foodery",
          "Zorba's Taverna",
          "Day Break Eggs",
          "Bitar's",
          "Franklin's",
          "Cheu Noodle Bar",
          "Samosa Vegetarian",
          "KASUMI SUSHI",
          "Wawa",
          "Joe's Steaks + Soda Shop",
          "Mel's Kitchen",
          "Lloyd Whiskey Bar",
          "Smiley's Cafe",
          "McDonald's",
          "The Original Hot Dog Factory",
          "The Boilermaker",
          "Giovani Pizza",
          "Prohibition Taproom",
          "Asadero los tios",
          "Zio Pizza Palace & Grill",
          "In the Valley",
          "Bridgewater's Pub",
          "Frank's Spaghetti House",
          "Cosi",
          "Smokey Pint",
          "La Colombe Coffee",
          "Mike's Hot Dog Cart",
          "Romano's Pizza Express",
          "Philly's Finest Pizza",
          "Giovanni's Pizzeria",
          "Liberty Bar & Grill",
          "Chan's Halal Restaurant",
          "Trio Breakfast & Lunch",
          "Ariana",
          "Penang",
          "Foods On First",
          "Los Caballos Locos",
          "Domino's Pizza",
          "Nhu Y",
          "Aldine",
          "Eatalia",
          "Federal Donuts",
          "Punch Buggy Brewing",
          "City Grange",
          "Essene Market & Café",
          "Rittenhouse Grill",
          "Wings To Go",
          "Convenient Food Mart",
          "Boom Buns",
          "Pitruco Pizza Franklin's Table",
          "Big Geez Chicken Shack ",
          "Chaat and Chai",
          "Heirloom Fine American Cookery",
          "Mom's Bake At Home Pizza",
          "London Grill",
          "Dinardo's Famous Crabs",
          "Lite Choice",
          "Spice Mandarin Cuisine",
          "Wawa",
          "Pho Street",
          "China House",
          "Marmont Steakhouse & Bar",
          "Pikes Corner",
          "Tiedhouse",
          "Flannel",
          "Boostin' Bowls",
          "McDonald's",
          "Naf Naf Grill",
          "Ken's Seafood Restaurant",
          "1 Stop Pizza",
          "3J's Food Market",
          "Mack's Boardwalk Pizza",
          "To-Yo Japanese Restaurant",
          "Wings & More",
          "Miami Cafe",
          "Brodo",
          "Poke Bowl",
          "New Tavern Bar",
          "Cleopatra Cafe",
          "Tartes Pastry Shop",
          "Bubblefish",
          "Mediterranean Banquet Hall",
          "Amada",
          "Buk Chon Korean Cuisine",
          "Oishii",
          "Pho Nam Vietnamese Restaurant",
          "BRÜ Craft & Wurst",
          "Neighborhood Ramen",
          "El Purepecha",
          "Sarah & Sylvia's Soul Food",
          "Vito's Pizza & Grill",
          "Sakeya Japanese Restaurant",
          "Machismo Burrito Bar",
          "Hurricane Alley",
          "Prince Pizza II",
          "Token",
          "Shanks Original",
          "South Philadelphia Tap Room",
          "Italian Bistro",
          "Philadelphia Bar & Restaurant",
          "Nick's Famous Pizza",
          "Happy Lamb Hot Pot",
          "New Delhi Indian Restaurant",
          "Rosy's Taco Bar",
          "Murphy's Tavern",
          "The Lucky Well - Spring Arts",
          "Pizza Hut",
          "QDOBA Mexican Eats",
          "Good Dog Bar",
          "Kabuki Sushi",
          "Rayaki - Philadelphia",
          "Bleu Sushi",
          "Benna's Cafe",
          "Tyson Bees",
          "Vesper Sporting Club - Center City",
          "Green Soul",
          "Coeur",
          "SoBol-University City",
          "Applebee's Grill + Bar",
          "Originals Italian Restaurant & Bar",
          "Parc",
          "Bistrot La Minette",
          "Simon's Kosher",
          "DP Dough",
          "La Casa Del Mofongo",
          "Marathon",
          "The Strip Joint",
          "Sal's Produce Plus",
          "Doc Watson's Pub",
          "Cosmic Café and Ciderhouse",
          "Mezzogiorno",
          "Pita Chip",
          "honeygrow",
          "Solaris Grille",
          "Pearl Tavern",
          "Pizzeria Pesto",
          "Pennsylvania 6",
          "Daiva's Grille",
          "Mi Lah",
          "Seafood Sensations",
          "Pizzeria Vetri",
          "Mad Rex",
          "Sonic Drive-In",
          "Kitchen B & L",
          "Hunger Burger",
          "Rami's",
          "Drinker's Tavern",
          "O'Mares Irish Pub",
          "Le Bercail Restaurant",
          "Independence Prime",
          "Currito",
          "Stolovaya",
          "Seulanga",
          "Linda's Vegetarian Village Restaurant",
          "Big Daddy Pizza",
          "Crown Chicken & Burger",
          "America's Best Wings",
          "New Leaf 2 Chinese & Japanese Cuisine",
          "Pho-ladelphia",
          "Nick's Roast Beef",
          "Papa John's Pizza",
          "Shang Hai 1",
          "Freddy & Tony's Restaurant",
          "Sannie Japanese Chinese",
          "Raindrop Cafe",
          "Level 33",
          "Naana Xtra-O Restaurant",
          "Tango",
          "U-Town",
          "New China",
          "Cosmis Pastries",
          "Char Kol",
          "Cilantro New Mediterranean Cuisine",
          "Victorias Pizza",
          "U Got Munchies",
          "Ho's Chinese Restaurant",
          "OCF Coffee House",
          "Via Napoli",
          "Hot Potato Cafe",
          "5 n 2 Tokyo",
          "Subway",
          "Koch's Deli",
          "McDonald's",
          "Yomitori",
          "Urban Enoteca",
          "Temple Rainbow",
          "Moe's Deli Restaurant",
          "Branzino Italian Ristorante",
          "Ed's Pizza House",
          "Aqua Asian Bistro",
          "Mandarin Palace",
          "20th Street Pizza",
          "Greg's Kitchen",
          "Bridget Foy's",
          "Subway",
          "Le Bar Lyonnais",
          "Best China Inn",
          "Village Pizza",
          "Super Fratelli's Pizza",
          "Marianna's Pizzeria",
          "1st NE International Market",
          "2nd State Lounge",
          "Hong Restaurant",
          "Zahav",
          "Germantown Garden",
          "HNT Chicken",
          "Balducci's",
          "Paul",
          "Loco Pez",
          "The Breakfast Boutique",
          "Alma Del Mar",
          "El Guaco Loco",
          "M Restaurant",
          "Don Chucho",
          "Gleaner's Cafe",
          "La Mamiringa Restaurant",
          "Wawa",
          "Pat's Pizza Express",
          "DOHO Taqueria",
          "Jim's Steaks",
          "Chat On Chew",
          "Wawa",
          "Fountain Restaurant",
          "Au Bon Pain",
          "Corfu Pizza"
         ],
         "lat": [
          39.9555052,
          39.943223,
          39.9398245705,
          39.9385518,
          39.9368911,
          39.9535919923,
          39.948365,
          40.0884161,
          39.94796,
          39.9510885597,
          40.0352350987,
          39.9822933,
          39.931855,
          39.929738,
          39.9394402,
          40.02202,
          39.9567105161,
          39.9554945,
          39.938371,
          39.9850064107,
          39.9738754,
          40.0860776,
          40.0509209,
          39.9499452,
          39.9412971,
          39.9851818,
          40.0394759,
          39.9130548,
          39.969939,
          40.0407573,
          39.9422752,
          39.9227051442,
          39.922527,
          40.0571673033,
          40.0582111,
          39.9315335419,
          40.0575027,
          39.9531593,
          39.9210221,
          40.0675529,
          39.9498507065,
          40.0310045,
          39.9388315986,
          39.9299499,
          40.0295791831,
          40.0410115,
          39.9206642975,
          39.981907,
          39.950303,
          39.9448121788,
          39.9671642,
          39.9387267,
          39.9346516,
          40.0110062,
          39.9467949,
          39.9488451,
          39.9102554,
          40.0607947,
          40.0185131,
          40.0359954,
          39.9713575331,
          40.024774,
          40.0503776775,
          39.9554278,
          39.948104,
          39.9512536,
          39.9613018,
          40.0568875,
          39.955065,
          39.929453,
          39.95528,
          40.056184,
          39.9536708974,
          40.001447,
          39.9506099,
          39.9223806,
          39.9952251,
          40.0681765,
          40.0334795,
          39.9538230896,
          39.9798334,
          40.03145806,
          39.9481961938,
          39.954044,
          39.954879,
          39.9179108,
          40.0275052,
          39.938591,
          39.9519296405,
          39.9749514719,
          39.951007,
          39.9736435923,
          39.951931,
          39.9399804,
          39.9489487,
          39.958405,
          39.946666,
          40.0428555,
          39.9529913,
          39.9556563,
          39.9245858,
          40.077882,
          40.0736927,
          39.9675638,
          39.9540048,
          39.9497521,
          40.0414916,
          40.0403385055,
          39.9536619,
          40.0631649,
          39.9497397,
          40.066525,
          39.9628296,
          39.9272227151,
          40.0261216129,
          39.9498587626,
          40.0074349,
          39.9551567,
          40.0093835,
          39.9629932991,
          39.9156866,
          40.1246991,
          39.9362327,
          39.941958,
          39.9521366,
          39.965637,
          39.9542243,
          39.9563712,
          39.9518037,
          39.9536791,
          39.9253058646,
          39.9485863525,
          39.9482156,
          39.948271,
          40.0392904629,
          39.9503152253,
          39.9408923,
          39.9581334616,
          39.9583988,
          39.9961753,
          39.947954,
          40.0250919,
          39.9415588259,
          40.043756,
          39.9660455611,
          39.934831,
          39.927216,
          40.0731939,
          39.9496707,
          40.0351703,
          39.9539683,
          39.9553921,
          39.9508956186,
          40.0313311,
          39.961265,
          39.9225254,
          39.9495796084,
          39.948793,
          39.9535852,
          40.04378,
          39.9463986271,
          39.932994,
          39.9591692932,
          39.9489408,
          40.0637135,
          39.938845,
          39.9512731815,
          39.94883,
          40.049706,
          39.9491724,
          39.9414622968,
          40.042695,
          39.9561884,
          40.022133,
          39.9504196,
          39.940805,
          39.9664186,
          39.9480983,
          39.9695828,
          39.8740344184,
          39.9779222117,
          39.9537318071,
          40.073702,
          39.948987982,
          39.9261118,
          39.9497992,
          40.0413479,
          39.9557799,
          40.0543117,
          39.94941083,
          39.96486,
          39.9983682,
          40.0448433774,
          39.9532586925,
          39.9529565,
          39.9496657,
          40.1090254,
          39.9492094,
          39.8745568189,
          39.874423,
          40.0936845,
          39.9277585,
          40.0458535,
          40.0812146,
          39.9437144134,
          39.9563712,
          40.0247036,
          39.9223166,
          40.083729,
          40.034832,
          39.9541205693,
          39.9992623,
          40.0500021,
          39.9548117,
          39.951784,
          40.0396179,
          39.954001,
          39.954974092,
          39.9192864,
          39.9166943,
          39.9505301,
          39.9411149,
          40.0549817,
          39.9837643,
          39.9288656717,
          39.9530331794,
          40.0731939,
          39.971488,
          39.941934,
          39.9508785,
          39.953956271,
          39.954342,
          39.9508935,
          39.9501753,
          39.9860341408,
          40.0378561,
          39.9480133,
          40.0255724,
          39.9502734691,
          39.9518886,
          39.9517078,
          40.0267886888,
          39.9411136,
          39.9562697,
          39.949919,
          39.9541202,
          39.9604873,
          40.110289,
          40.0557918,
          40.0415953142,
          39.9417056,
          40.039174,
          39.9462611465,
          39.966258,
          40.0077753725,
          39.881297,
          39.9449491,
          39.977142,
          40.0586918,
          39.9373099378,
          39.983036976,
          39.9473257341,
          39.9360042563,
          39.938929,
          40.027564,
          39.9482296,
          40.0484332935,
          40.0497663,
          39.9692157,
          40.0380838,
          39.9492309,
          39.9567043,
          39.8803399012,
          40.056005
         ],
         "legendgroup": "1",
         "lon": [
          -75.1555641,
          -75.162568,
          -75.1574465632,
          -75.1496356,
          -75.1672837,
          -75.1794226902,
          -75.1744997,
          -74.9650112,
          -75.22198,
          -75.1989988336,
          -75.2167929785,
          -75.1031599,
          -75.168473,
          -75.1633963,
          -75.1668049,
          -75.1240606,
          -75.1971027811,
          -75.1552563,
          -75.1501031,
          -75.246888042,
          -75.1794242,
          -74.9648083509,
          -75.094581,
          -75.146352,
          -75.1466064,
          -75.1067498,
          -75.0778205,
          -75.149704,
          -75.163026,
          -75.1448014,
          -75.1532337,
          -75.1861358061,
          -75.1644732,
          -75.0304835714,
          -75.0868253,
          -75.1496175304,
          -75.0525701,
          -75.1590984,
          -75.1744313,
          -75.1472469,
          -75.2332982,
          -75.0836118,
          -75.1579846257,
          -75.1629175,
          -75.0583349168,
          -75.0284172,
          -75.1416778564,
          -75.127012,
          -75.166856,
          -75.158305077,
          -75.1748969,
          -75.1923844,
          -75.1602726,
          -75.189062,
          -75.1577025,
          -75.1612613,
          -75.1869588,
          -75.1920424,
          -75.0581372,
          -75.2359063583,
          -75.127588677,
          -75.2214354,
          -75.0094825029,
          -75.1643767,
          -75.159407,
          -75.1661282,
          -75.1593118,
          -75.0154664,
          -75.1541846,
          -75.1636243,
          -75.18251,
          -75.061858,
          -75.1949572908,
          -75.07655,
          -75.172368,
          -75.1869289,
          -75.1393742,
          -75.068702,
          -75.1758562,
          -75.1769866943,
          -75.232945,
          -75.1788476379,
          -75.1437439718,
          -75.15598,
          -75.1644704,
          -75.1491694,
          -75.2094578,
          -75.156532,
          -75.1721942396,
          -75.1184531736,
          -75.159898,
          -75.1395907626,
          -75.1679499,
          -75.1492562,
          -75.1695317,
          -75.163972,
          -75.163993,
          -75.0737309,
          -75.1922872,
          -75.2255038,
          -75.1726715,
          -75.2088615,
          -75.1978144,
          -75.1754915,
          -75.1454969,
          -75.1674681,
          -75.0648356,
          -75.2234230242,
          -75.1754204,
          -75.1519159,
          -75.1445806,
          -75.158273,
          -75.1719117,
          -75.1663260162,
          -75.2246050321,
          -75.1695573452,
          -75.2124437,
          -75.1562026,
          -75.1506617,
          -75.1406934857,
          -75.1640201,
          -75.0155235,
          -75.1586195,
          -75.15019,
          -75.170218,
          -75.140681,
          -75.212136,
          -75.2061225,
          -75.1438627,
          -75.1551081,
          -75.1732910797,
          -75.1449131188,
          -75.143697,
          -75.1438587,
          -75.1080869401,
          -75.1624865435,
          -75.147458,
          -75.158424899,
          -75.2080055,
          -75.1537113,
          -75.165882,
          -75.2231789,
          -75.1489446239,
          -75.0854452,
          -75.1392937134,
          -75.142057,
          -75.171477,
          -75.0352627,
          -75.1431203,
          -75.1787516,
          -75.1570234,
          -75.2026195,
          -75.178367123,
          -75.2079192,
          -75.1541276,
          -75.1856193,
          -75.1672851248,
          -75.1662055,
          -75.1609794,
          -75.05346,
          -75.157800703,
          -75.157736,
          -75.1984187251,
          -75.1668194,
          -75.1527502,
          -75.1564754,
          -75.1979261264,
          -75.165919,
          -74.989807,
          -75.1707273,
          -75.1523852348,
          -75.063771,
          -75.2020815,
          -75.13389,
          -75.1635566,
          -75.179773,
          -75.160911,
          -75.1592326,
          -75.1876317,
          -75.243804085,
          -75.1582708789,
          -75.1978196153,
          -75.202618,
          -75.1600788161,
          -75.1689709,
          -75.1604137,
          -75.2255195,
          -75.1819683,
          -75.1555082,
          -75.1686977423,
          -75.13463,
          -75.093851,
          -75.086436756,
          -75.1589310688,
          -75.2028385,
          -75.143277,
          -75.0254734,
          -75.213722,
          -75.2437496274,
          -75.247136,
          -75.0323494,
          -75.1757526,
          -75.1820573,
          -75.037495,
          -75.1656907284,
          -75.2061225,
          -75.2219543,
          -75.1648601,
          -74.9661299,
          -75.066072,
          -75.1560343422,
          -75.133377,
          -75.0639371,
          -75.1675963,
          -75.1601943,
          -75.0768335,
          -75.157184,
          -75.2025566533,
          -75.1591554,
          -75.1688224,
          -75.1668181,
          -75.1490884,
          -75.0045063,
          -75.1571412,
          -75.1569883722,
          -75.1836618023,
          -75.0352627,
          -75.127697,
          -75.149329,
          -75.1528953034,
          -75.2097241761,
          -75.202337,
          -75.1736476,
          -75.1690403,
          -75.1564947571,
          -75.0386059,
          -75.1693585,
          -75.1683667,
          -75.1659937554,
          -75.1718034,
          -75.1737131,
          -75.2267333767,
          -75.145825,
          -75.1679039,
          -75.166996,
          -75.2112357,
          -75.1891583,
          -75.024127,
          -75.0455197,
          -75.0551653732,
          -75.1492637,
          -75.128641,
          -75.1451350779,
          -75.1382568,
          -75.1743743196,
          -75.2413809,
          -75.1607343,
          -75.127202,
          -75.1497736,
          -75.1580101624,
          -75.1546335178,
          -75.1543113996,
          -75.1585241407,
          -75.157903,
          -75.1321794,
          -75.156935,
          -75.0584227592,
          -75.1848614,
          -75.2430863,
          -75.1296708,
          -75.1507462,
          -75.1697047,
          -75.237121582,
          -75.1406056
         ],
         "marker": {
          "color": "#636EFA"
         },
         "mode": "markers",
         "name": "1",
         "showlegend": true,
         "subplot": "mapbox",
         "type": "scattermapbox"
        },
        {
         "hovertemplate": "<b>%{hovertext}</b><br><br>Price Level=2<br>latitude=%{lat}<br>longitude=%{lon}<extra></extra>",
         "hovertext": [
          "Craft Hall",
          "Wawa",
          "Wendy's",
          "Shanghai Station",
          "Baltic Bakery",
          "Jon's Bar & Grille",
          "Fusion Pizza & Grill",
          "The Love",
          "The Twisted Tail",
          "NY Bagel Cafe & Deli",
          "Mumbai Bistro",
          "Chick-fil-A",
          "Checkers",
          "The Irish Times",
          "24",
          "Sean Thorntons Public House",
          "Morton's The Steakhouse",
          "Flambo Caribbean Restaurant",
          "Naoki Ramen",
          "Ndulge",
          "Chase's Hop Shop",
          "Southgate",
          "Angelina's",
          "Crown Fried Chicken",
          "Gigi and Big R",
          "Spice Grill",
          "Capogiro Gelato",
          "Chenango Restaurant & Bar",
          "The Farm and Fisherman",
          "Dragon House",
          "Buca D’Oro ",
          "J'aime French Bakery",
          "Hammerheads Bar & Grille",
          "Archway Sandwich Shop",
          "Vientiane Café",
          "Wit or Witout Cheesesteaks",
          "Domino's Pizza",
          "My Blue Heaven",
          "Wiz Kid",
          "Tom's Corner Grill & Pizza",
          "Empress Garden",
          "Los Compadres",
          "Los Potrillos",
          "Divino Wine Bar",
          "Capofitto",
          "La Creperie Cafe",
          "Kurry Shack",
          "Rocchino's",
          "Twenty 21",
          "The Black Sheep Pub & Restaurant",
          "Hunnies Crispy Chicken",
          "Slices Pizza",
          "Marrakesh Express",
          "Lazos Pizza & Grill",
          "Ramble Pizza",
          "Kanella",
          "Commonwealth Kitchen",
          "Asian Star",
          "Steve's Prince of Steaks",
          "Bareburger - Midtown Village",
          "Cafe Habana",
          "Las Cazuelas Restaurant BYOB",
          "D'S Caribbean And American Food",
          "Hai Street Kitchen & Co",
          "Tony Express",
          "Camac",
          "Enzo's",
          "Ricci's Hoagies",
          "Oregon Steaks",
          "Slate",
          "Oriental Kitchen",
          "Valley Shepherd Creamery",
          "In & Out Pizza",
          "Mac's Tavern",
          "Pho Hoa Noodle Soup",
          "Tiffin-Etc",
          "Erawan Thai Cuisine",
          "The Pink Dolphin",
          "Chuck E. Cheese",
          "Copabanana",
          "Fratelly Pizza & Restaurant",
          "Cornerstone Inn",
          "Kato's Cajun",
          "Xochitl",
          "Al Sham Restaurant - Philadelphia",
          "The Set Table",
          "Mom Mom's Kitchen and Polish Food Cart",
          "Snackbar",
          "Cily Chicken Rice",
          "Franny Lou's Porch",
          "Qdoba Mexican Grill",
          "Philadelphia Cricket Club",
          "Goldie",
          "Buena Onda",
          "Vientiane Bistro",
          "Izzy's 33",
          "Ava Restaurant",
          "Little Caesars Pizza",
          "Philly Fusion & Grill Chicken Bowl",
          "Ramada Philadelphia Northeast",
          "Happy Joy Family Restaurant",
          "Los Jimenez",
          "Checkers",
          "Bai Wei",
          "Jeisy Grilled Chicken",
          "Green Basil Thai Kitchen",
          "Authentic LanZhou Handpulled Noodles",
          "Ralphs Italian Restaurant",
          "Terron",
          "Independence Brew Pub",
          "Village Burger",
          "Shing Kee",
          "The Post",
          "Pizza Wings Steaks",
          "JD's Soul Food Kitchen",
          "Non Stop Pizza & Grille",
          "Allegro Pizza",
          "Bottom of the Sea",
          "LaScala's",
          "Fabio's Chicken Restaurant Takeout",
          "Nauti Mermaid Crab House",
          "Trattoria Carina",
          "Lee's Breakfast",
          "Bonks Bar",
          "La Fonda De Teresita",
          "MexiCali",
          "Subway",
          "R2L",
          "500 Degrees",
          "Justin's Snack Corner",
          "Otolith Sustainable Seafood",
          "Asian Garden",
          "TyeMeka's Soul Food",
          "Mommy Telly's Famous BBQ",
          "Chickie's & Pete's",
          "Wise Guys Pizza & Steaks",
          "Layalena Hookah Lounge",
          "Lee How Fook",
          "Surf and Turf Market",
          "Bold Coffee Bar",
          "SPOT Gourmet Burgers",
          "Sid Booker's Shrimp",
          "Olde City Food Market",
          "Urban Village Brewing Co",
          "Pizzeria Vetri",
          "Lemoncello Restaurant Philly",
          "2 in One Cafe",
          "Wishbone",
          "Pizza Hut",
          "Pasqually's Pizza",
          "Ruby's Roof Jamaican Restaurant",
          "Koliyan",
          "Wawa",
          "Big Boyz",
          "Vetri Cucina",
          "Amato's Deli Restaurant",
          "Burrito Bonito",
          "Paradise Pizzeria",
          "Wawa",
          "Mixx Japanese Cuisine and Noodle Bar",
          "Poke Burri",
          "Toscanini Grill and Pizza",
          "Rock N' Rolls Egg Rolls",
          "Fez Moroccon Restaurant",
          "Village Bar and Kitchen",
          "The Freshworks of Port Richmond",
          "Les Bons Temps",
          "Wawa Food Markets",
          "Roula's Pizza",
          "Common Grounds Philly",
          "Kopi Latte",
          "Pagoda Noodle Cafe",
          "New Lee's Chinese Restaurant",
          "Larry's Steaks",
          "Market on Ninth",
          "Wawa",
          "Algorithm Restaurants",
          "Say Cheese",
          "Pho Mi Rittenhouse",
          "New Number One Chinese Restaurant",
          "MexiCali",
          "Wingstop",
          "Bocconcini",
          "Midori Sushi",
          "Mayura Indian Restaurant",
          "Honey's Sit-N-Eat",
          "@Ramen",
          "Happy Panda",
          "Tre Scalini Ristorante",
          "Cherry Lounge",
          "Marathon",
          "Friendly Grocery",
          "La Va Cafe",
          "North by Northwest",
          "ShopRite of Whitman Plaza",
          "Aya's Pizza",
          "Tran's Chinese Food Cart",
          "Roselena's",
          "Red Kings 2 Restaurant",
          "Murph's Bar",
          "Abunai Poke",
          "Subway",
          "Bui's",
          "Axis Pizza",
          "Sbraga",
          "Cosi",
          "Mayfair Pizza",
          "Binto",
          "Domino's Pizza",
          "Wahoo's Fish Taco",
          "Revolution House",
          "Charlie Gray's Rib Crib",
          "Johnnie's Italian Restaurant",
          "Dream House Asian Bistro",
          "Maplewood Nutrition & Dietary Food Shop",
          "Core De Roma",
          "Pete's Pizza",
          "Master Wok",
          "Saladworks",
          "Fan's Cafe",
          "Posh Fuel and Food",
          "Omega Pizza & Restaurant",
          "El Merkury",
          "Under the C",
          "The Whiskey Tango",
          "Carangi Baking",
          "Lechonera Principe",
          "Cinder Copper & Lace",
          "Jembatan 5",
          "Devon Seafood Grill",
          "Chifa",
          "Dunkin'",
          "Independence After Hours",
          "Florida Style Pizza",
          "Fresco Tortilla",
          "SouthHouse",
          "Good Day Eatery",
          "Drunk Crab",
          "Dunkin'",
          "Salt & Pepper Deli III",
          "Rieker's Prime Meats",
          "Stix Asian Eatery",
          "T & F Farmers Pride",
          "Banjara Indian Bistro",
          "Carmen's Famous Italian Hoagies",
          "Barone's How U Doin' Deli & Grocery",
          "Imli Indian Kitchen",
          "Five Guys Pizza",
          "Ekta Indian Cuisine",
          "Xin Xing House",
          "Currito Burritos Without Borders",
          "Chopstick House",
          "Captain Hooks",
          "Revolution Diner",
          "Milano's Pizzeria and Grill",
          "Blue Corn",
          "High Street Provisions",
          "Jim's Steaks",
          "Sammy Chon's KTown BBQ",
          "Imperial Palace Chinese Restaurant",
          "Au Bon Pain",
          "Moshi Moshi",
          "McDonald's",
          "Lake Blue Sushi & Cuisine",
          "Aku's Kitchen",
          "Towne Pizza Sub Shop",
          "Bob's Diner",
          "Cucina Maria",
          "Olive Garden Italian Restaurant",
          "Beijing Panda",
          "Germantown Jerk Hut",
          "Teresa's Mesa",
          "Cadillac Grille",
          "M & M Restaurant",
          "Alyan's Restaurant",
          "Terakawa Ramen",
          "Golden Lake",
          "Tria Wine Room",
          "Red Wine Restaurant",
          "Winnie's Manayunk",
          "East Girard Gastropub",
          "Village Belle",
          "Axis Cafe",
          "Spread Bagelry",
          "The Famous Napoli Pizza",
          "Emperor's Garden Chinese Restaurant",
          "MiXXed Breed Cafe",
          "Goodburger",
          "Burger King",
          "Han Dynasty",
          "Penrose Diner",
          "Ecowas African Restaurant",
          "Chipotle Mexican Grill",
          "Fredy & Tony's Restaurant",
          "Cafe Spice Express",
          "Jordan Johnson's Gourmet Seafood",
          "Popeyes Louisiana Kitchen",
          "Nifty Fifty's",
          "Sisters Restaurant & Nightclub",
          "Milo - The Meeting House",
          "The Refinery at SugarHouse Casino",
          "Burger Busz",
          "Tang Dynasty Buffet",
          "Royal's Restaurants",
          "Great Wall Chinese Restaurant",
          "Dumpling House",
          "Au Bon Pain",
          "IHOP",
          "Khmer Grill",
          "52nd Station Diner",
          "WineO",
          "El Techo",
          "Libertine Restauraunt",
          "Dolce Pizza",
          "Temple Town Pizza & Grill",
          "Wingstop",
          "Anna Restaurant",
          "The Chinese Noodle Factory",
          "Philadelphia Taxi Cab",
          "The Institute",
          "El Sarape Restaurant",
          "Soju Biergarten",
          "Con Murphy's",
          "Eclipse Hookah Lounge",
          "Luke's Lobster Market East",
          "Magic Noodles",
          "The Bellevue Hotel",
          "Passage To India",
          "Fish",
          "Haru",
          "Michael's Family Restaurant",
          "Talk Of The Town",
          "By George! Pizza Pasta & Cheesesteaks",
          "Sarku Japan",
          "Spataro's Cheesesteaks",
          "HomeSlice",
          "Bistro 7",
          "KFC",
          "Popeyes Louisiana Kitchen",
          "Bally Pizza",
          "Beijing",
          "Bellini",
          "Sahara Indian Cuisine",
          "Ngon Ngon",
          "Emmy Squared - Queen Village",
          "Food For Your Soul",
          "Akoya at Pearl",
          "Red Sky",
          "Butcher and Singer",
          "Paddy Whacks Irish Sports Pub - Welsh Road",
          "Frannie Nicks",
          "McDonald's",
          "Craft Manayunk",
          "Castellino's",
          "Queen & Rook Game Cafe",
          "Irwin's",
          "Bluestone Lane - Philadelphia",
          "Tony Luke's Beef and Beer Sports Bar",
          "Alimentari",
          "Cafe at the Mills",
          "Illiano Pizza Restaurant",
          "Fu-Wah Mini Market",
          "Harp & Crown",
          "Koreana",
          "Noon Mediterranean",
          "chili's",
          "Chickie's & Pete's Cafe",
          "George's Food truck",
          "Oxtail International Cuisine and Juice Bar",
          "Spread Bagelry",
          "Wawa",
          "Las Bugambilias",
          "Picanha Brazilian Steakhouse",
          "La Bella Dolce Italia",
          "Sushi Garden & Kitchen",
          "Fogo de Chao",
          "Townsend",
          "Kensington Quarters",
          "Miyabi Restaurant",
          "Chipotle Mexican Grill",
          "Chiu’s Kitchen",
          "CrepeMaker",
          "Vagrant Coffee",
          "Iron Hill Brewery & Restaurant",
          "MoMos Of Tibet",
          "Quality Taste Jamaican Restaurant",
          "Interstate Drafthouse",
          "Best In Town Pizza",
          "Thai 2 Go",
          "Pizzeria Stella",
          "O'Jung's",
          "4 Seasons Food Market",
          "Aprons Soul Food Restaurant",
          "Ludwig's Garten",
          "BisMillah Gyro",
          "Philly Sunnyside Diner",
          "Cochon",
          "New York Gyro Truck",
          "Pizza City",
          "Supper",
          "Creme Brulee Bistro & Cafe",
          "China House",
          "Fat Jack's BBQ",
          "Pho Hoa Noodle Soup",
          "King's Palace",
          "Sardi's Pollo A La Brasa",
          "Sonny's Famous Steaks",
          "The Juice Room",
          "Jackass Burrito",
          "Mission Taqueria",
          "Jimmy's Timeout Sports Pub",
          "Seiko Japanese Restaurant",
          "Dunkin'",
          "Kingyo",
          "Crisp Kitchen",
          "El Soto Deli & Grocery",
          "Country Club Diner",
          "Flaming Grill & Fusion Buffet",
          "Classic Cake Bakery & Cafe",
          "NY Bagel Cafe & Deli",
          "Wynnefield Pizza",
          "A & J Seafood",
          "Reggae Reggae Vibes",
          "Philly Pretzel Factory",
          "Five Guys",
          "Nick's Roast Beef",
          "International Smokeless BBQ",
          "Hong Kong Deli",
          "Lickety Split",
          "Tasteful Sensations Seafood & Soul Food",
          "Cantina Laredo",
          "The Farmacy",
          "Jack Duggan's Pub",
          "El Provocon",
          "Keating's Rope & Anchor",
          "Salam Cafe and Market",
          "Great Taste Chinese Food",
          "Food Point Deli",
          "Mama's Vegetarian",
          "Rocket Burger",
          "Philly Pretzel Factory",
          "Nan Restaurant",
          "Andy's Chicken",
          "Samwich",
          "Meze Cafe",
          "Union Taco",
          "Ratchada Thai & Laos Cuisine",
          "Byrne's Tavern",
          "A.Cafe AKA Cafe",
          "Q BBQ & Tequila",
          "Jin Wei",
          "Blue Belly BBQ",
          "The Adobe Cafe",
          "Konak",
          "Panda Garden Chinese Restaurant",
          "Tampopo",
          "Tony Lukes Casa De Pasta",
          "Sushi Kingdom",
          "National Mechanics",
          "Cosi"
         ],
         "lat": [
          39.9625821,
          39.954573,
          40.012141,
          39.9516153765,
          39.9768798,
          39.9412993,
          40.0839955,
          39.9506555,
          39.9418766,
          40.0027825,
          39.947207,
          40.08178,
          39.9719414,
          39.9403745,
          39.9515211,
          39.988107,
          39.949603,
          39.9686973,
          39.955454,
          40.025842293,
          40.0603863,
          39.9455687,
          39.940221217,
          39.971145,
          39.9512903,
          39.9862724,
          39.9541715545,
          39.9664073,
          39.944935,
          39.9503586,
          39.9470772078,
          39.948081,
          40.0374692,
          39.9528017,
          39.9483087,
          40.0378039,
          39.9453395,
          39.9883288,
          39.9509958568,
          40.0406177,
          39.9539403,
          39.9553865,
          40.0123759,
          39.9482333,
          39.9485775068,
          39.9506242,
          39.9229257,
          39.948818,
          39.9541083,
          39.9484223,
          39.9491591674,
          40.0096537,
          39.9567155,
          39.9727751034,
          39.9793657,
          39.9463322,
          40.04186,
          40.0573352,
          39.9549777255,
          39.9489334,
          39.9519011,
          39.9698623,
          40.000452,
          39.954687,
          40.004478,
          39.948202,
          39.9505432,
          39.9353601,
          39.91579,
          39.9519011,
          39.971725,
          39.953168623,
          40.0700275,
          39.949794,
          39.9366969,
          39.9701516,
          39.953793,
          39.9665611,
          40.076239,
          39.9515586,
          40.0478786128,
          40.033236,
          39.9515705,
          39.9428742,
          40.0300231,
          40.0098914,
          39.9439859,
          39.948831,
          39.955545,
          39.9835674,
          39.951634,
          40.0650212,
          39.953074,
          39.9609147337,
          39.9881000819,
          39.9280043249,
          39.9420412,
          40.0627091,
          39.962004,
          40.1033326,
          39.9710521,
          39.915332,
          40.0752499144,
          39.9554771,
          40.036142,
          39.9413000709,
          39.9536866,
          39.9400584,
          40.011687,
          39.952616,
          39.9424508214,
          39.9346322655,
          39.9524469799,
          39.960644,
          39.9641219,
          40.022248,
          39.9514453,
          39.9422163,
          39.949529,
          40.0232879,
          39.9480691001,
          39.9488052,
          40.0014002,
          39.9863915,
          39.9304879336,
          39.954940073,
          39.9824443591,
          39.9516172612,
          39.9503631,
          39.9502962,
          39.9842403,
          39.9576083,
          40.0381549,
          39.9565322,
          39.9114175,
          39.95703,
          39.962279,
          39.9562631,
          40.0741932,
          39.9699772,
          39.9747101233,
          40.0233829,
          39.949726,
          39.9667,
          39.960888,
          40.0258777,
          40.0195284,
          39.9539029,
          39.9914698988,
          39.9545323,
          40.0382907,
          39.9383502,
          39.9771998493,
          40.0513054696,
          39.9466441,
          39.913208,
          39.9496713,
          40.0091223,
          39.950533787,
          39.953333,
          39.9467455,
          39.9839188,
          39.9705409,
          39.9405590859,
          39.9400552,
          39.97961,
          39.949854,
          40.1319593894,
          40.042051,
          39.9790629,
          39.9709602,
          39.9474496788,
          40.0643495083,
          39.9958264,
          39.9378087,
          40.0688844854,
          40.116933,
          39.9613329598,
          39.9517712444,
          39.9551025,
          39.95499,
          40.0442404,
          39.9453439,
          39.9423842,
          40.086176,
          39.96399,
          39.950475902,
          40.1013209,
          39.9262103,
          39.9560366,
          39.9504833638,
          39.9296512,
          39.9449991381,
          40.060177,
          39.9143301122,
          39.915063,
          39.96009,
          39.929374,
          39.9553515,
          39.9689397,
          39.9497563,
          39.9510096,
          39.9512903,
          39.9553365,
          39.9455017733,
          39.9481797,
          40.0384395,
          40.0256599048,
          39.992732,
          39.9535917,
          39.9497082,
          40.0445681,
          40.0227483,
          40.0343850509,
          40.0334158,
          39.9410667419,
          39.9589789749,
          39.9523553233,
          40.0730228774,
          39.9254329,
          40.0689365111,
          39.9978235,
          39.952185,
          39.954703,
          40.1312728,
          39.9166328,
          39.9766109,
          39.9482528775,
          39.9383367,
          39.94949,
          39.949786,
          40.087335,
          39.9491008173,
          39.9261144,
          39.949224,
          39.91804,
          39.9536631,
          39.9702621176,
          40.0543239,
          39.945704,
          40.0768575019,
          39.9416094,
          40.0571665,
          40.077871324,
          39.9532735358,
          39.9198589,
          39.9388691,
          40.0296843,
          39.9692049,
          40.0354613,
          39.9591159,
          39.926769,
          39.9869459,
          39.9487772186,
          39.9489898682,
          39.9377652566,
          39.9531172679,
          40.0479243,
          39.955447,
          40.0435209,
          39.8951329,
          39.951392,
          39.9239989,
          39.9504830986,
          39.9601633,
          39.9465,
          40.032919,
          39.9397045222,
          40.078537,
          40.0034,
          40.0601522,
          39.9394833,
          39.9011799,
          39.9831358,
          39.9414081509,
          39.955402,
          39.9538411,
          39.9529405,
          40.0330744061,
          40.024735,
          39.968877,
          39.938329,
          39.9552337,
          39.9545367385,
          39.937027,
          40.0649629383,
          39.9659089,
          39.9518259,
          40.0543678735,
          40.0253737,
          39.9122173,
          39.9261517,
          39.9386420632,
          39.995528,
          39.9516337506,
          40.0450716,
          39.9510830684,
          39.9157811,
          39.9484988,
          40.0601522,
          39.9639942,
          39.9829283,
          40.002977,
          40.0719286,
          39.9304241,
          39.9538136,
          39.952398,
          39.94911,
          39.9552453374,
          39.9596810609,
          39.9665,
          39.952609,
          39.9468905,
          40.0872609384,
          39.9842432,
          40.044244,
          39.9543799638,
          39.9549604,
          40.0015641166,
          39.962848,
          39.932888,
          39.9664438,
          39.95602,
          39.9411183,
          39.9509225,
          40.04357983,
          39.9491188,
          39.9489511,
          39.9478075252,
          39.948674,
          40.102162,
          39.9126407,
          39.9532222415,
          39.9516498,
          39.9531593,
          39.9671988,
          39.9505744,
          40.0585056828,
          39.9614049,
          40.0726185,
          40.0150353,
          39.949084,
          39.970455,
          39.94093,
          39.941042,
          39.9225986,
          39.9517967,
          39.9498979,
          39.9493338,
          40.0745680732,
          39.9389482384,
          39.9031583953,
          40.0230319381,
          39.9723373258,
          39.9408669,
          39.925195,
          39.9513885876,
          39.9140772,
          39.9513109633,
          40.0077014,
          40.1290453,
          39.9482921,
          39.9504170438,
          39.9523399,
          39.9530971,
          39.9533,
          40.1011515,
          39.9541529,
          39.9247438,
          39.9419396,
          40.02217,
          39.9499940204,
          39.9477453,
          39.9419585,
          39.9447414,
          39.9509166,
          39.951097,
          39.9705028,
          39.9470156613,
          40.0075055545,
          39.9542282,
          39.9548473,
          39.9493349729,
          40.0750694,
          40.074168,
          39.9631567,
          39.97199,
          40.061588,
          40.029868,
          39.9424247094,
          39.9272913188,
          39.9498972,
          39.9400521034,
          39.950043,
          39.9532087298,
          39.9745695,
          39.9386072,
          39.954482017,
          40.080901,
          39.942621512,
          39.9259730399,
          39.9190372,
          40.096102507,
          40.0371693,
          40.0626352,
          40.0030483,
          39.9499178538,
          40.0592116,
          39.9522598,
          39.9502217062,
          40.0461605831,
          39.9612121,
          39.9495283,
          39.9507905,
          39.9532599,
          39.9306803523,
          40.0540854,
          40.002977,
          39.9542676513,
          40.0140948517,
          39.9846658,
          40.0012973,
          39.9703316132,
          40.0804412,
          40.0791890292,
          40.048536,
          39.9344152,
          39.9884019,
          39.9350642,
          40.0100109,
          39.8778109906,
          39.953125,
          39.874761,
          40.0394683,
          39.9457341,
          40.0331967,
          39.9536559,
          39.9287048,
          39.952706,
          40.0346506,
          39.9255776,
          39.9553597,
          39.9774804,
          39.9386746,
          40.0250895,
          39.970211,
          39.936534,
          39.9841717,
          39.9503651,
          39.9484906,
          39.9554576,
          39.9386795,
          40.0342316,
          39.955585,
          39.949193,
          39.9530336,
          39.9136284,
          40.0860312,
          39.9495443,
          39.949088
         ],
         "legendgroup": "2",
         "lon": [
          -75.1356571,
          -75.1948936,
          -75.1150148,
          -75.2033457223,
          -75.1161695,
          -75.1477446,
          -75.0354963,
          -75.1708991,
          -75.1451988,
          -75.2222705,
          -75.1572515,
          -75.0267907,
          -75.159771,
          -75.1456109,
          -75.1798731,
          -75.105553,
          -75.1649701595,
          -75.1606146,
          -75.1549,
          -75.2243893677,
          -75.0845897,
          -75.1717901,
          -75.1557966694,
          -75.15902,
          -75.1992768,
          -75.094699,
          -75.2013800841,
          -75.1386733,
          -75.1606759,
          -75.1615836,
          -75.1541655511,
          -75.1608093,
          -75.0417837,
          -75.1533475,
          -75.2178905,
          -75.0387664,
          -75.238934,
          -75.0912665,
          -75.1723086834,
          -75.0438084,
          -75.1563093,
          -75.1910637,
          -75.1124633,
          -75.1726372,
          -75.1450225711,
          -75.1697297,
          -75.1525267,
          -75.1456539,
          -75.1746706,
          -75.1692901,
          -75.1671322221,
          -75.1954732,
          -75.2100343,
          -75.1789870874,
          -75.1253492,
          -75.1579478,
          -75.0275663,
          -75.014859,
          -75.199922158,
          -75.1595088,
          -75.175709,
          -75.1439919,
          -75.1662905577,
          -75.202181,
          -75.152804,
          -75.162588,
          -75.1660506,
          -75.1615836,
          -75.1653879,
          -75.175709,
          -75.1657105,
          -75.1589321091,
          -75.1575821,
          -75.144739,
          -75.1614094,
          -75.1488281,
          -75.155832,
          -75.1399345,
          -75.03146,
          -75.2032578,
          -75.0593309498,
          -75.215314,
          -75.1680038,
          -75.1456449,
          -75.1803247,
          -75.1905348,
          -75.167449,
          -75.1740669,
          -75.1554729,
          -75.1293858,
          -75.1721,
          -75.2065334,
          -75.192585,
          -75.1708267829,
          -75.1282148436,
          -75.160044618,
          -75.147714,
          -75.1520337,
          -75.1722752,
          -75.0051621,
          -75.1582199,
          -75.1584048,
          -75.0323500112,
          -75.1572987,
          -75.174734,
          -75.1472321594,
          -75.1561742,
          -75.1578655,
          -75.18933,
          -75.159445,
          -75.1420305669,
          -75.1551747608,
          -75.1836892962,
          -75.189224,
          -75.2043607,
          -75.0472798,
          -75.2029159,
          -75.1544172,
          -75.152139,
          -75.1237642,
          -75.1430340484,
          -75.1779537,
          -75.153227,
          -75.0943523,
          -75.1582029462,
          -75.2023024894,
          -75.1559102741,
          -75.167190457,
          -75.1662246,
          -75.2266546,
          -75.123013,
          -75.2036365,
          -75.1769466,
          -75.1891783,
          -75.1745111,
          -75.203031,
          -75.141283,
          -75.1570795,
          -75.2030576,
          -75.1639247,
          -75.1825701445,
          -75.1483587,
          -75.1440717,
          -75.13997,
          -75.171213,
          -75.1325899,
          -75.1745343,
          -75.204325,
          -75.0997334182,
          -75.2089392,
          -75.1303845,
          -75.153168,
          -75.1184864286,
          -75.0666264582,
          -75.1631867,
          -75.17467,
          -75.1442542,
          -75.1004709,
          -75.1619937165,
          -75.156571,
          -75.1575593,
          -75.1198871,
          -75.1577989,
          -75.1458802706,
          -75.1509519,
          -75.117647,
          -75.160596,
          -75.0115236634,
          -75.1802359,
          -75.162316,
          -75.1274537,
          -75.1439342278,
          -75.021128657,
          -75.233934,
          -75.1579422,
          -75.0052062453,
          -75.355294,
          -75.1550674438,
          -75.1737245,
          -75.208546,
          -75.202699,
          -75.2317485,
          -75.1642327,
          -75.1507361,
          -75.045126,
          -75.1444822,
          -75.1677184179,
          -75.0287078,
          -75.1675231,
          -75.1591747,
          -75.1673305865,
          -75.1707949,
          -75.1770997246,
          -75.190676,
          -75.1531118029,
          -75.240049,
          -75.189482,
          -75.1638426,
          -75.1562283,
          -75.1334333,
          -75.1480623,
          -75.1674321,
          -75.1992768,
          -75.1946097,
          -75.1653677598,
          -75.1660502,
          -75.0368603,
          -75.2235197648,
          -75.100242,
          -75.1871746,
          -75.1439349,
          -75.1813871,
          -75.0634418,
          -75.2161171262,
          -75.1754611,
          -75.146232605,
          -75.2412560129,
          -75.168056685,
          -75.0350286614,
          -75.177009,
          -75.2402465477,
          -75.1109507,
          -75.1758693,
          -75.1684962,
          -75.01315,
          -75.1685035,
          -75.1401495,
          -75.1666254178,
          -75.159771,
          -75.17066,
          -75.152623,
          -75.039989,
          -75.1491766423,
          -75.1822397,
          -75.164942,
          -75.168707,
          -75.1695865,
          -75.1442193308,
          -75.1418482,
          -75.2138797,
          -75.0850222427,
          -75.1631687,
          -75.2357367,
          -75.2083880827,
          -75.1593375206,
          -75.1730406,
          -75.1524722,
          -75.228592,
          -75.1325733,
          -75.0808778,
          -75.1904692,
          -75.14621,
          -75.1564192,
          -75.1456730068,
          -75.1570663452,
          -75.1583243076,
          -75.1927020446,
          -75.0584606,
          -75.154839,
          -75.1433762,
          -75.2290123,
          -75.17062,
          -75.1425599,
          -75.1457890123,
          -75.2406183,
          -75.1732,
          -75.21426,
          -75.1562596858,
          -75.032031,
          -75.2067881,
          -75.1907202,
          -75.145839,
          -75.1719716,
          -75.1018987,
          -75.1490631994,
          -75.154484,
          -75.1770532,
          -75.1869058,
          -75.1064681634,
          -75.2222673,
          -75.133443,
          -75.144405,
          -75.1944974,
          -75.1943960041,
          -75.1549257,
          -74.9836531509,
          -75.1655053,
          -75.169687,
          -75.0721313202,
          -75.2238628,
          -75.1827641,
          -75.233992,
          -75.1668745431,
          -75.1297621,
          -75.168387222,
          -75.0606831,
          -75.1663314987,
          -75.1647757,
          -75.1631093,
          -75.1907202,
          -75.1328364,
          -75.1547321,
          -75.2217849,
          -75.1614096,
          -75.1563112,
          -75.1558378,
          -75.167928,
          -75.16309,
          -75.1565693933,
          -75.2248420939,
          -75.145408,
          -75.1712569,
          -75.1623567,
          -75.0399161411,
          -75.1641259,
          -75.087193,
          -75.2263397723,
          -75.1573313,
          -75.0795582533,
          -75.1573085,
          -75.159452,
          -75.139576,
          -75.167795,
          -75.1490884,
          -75.1583976,
          -75.05235617,
          -75.1648441,
          -75.1630431,
          -75.1622780016,
          -75.145814,
          -75.009483,
          -75.1728924,
          -75.1594696319,
          -75.1682121,
          -75.1590984,
          -75.1410133,
          -75.1454639,
          -75.1643203227,
          -75.1443064,
          -75.1577167,
          -75.108814,
          -75.167867,
          -75.145728,
          -75.14743,
          -75.151123,
          -75.1548452,
          -75.1722608,
          -75.1446263,
          -75.1661758,
          -75.0316823839,
          -75.1564078778,
          -75.2392083406,
          -75.2190360036,
          -75.129040464,
          -75.1455409,
          -75.1600137,
          -75.1631133975,
          -75.1486742,
          -75.1700653508,
          -75.1851189,
          -75.0235565,
          -75.2170137,
          -75.1664282754,
          -75.1715586,
          -75.1673521,
          -75.1611,
          -75.0081239,
          -75.1966082,
          -75.171114,
          -75.1505931839,
          -75.0626204,
          -75.1454153298,
          -75.159542,
          -75.153177,
          -75.1649239,
          -75.1629711,
          -75.176542,
          -75.1346993,
          -75.1576062253,
          -75.212248984,
          -75.1562308,
          -75.1832766,
          -75.2126938,
          -75.2055144,
          -75.2025511,
          -75.20264,
          -75.128871,
          -75.05604,
          -75.218742,
          -75.1456823945,
          -75.1488328617,
          -75.176164,
          -75.1867334579,
          -75.162518,
          -75.1665757249,
          -75.1819593,
          -75.1526555,
          -75.2052439587,
          -74.995019,
          -75.1579622906,
          -75.1527614381,
          -75.1836988,
          -75.0147091857,
          -75.1084699,
          -75.23727,
          -75.2219283,
          -75.1447920753,
          -75.1899679,
          -75.1740323,
          -75.1665529981,
          -74.9945482984,
          -75.1415708,
          -75.1542873,
          -75.1696177,
          -75.172695,
          -75.1699446009,
          -75.0704686,
          -75.2217849,
          -75.1678994671,
          -75.2317640074,
          -75.2311673,
          -75.1532209843,
          -75.145784989,
          -75.1730921,
          -75.0266629492,
          -75.06233,
          -75.1543726,
          -75.102826,
          -75.1516194,
          -75.1546441,
          -75.2368170695,
          -75.211986,
          -75.247085,
          -75.0563012,
          -75.1413125,
          -75.1754915,
          -75.2193516,
          -75.1683292,
          -75.173477,
          -75.0440235,
          -75.1700902,
          -75.202452,
          -75.128401,
          -75.1531814,
          -75.2221742,
          -75.148728,
          -75.16139,
          -75.0987438,
          -75.1704529,
          -75.1444675,
          -75.1551993,
          -75.1532197,
          -75.2191448,
          -75.143719,
          -75.159102,
          -75.2102968,
          -75.1488145,
          -74.9649713,
          -75.1459872,
          -75.147154
         ],
         "marker": {
          "color": "#FF6692"
         },
         "mode": "markers",
         "name": "2",
         "showlegend": true,
         "subplot": "mapbox",
         "type": "scattermapbox"
        },
        {
         "hovertemplate": "<b>%{hovertext}</b><br><br>Price Level=3<br>latitude=%{lat}<br>longitude=%{lon}<extra></extra>",
         "hovertext": [
          "Tuna Bar",
          "Tandoor Authentic Indian Restaurant",
          "Forin Cafe",
          "Wilson's Market",
          "Machismo Burrito Bar",
          "Lucky Wok Restaurant",
          "Mike's Breakfast",
          "Gachi Sushi and Noodle",
          "4 Seasons Grill Mexican Restaurant",
          "Paseo Tapas Bar",
          "Good Karma Cafe",
          "A Taste of Jamaica",
          "Cake Life Bake Shop",
          "Dagwood's Pub",
          "Venuto's Old World Pizza",
          "Jasmine Rice - Rittenhouse",
          "Termini Bros Bakery",
          "Fresh Gulf Seafood",
          "Pita Pocket Falafel & Grille",
          "Master Wok",
          "Swiss Haus Cafe & Pastry Bar",
          "Burger Lane",
          "El Camino Real",
          "Capital Beer",
          "Cloud Factory Hookah Lounge",
          "Village Whiskey",
          "A Tutti, Ristorante Italiano",
          "Tasties",
          "Jade Palace",
          "Don Panchito Mexican Grill",
          "Kumo Hibachi Sushi",
          "Mexican Grill Stand",
          "Watami Sushi & Hibachi",
          "More Than Just Ice Cream",
          "Heffe",
          "Spring Chinese Restaurant",
          "Wawa Food Markets",
          "Federal Donuts",
          "Jimmy G's Steaks",
          "Ground Up Coffee Shop",
          "Side of the Road Jerk Chicken",
          "Oregon Diner",
          "Marra's",
          "Halal Food Special",
          "Diner At Manayunk",
          "Mi Puebla Restaurant",
          "First Street Steaks",
          "China Star",
          "Kurths Sea Food",
          "La Colombe Coffee",
          "Antney's Grub",
          "Gennaro's Famous Pizza",
          "Grey Social",
          "Goat Hollow",
          "The Angelo Pizza",
          "Aqimero",
          "Bistro Romano",
          "Small Oven Pastry Shop",
          "Moriarty's Restaurant and Irish Pub",
          "Keller Market",
          "Meltkraft At Reading Terminal Market",
          "Berks Street Crabs",
          "Wawa",
          "Coos Sports Bar",
          "El Rey",
          "Unity Taqueria",
          "Philly Pretzel Factory",
          "LeBus Cafe",
          "Mr Wish - South Philly",
          "Toast",
          "Kei Sushi Restaurant",
          "DaFranco Pizzeria"
         ],
         "lat": [
          39.953949,
          39.9551144,
          39.9813471541,
          40.0390528,
          40.0626011,
          40.0342865,
          40.045729,
          39.8946117,
          40.0030161,
          39.9684914,
          39.9446092,
          40.0638727,
          39.970468014,
          40.0506387,
          40.0322069,
          39.9470839462,
          39.9530477103,
          39.920544,
          39.9491679,
          39.982461,
          39.9507452,
          39.9973553,
          39.9673004,
          39.976126,
          39.9467814,
          39.9514165949,
          40.018238,
          40.0317308,
          39.9268645,
          40.0693548,
          39.9571569052,
          39.979529,
          40.103147,
          39.947791,
          39.963057286,
          39.9602344,
          39.9622478,
          39.932223,
          39.9662097908,
          39.9260608,
          40.0546082,
          39.9140204,
          39.9279881,
          39.9532117052,
          40.0259511,
          40.0599953,
          39.9691698,
          39.9918037,
          39.9852893,
          39.9712343,
          39.9155207,
          40.0312593,
          39.948269,
          40.0539069,
          39.9502888,
          39.9512876403,
          39.9419372505,
          39.939368,
          39.9485658,
          40.0721248,
          39.953223,
          39.9813211416,
          39.9264316123,
          39.9687861,
          39.9522598,
          40.0224225,
          40.037904,
          39.8654657,
          39.936311,
          39.9467659,
          39.944413,
          40.1050859
         ],
         "legendgroup": "3",
         "lon": [
          -75.1432262,
          -75.202451,
          -75.1322471288,
          -75.1438169,
          -75.2372078,
          -75.1307075,
          -75.11891,
          -75.2292952,
          -75.1239721,
          -75.176962,
          -75.1578331,
          -75.1524294,
          -75.1345396622,
          -74.9997615712,
          -75.2142546,
          -75.1682054067,
          -75.1590135265,
          -75.188066,
          -75.1677507,
          -75.156031,
          -75.1701679,
          -75.1669794,
          -75.1403984,
          -75.119234,
          -75.1611265,
          -75.1737677917,
          -75.2115092,
          -75.1677993,
          -75.1542417,
          -75.0084942,
          -75.208009522,
          -75.155748,
          -75.0102491,
          -75.1603392,
          -75.1643311232,
          -75.1966365,
          -75.1729739,
          -75.147463,
          -75.1603736876,
          -75.1681768844,
          -75.1545153,
          -75.1529839,
          -75.1658701,
          -75.1668324715,
          -75.2243072,
          -75.1907261,
          -75.1361942,
          -75.1131361,
          -75.1478412,
          -75.1342432,
          -75.1624064,
          -75.1790941,
          -75.143783,
          -75.1942308,
          -75.1446988,
          -75.1641220332,
          -75.1446834884,
          -75.180138,
          -75.1598508,
          -75.0767287,
          -75.1588819,
          -75.1795094088,
          -75.1455847058,
          -75.1604323,
          -75.1740323,
          -75.2090019,
          -75.0383777,
          -75.2741557,
          -75.16201,
          -75.1611269,
          -75.1707392,
          -75.0337505
         ],
         "marker": {
          "color": "#19D3F3"
         },
         "mode": "markers",
         "name": "3",
         "showlegend": true,
         "subplot": "mapbox",
         "type": "scattermapbox"
        },
        {
         "hovertemplate": "<b>%{hovertext}</b><br><br>Price Level=4<br>latitude=%{lat}<br>longitude=%{lon}<extra></extra>",
         "hovertext": [
          "Pearl",
          "HipCityVeg - University City",
          "Juniper Commons",
          "Solly Pizza",
          "Sunrise 2 Authentic Thai Food",
          "Oishii Poké",
          "Live Casino Hotel",
          "Abbraccio",
          "Cafe Spice",
          "Gran Caffe L'Aquila"
         ],
         "lat": [
          39.9517967,
          39.953549,
          39.9440648,
          40.0618594,
          39.9694197,
          39.9532717,
          39.9091912,
          39.9483438,
          39.9489657,
          39.9512789
         ],
         "legendgroup": "4",
         "lon": [
          -75.1722608,
          -75.202991,
          -75.1653273,
          -75.0520111,
          -75.1320426,
          -75.1562016,
          -75.1646617,
          -75.2167974,
          -75.1436016,
          -75.1695181
         ],
         "marker": {
          "color": "rgb(255,127,0)"
         },
         "mode": "markers",
         "name": "4",
         "showlegend": true,
         "subplot": "mapbox",
         "type": "scattermapbox"
        }
       ],
       "layout": {
        "autosize": true,
        "legend": {
         "title": {
          "text": "Price Level"
         },
         "tracegroupgap": 0
        },
        "mapbox": {
         "bearing": 0,
         "center": {
          "lat": 40.00459827004087,
          "lon": -75.03794580774274
         },
         "domain": {
          "x": [
           0,
           1
          ],
          "y": [
           0,
           1
          ]
         },
         "pitch": 0,
         "style": "open-street-map",
         "zoom": 9.384687582761748
        },
        "margin": {
         "t": 60
        },
        "template": {
         "data": {
          "bar": [
           {
            "error_x": {
             "color": "#2a3f5f"
            },
            "error_y": {
             "color": "#2a3f5f"
            },
            "marker": {
             "line": {
              "color": "#E5ECF6",
              "width": 0.5
             },
             "pattern": {
              "fillmode": "overlay",
              "size": 10,
              "solidity": 0.2
             }
            },
            "type": "bar"
           }
          ],
          "barpolar": [
           {
            "marker": {
             "line": {
              "color": "#E5ECF6",
              "width": 0.5
             },
             "pattern": {
              "fillmode": "overlay",
              "size": 10,
              "solidity": 0.2
             }
            },
            "type": "barpolar"
           }
          ],
          "carpet": [
           {
            "aaxis": {
             "endlinecolor": "#2a3f5f",
             "gridcolor": "white",
             "linecolor": "white",
             "minorgridcolor": "white",
             "startlinecolor": "#2a3f5f"
            },
            "baxis": {
             "endlinecolor": "#2a3f5f",
             "gridcolor": "white",
             "linecolor": "white",
             "minorgridcolor": "white",
             "startlinecolor": "#2a3f5f"
            },
            "type": "carpet"
           }
          ],
          "choropleth": [
           {
            "colorbar": {
             "outlinewidth": 0,
             "ticks": ""
            },
            "type": "choropleth"
           }
          ],
          "contour": [
           {
            "colorbar": {
             "outlinewidth": 0,
             "ticks": ""
            },
            "colorscale": [
             [
              0,
              "#0d0887"
             ],
             [
              0.1111111111111111,
              "#46039f"
             ],
             [
              0.2222222222222222,
              "#7201a8"
             ],
             [
              0.3333333333333333,
              "#9c179e"
             ],
             [
              0.4444444444444444,
              "#bd3786"
             ],
             [
              0.5555555555555556,
              "#d8576b"
             ],
             [
              0.6666666666666666,
              "#ed7953"
             ],
             [
              0.7777777777777778,
              "#fb9f3a"
             ],
             [
              0.8888888888888888,
              "#fdca26"
             ],
             [
              1,
              "#f0f921"
             ]
            ],
            "type": "contour"
           }
          ],
          "contourcarpet": [
           {
            "colorbar": {
             "outlinewidth": 0,
             "ticks": ""
            },
            "type": "contourcarpet"
           }
          ],
          "heatmap": [
           {
            "colorbar": {
             "outlinewidth": 0,
             "ticks": ""
            },
            "colorscale": [
             [
              0,
              "#0d0887"
             ],
             [
              0.1111111111111111,
              "#46039f"
             ],
             [
              0.2222222222222222,
              "#7201a8"
             ],
             [
              0.3333333333333333,
              "#9c179e"
             ],
             [
              0.4444444444444444,
              "#bd3786"
             ],
             [
              0.5555555555555556,
              "#d8576b"
             ],
             [
              0.6666666666666666,
              "#ed7953"
             ],
             [
              0.7777777777777778,
              "#fb9f3a"
             ],
             [
              0.8888888888888888,
              "#fdca26"
             ],
             [
              1,
              "#f0f921"
             ]
            ],
            "type": "heatmap"
           }
          ],
          "heatmapgl": [
           {
            "colorbar": {
             "outlinewidth": 0,
             "ticks": ""
            },
            "colorscale": [
             [
              0,
              "#0d0887"
             ],
             [
              0.1111111111111111,
              "#46039f"
             ],
             [
              0.2222222222222222,
              "#7201a8"
             ],
             [
              0.3333333333333333,
              "#9c179e"
             ],
             [
              0.4444444444444444,
              "#bd3786"
             ],
             [
              0.5555555555555556,
              "#d8576b"
             ],
             [
              0.6666666666666666,
              "#ed7953"
             ],
             [
              0.7777777777777778,
              "#fb9f3a"
             ],
             [
              0.8888888888888888,
              "#fdca26"
             ],
             [
              1,
              "#f0f921"
             ]
            ],
            "type": "heatmapgl"
           }
          ],
          "histogram": [
           {
            "marker": {
             "pattern": {
              "fillmode": "overlay",
              "size": 10,
              "solidity": 0.2
             }
            },
            "type": "histogram"
           }
          ],
          "histogram2d": [
           {
            "colorbar": {
             "outlinewidth": 0,
             "ticks": ""
            },
            "colorscale": [
             [
              0,
              "#0d0887"
             ],
             [
              0.1111111111111111,
              "#46039f"
             ],
             [
              0.2222222222222222,
              "#7201a8"
             ],
             [
              0.3333333333333333,
              "#9c179e"
             ],
             [
              0.4444444444444444,
              "#bd3786"
             ],
             [
              0.5555555555555556,
              "#d8576b"
             ],
             [
              0.6666666666666666,
              "#ed7953"
             ],
             [
              0.7777777777777778,
              "#fb9f3a"
             ],
             [
              0.8888888888888888,
              "#fdca26"
             ],
             [
              1,
              "#f0f921"
             ]
            ],
            "type": "histogram2d"
           }
          ],
          "histogram2dcontour": [
           {
            "colorbar": {
             "outlinewidth": 0,
             "ticks": ""
            },
            "colorscale": [
             [
              0,
              "#0d0887"
             ],
             [
              0.1111111111111111,
              "#46039f"
             ],
             [
              0.2222222222222222,
              "#7201a8"
             ],
             [
              0.3333333333333333,
              "#9c179e"
             ],
             [
              0.4444444444444444,
              "#bd3786"
             ],
             [
              0.5555555555555556,
              "#d8576b"
             ],
             [
              0.6666666666666666,
              "#ed7953"
             ],
             [
              0.7777777777777778,
              "#fb9f3a"
             ],
             [
              0.8888888888888888,
              "#fdca26"
             ],
             [
              1,
              "#f0f921"
             ]
            ],
            "type": "histogram2dcontour"
           }
          ],
          "mesh3d": [
           {
            "colorbar": {
             "outlinewidth": 0,
             "ticks": ""
            },
            "type": "mesh3d"
           }
          ],
          "parcoords": [
           {
            "line": {
             "colorbar": {
              "outlinewidth": 0,
              "ticks": ""
             }
            },
            "type": "parcoords"
           }
          ],
          "pie": [
           {
            "automargin": true,
            "type": "pie"
           }
          ],
          "scatter": [
           {
            "fillpattern": {
             "fillmode": "overlay",
             "size": 10,
             "solidity": 0.2
            },
            "type": "scatter"
           }
          ],
          "scatter3d": [
           {
            "line": {
             "colorbar": {
              "outlinewidth": 0,
              "ticks": ""
             }
            },
            "marker": {
             "colorbar": {
              "outlinewidth": 0,
              "ticks": ""
             }
            },
            "type": "scatter3d"
           }
          ],
          "scattercarpet": [
           {
            "marker": {
             "colorbar": {
              "outlinewidth": 0,
              "ticks": ""
             }
            },
            "type": "scattercarpet"
           }
          ],
          "scattergeo": [
           {
            "marker": {
             "colorbar": {
              "outlinewidth": 0,
              "ticks": ""
             }
            },
            "type": "scattergeo"
           }
          ],
          "scattergl": [
           {
            "marker": {
             "colorbar": {
              "outlinewidth": 0,
              "ticks": ""
             }
            },
            "type": "scattergl"
           }
          ],
          "scattermapbox": [
           {
            "marker": {
             "colorbar": {
              "outlinewidth": 0,
              "ticks": ""
             }
            },
            "type": "scattermapbox"
           }
          ],
          "scatterpolar": [
           {
            "marker": {
             "colorbar": {
              "outlinewidth": 0,
              "ticks": ""
             }
            },
            "type": "scatterpolar"
           }
          ],
          "scatterpolargl": [
           {
            "marker": {
             "colorbar": {
              "outlinewidth": 0,
              "ticks": ""
             }
            },
            "type": "scatterpolargl"
           }
          ],
          "scatterternary": [
           {
            "marker": {
             "colorbar": {
              "outlinewidth": 0,
              "ticks": ""
             }
            },
            "type": "scatterternary"
           }
          ],
          "surface": [
           {
            "colorbar": {
             "outlinewidth": 0,
             "ticks": ""
            },
            "colorscale": [
             [
              0,
              "#0d0887"
             ],
             [
              0.1111111111111111,
              "#46039f"
             ],
             [
              0.2222222222222222,
              "#7201a8"
             ],
             [
              0.3333333333333333,
              "#9c179e"
             ],
             [
              0.4444444444444444,
              "#bd3786"
             ],
             [
              0.5555555555555556,
              "#d8576b"
             ],
             [
              0.6666666666666666,
              "#ed7953"
             ],
             [
              0.7777777777777778,
              "#fb9f3a"
             ],
             [
              0.8888888888888888,
              "#fdca26"
             ],
             [
              1,
              "#f0f921"
             ]
            ],
            "type": "surface"
           }
          ],
          "table": [
           {
            "cells": {
             "fill": {
              "color": "#EBF0F8"
             },
             "line": {
              "color": "white"
             }
            },
            "header": {
             "fill": {
              "color": "#C8D4E3"
             },
             "line": {
              "color": "white"
             }
            },
            "type": "table"
           }
          ]
         },
         "layout": {
          "annotationdefaults": {
           "arrowcolor": "#2a3f5f",
           "arrowhead": 0,
           "arrowwidth": 1
          },
          "autotypenumbers": "strict",
          "coloraxis": {
           "colorbar": {
            "outlinewidth": 0,
            "ticks": ""
           }
          },
          "colorscale": {
           "diverging": [
            [
             0,
             "#8e0152"
            ],
            [
             0.1,
             "#c51b7d"
            ],
            [
             0.2,
             "#de77ae"
            ],
            [
             0.3,
             "#f1b6da"
            ],
            [
             0.4,
             "#fde0ef"
            ],
            [
             0.5,
             "#f7f7f7"
            ],
            [
             0.6,
             "#e6f5d0"
            ],
            [
             0.7,
             "#b8e186"
            ],
            [
             0.8,
             "#7fbc41"
            ],
            [
             0.9,
             "#4d9221"
            ],
            [
             1,
             "#276419"
            ]
           ],
           "sequential": [
            [
             0,
             "#0d0887"
            ],
            [
             0.1111111111111111,
             "#46039f"
            ],
            [
             0.2222222222222222,
             "#7201a8"
            ],
            [
             0.3333333333333333,
             "#9c179e"
            ],
            [
             0.4444444444444444,
             "#bd3786"
            ],
            [
             0.5555555555555556,
             "#d8576b"
            ],
            [
             0.6666666666666666,
             "#ed7953"
            ],
            [
             0.7777777777777778,
             "#fb9f3a"
            ],
            [
             0.8888888888888888,
             "#fdca26"
            ],
            [
             1,
             "#f0f921"
            ]
           ],
           "sequentialminus": [
            [
             0,
             "#0d0887"
            ],
            [
             0.1111111111111111,
             "#46039f"
            ],
            [
             0.2222222222222222,
             "#7201a8"
            ],
            [
             0.3333333333333333,
             "#9c179e"
            ],
            [
             0.4444444444444444,
             "#bd3786"
            ],
            [
             0.5555555555555556,
             "#d8576b"
            ],
            [
             0.6666666666666666,
             "#ed7953"
            ],
            [
             0.7777777777777778,
             "#fb9f3a"
            ],
            [
             0.8888888888888888,
             "#fdca26"
            ],
            [
             1,
             "#f0f921"
            ]
           ]
          },
          "colorway": [
           "#636efa",
           "#EF553B",
           "#00cc96",
           "#ab63fa",
           "#FFA15A",
           "#19d3f3",
           "#FF6692",
           "#B6E880",
           "#FF97FF",
           "#FECB52"
          ],
          "font": {
           "color": "#2a3f5f"
          },
          "geo": {
           "bgcolor": "white",
           "lakecolor": "white",
           "landcolor": "#E5ECF6",
           "showlakes": true,
           "showland": true,
           "subunitcolor": "white"
          },
          "hoverlabel": {
           "align": "left"
          },
          "hovermode": "closest",
          "mapbox": {
           "style": "light"
          },
          "paper_bgcolor": "white",
          "plot_bgcolor": "#E5ECF6",
          "polar": {
           "angularaxis": {
            "gridcolor": "white",
            "linecolor": "white",
            "ticks": ""
           },
           "bgcolor": "#E5ECF6",
           "radialaxis": {
            "gridcolor": "white",
            "linecolor": "white",
            "ticks": ""
           }
          },
          "scene": {
           "xaxis": {
            "backgroundcolor": "#E5ECF6",
            "gridcolor": "white",
            "gridwidth": 2,
            "linecolor": "white",
            "showbackground": true,
            "ticks": "",
            "zerolinecolor": "white"
           },
           "yaxis": {
            "backgroundcolor": "#E5ECF6",
            "gridcolor": "white",
            "gridwidth": 2,
            "linecolor": "white",
            "showbackground": true,
            "ticks": "",
            "zerolinecolor": "white"
           },
           "zaxis": {
            "backgroundcolor": "#E5ECF6",
            "gridcolor": "white",
            "gridwidth": 2,
            "linecolor": "white",
            "showbackground": true,
            "ticks": "",
            "zerolinecolor": "white"
           }
          },
          "shapedefaults": {
           "line": {
            "color": "#2a3f5f"
           }
          },
          "ternary": {
           "aaxis": {
            "gridcolor": "white",
            "linecolor": "white",
            "ticks": ""
           },
           "baxis": {
            "gridcolor": "white",
            "linecolor": "white",
            "ticks": ""
           },
           "bgcolor": "#E5ECF6",
           "caxis": {
            "gridcolor": "white",
            "linecolor": "white",
            "ticks": ""
           }
          },
          "title": {
           "x": 0.05
          },
          "xaxis": {
           "automargin": true,
           "gridcolor": "white",
           "linecolor": "white",
           "ticks": "",
           "title": {
            "standoff": 15
           },
           "zerolinecolor": "white",
           "zerolinewidth": 2
          },
          "yaxis": {
           "automargin": true,
           "gridcolor": "white",
           "linecolor": "white",
           "ticks": "",
           "title": {
            "standoff": 15
           },
           "zerolinecolor": "white",
           "zerolinewidth": 2
          }
         }
        },
        "title": {
         "text": "Map, Restaurants by Price Level"
        }
       }
      },
      "image/png": "[encoded data removed]",
      "text/html": [
       "<div>                            <div id=\"4bb08645-dbec-46d3-9693-51026717cfa9\" class=\"plotly-graph-div\" style=\"height:600px; width:100%;\"></div>            <script type=\"text/javascript\">                require([\"plotly\"], function(Plotly) {                    window.PLOTLYENV=window.PLOTLYENV || {};                                    if (document.getElementById(\"4bb08645-dbec-46d3-9693-51026717cfa9\")) {                    Plotly.newPlot(                        \"4bb08645-dbec-46d3-9693-51026717cfa9\",                        [{\"hovertemplate\":\"\\u003cb\\u003e%{hovertext}\\u003c\\u002fb\\u003e\\u003cbr\\u003e\\u003cbr\\u003ePrice Level=1\\u003cbr\\u003elatitude=%{lat}\\u003cbr\\u003elongitude=%{lon}\\u003cextra\\u003e\\u003c\\u002fextra\\u003e\",\"hovertext\":[\"St Honore Pastries\",\"BAP\",\"Bar One\",\"Red Hook Coffee & Tea\",\"Crown Fried Chicken\",\"Bistro St. Tropez\",\"The Royal Indian Cuisine\",\"McDonald's\",\"Cedar Park Cafe\",\"Wawa\",\"Minas Pizza\",\"The Lunar Inn\",\"Benna's West\",\"Izumi\",\"McDonald's\",\"Taqueria La Hacienda\",\"Han Dynasty\",\"Hakka Beef House\",\"Guavaberry Foods & Drinks \",\"Junes Breakfast\",\"Lincoln Chicken Pizza And Grill\",\"Pho Nam Giang\",\"Quality Pizza\",\"Three 12 Sport Bar and Lounge\",\"Sonam\",\"Villagio Pizza Cafe\",\"Papa Sam\",\"Pizza Hut\",\"Vineyards Cafe\",\"Ron's Caribbean Cuisine\",\"Latin Flavor\",\"The Fat ChickeN\",\"Nannie Francos Pizza\",\"The Blue Duck\",\"Chevy\\u2019s Famous Thin Crust Pizza\",\"Charlie's Roast Pork\",\"Philippine Jeepney Grill\",\"Loco Lucho's Latino Kitchen\",\"Potito's Italian American Pastries\",\"Dae Jang Geum\",\"Sorrento Pizzeria And Grill\",\"Sam's Pizza\",\"George's Sandwich Shop\",\"The Palace of Indian\",\"Moon Flower House\",\"Holmesburg Bakery\",\"Champps Penn's Landing\",\"Flow State CoffeeBar\",\"Jay's Favorite Sushi Bar\",\"Foodery\",\"Zorba's Taverna\",\"Day Break Eggs\",\"Bitar's\",\"Franklin's\",\"Cheu Noodle Bar\",\"Samosa Vegetarian\",\"KASUMI SUSHI\",\"Wawa\",\"Joe's Steaks + Soda Shop\",\"Mel's Kitchen\",\"Lloyd Whiskey Bar\",\"Smiley's Cafe\",\"McDonald's\",\"The Original Hot Dog Factory\",\"The Boilermaker\",\"Giovani Pizza\",\"Prohibition Taproom\",\"Asadero los tios\",\"Zio Pizza Palace & Grill\",\"In the Valley\",\"Bridgewater's Pub\",\"Frank's Spaghetti House\",\"Cosi\",\"Smokey Pint\",\"La Colombe Coffee\",\"Mike's Hot Dog Cart\",\"Romano's Pizza Express\",\"Philly's Finest Pizza\",\"Giovanni's Pizzeria\",\"Liberty Bar & Grill\",\"Chan's Halal Restaurant\",\"Trio Breakfast & Lunch\",\"Ariana\",\"Penang\",\"Foods On First\",\"Los Caballos Locos\",\"Domino's Pizza\",\"Nhu Y\",\"Aldine\",\"Eatalia\",\"Federal Donuts\",\"Punch Buggy Brewing\",\"City Grange\",\"Essene Market & Caf\\u00e9\",\"Rittenhouse Grill\",\"Wings To Go\",\"Convenient Food Mart\",\"Boom Buns\",\"Pitruco Pizza Franklin's Table\",\"Big Geez Chicken Shack \",\"Chaat and Chai\",\"Heirloom Fine American Cookery\",\"Mom's Bake At Home Pizza\",\"London Grill\",\"Dinardo's Famous Crabs\",\"Lite Choice\",\"Spice Mandarin Cuisine\",\"Wawa\",\"Pho Street\",\"China House\",\"Marmont Steakhouse & Bar\",\"Pikes Corner\",\"Tiedhouse\",\"Flannel\",\"Boostin' Bowls\",\"McDonald's\",\"Naf Naf Grill\",\"Ken's Seafood Restaurant\",\"1 Stop Pizza\",\"3J's Food Market\",\"Mack's Boardwalk Pizza\",\"To-Yo Japanese Restaurant\",\"Wings & More\",\"Miami Cafe\",\"Brodo\",\"Poke Bowl\",\"New Tavern Bar\",\"Cleopatra Cafe\",\"Tartes Pastry Shop\",\"Bubblefish\",\"Mediterranean Banquet Hall\",\"Amada\",\"Buk Chon Korean Cuisine\",\"Oishii\",\"Pho Nam Vietnamese Restaurant\",\"BR\\u00dc Craft & Wurst\",\"Neighborhood Ramen\",\"El Purepecha\",\"Sarah & Sylvia's Soul Food\",\"Vito's Pizza & Grill\",\"Sakeya Japanese Restaurant\",\"Machismo Burrito Bar\",\"Hurricane Alley\",\"Prince Pizza II\",\"Token\",\"Shanks Original\",\"South Philadelphia Tap Room\",\"Italian Bistro\",\"Philadelphia Bar & Restaurant\",\"Nick's Famous Pizza\",\"Happy Lamb Hot Pot\",\"New Delhi Indian Restaurant\",\"Rosy's Taco Bar\",\"Murphy's Tavern\",\"The Lucky Well - Spring Arts\",\"Pizza Hut\",\"QDOBA Mexican Eats\",\"Good Dog Bar\",\"Kabuki Sushi\",\"Rayaki - Philadelphia\",\"Bleu Sushi\",\"Benna's Cafe\",\"Tyson Bees\",\"Vesper Sporting Club - Center City\",\"Green Soul\",\"Coeur\",\"SoBol-University City\",\"Applebee's Grill + Bar\",\"Originals Italian Restaurant & Bar\",\"Parc\",\"Bistrot La Minette\",\"Simon's Kosher\",\"DP Dough\",\"La Casa Del Mofongo\",\"Marathon\",\"The Strip Joint\",\"Sal's Produce Plus\",\"Doc Watson's Pub\",\"Cosmic Caf\\u00e9 and Ciderhouse\",\"Mezzogiorno\",\"Pita Chip\",\"honeygrow\",\"Solaris Grille\",\"Pearl Tavern\",\"Pizzeria Pesto\",\"Pennsylvania 6\",\"Daiva's Grille\",\"Mi Lah\",\"Seafood Sensations\",\"Pizzeria Vetri\",\"Mad Rex\",\"Sonic Drive-In\",\"Kitchen B & L\",\"Hunger Burger\",\"Rami's\",\"Drinker's Tavern\",\"O'Mares Irish Pub\",\"Le Bercail Restaurant\",\"Independence Prime\",\"Currito\",\"Stolovaya\",\"Seulanga\",\"Linda's Vegetarian Village Restaurant\",\"Big Daddy Pizza\",\"Crown Chicken & Burger\",\"America's Best Wings\",\"New Leaf 2 Chinese & Japanese Cuisine\",\"Pho-ladelphia\",\"Nick's Roast Beef\",\"Papa John's Pizza\",\"Shang Hai 1\",\"Freddy & Tony's Restaurant\",\"Sannie Japanese Chinese\",\"Raindrop Cafe\",\"Level 33\",\"Naana Xtra-O Restaurant\",\"Tango\",\"U-Town\",\"New China\",\"Cosmis Pastries\",\"Char Kol\",\"Cilantro New Mediterranean Cuisine\",\"Victorias Pizza\",\"U Got Munchies\",\"Ho's Chinese Restaurant\",\"OCF Coffee House\",\"Via Napoli\",\"Hot Potato Cafe\",\"5 n 2 Tokyo\",\"Subway\",\"Koch's Deli\",\"McDonald's\",\"Yomitori\",\"Urban Enoteca\",\"Temple Rainbow\",\"Moe's Deli Restaurant\",\"Branzino Italian Ristorante\",\"Ed's Pizza House\",\"Aqua Asian Bistro\",\"Mandarin Palace\",\"20th Street Pizza\",\"Greg's Kitchen\",\"Bridget Foy's\",\"Subway\",\"Le Bar Lyonnais\",\"Best China Inn\",\"Village Pizza\",\"Super Fratelli's Pizza\",\"Marianna's Pizzeria\",\"1st NE International Market\",\"2nd State Lounge\",\"Hong Restaurant\",\"Zahav\",\"Germantown Garden\",\"HNT Chicken\",\"Balducci's\",\"Paul\",\"Loco Pez\",\"The Breakfast Boutique\",\"Alma Del Mar\",\"El Guaco Loco\",\"M Restaurant\",\"Don Chucho\",\"Gleaner's Cafe\",\"La Mamiringa Restaurant\",\"Wawa\",\"Pat's Pizza Express\",\"DOHO Taqueria\",\"Jim's Steaks\",\"Chat On Chew\",\"Wawa\",\"Fountain Restaurant\",\"Au Bon Pain\",\"Corfu Pizza\"],\"lat\":[39.9555052,39.943223,39.9398245705,39.9385518,39.9368911,39.9535919923,39.948365,40.0884161,39.94796,39.9510885597,40.0352350987,39.9822933,39.931855,39.929738,39.9394402,40.02202,39.9567105161,39.9554945,39.938371,39.9850064107,39.9738754,40.0860776,40.0509209,39.9499452,39.9412971,39.9851818,40.0394759,39.9130548,39.969939,40.0407573,39.9422752,39.9227051442,39.922527,40.0571673033,40.0582111,39.9315335419,40.0575027,39.9531593,39.9210221,40.0675529,39.9498507065,40.0310045,39.9388315986,39.9299499,40.0295791831,40.0410115,39.9206642975,39.981907,39.950303,39.9448121788,39.9671642,39.9387267,39.9346516,40.0110062,39.9467949,39.9488451,39.9102554,40.0607947,40.0185131,40.0359954,39.9713575331,40.024774,40.0503776775,39.9554278,39.948104,39.9512536,39.9613018,40.0568875,39.955065,39.929453,39.95528,40.056184,39.9536708974,40.001447,39.9506099,39.9223806,39.9952251,40.0681765,40.0334795,39.9538230896,39.9798334,40.03145806,39.9481961938,39.954044,39.954879,39.9179108,40.0275052,39.938591,39.9519296405,39.9749514719,39.951007,39.9736435923,39.951931,39.9399804,39.9489487,39.958405,39.946666,40.0428555,39.9529913,39.9556563,39.9245858,40.077882,40.0736927,39.9675638,39.9540048,39.9497521,40.0414916,40.0403385055,39.9536619,40.0631649,39.9497397,40.066525,39.9628296,39.9272227151,40.0261216129,39.9498587626,40.0074349,39.9551567,40.0093835,39.9629932991,39.9156866,40.1246991,39.9362327,39.941958,39.9521366,39.965637,39.9542243,39.9563712,39.9518037,39.9536791,39.9253058646,39.9485863525,39.9482156,39.948271,40.0392904629,39.9503152253,39.9408923,39.9581334616,39.9583988,39.9961753,39.947954,40.0250919,39.9415588259,40.043756,39.9660455611,39.934831,39.927216,40.0731939,39.9496707,40.0351703,39.9539683,39.9553921,39.9508956186,40.0313311,39.961265,39.9225254,39.9495796084,39.948793,39.9535852,40.04378,39.9463986271,39.932994,39.9591692932,39.9489408,40.0637135,39.938845,39.9512731815,39.94883,40.049706,39.9491724,39.9414622968,40.042695,39.9561884,40.022133,39.9504196,39.940805,39.9664186,39.9480983,39.9695828,39.8740344184,39.9779222117,39.9537318071,40.073702,39.948987982,39.9261118,39.9497992,40.0413479,39.9557799,40.0543117,39.94941083,39.96486,39.9983682,40.0448433774,39.9532586925,39.9529565,39.9496657,40.1090254,39.9492094,39.8745568189,39.874423,40.0936845,39.9277585,40.0458535,40.0812146,39.9437144134,39.9563712,40.0247036,39.9223166,40.083729,40.034832,39.9541205693,39.9992623,40.0500021,39.9548117,39.951784,40.0396179,39.954001,39.954974092,39.9192864,39.9166943,39.9505301,39.9411149,40.0549817,39.9837643,39.9288656717,39.9530331794,40.0731939,39.971488,39.941934,39.9508785,39.953956271,39.954342,39.9508935,39.9501753,39.9860341408,40.0378561,39.9480133,40.0255724,39.9502734691,39.9518886,39.9517078,40.0267886888,39.9411136,39.9562697,39.949919,39.9541202,39.9604873,40.110289,40.0557918,40.0415953142,39.9417056,40.039174,39.9462611465,39.966258,40.0077753725,39.881297,39.9449491,39.977142,40.0586918,39.9373099378,39.983036976,39.9473257341,39.9360042563,39.938929,40.027564,39.9482296,40.0484332935,40.0497663,39.9692157,40.0380838,39.9492309,39.9567043,39.8803399012,40.056005],\"legendgroup\":\"1\",\"lon\":[-75.1555641,-75.162568,-75.1574465632,-75.1496356,-75.1672837,-75.1794226902,-75.1744997,-74.9650112,-75.22198,-75.1989988336,-75.2167929785,-75.1031599,-75.168473,-75.1633963,-75.1668049,-75.1240606,-75.1971027811,-75.1552563,-75.1501031,-75.246888042,-75.1794242,-74.9648083509,-75.094581,-75.146352,-75.1466064,-75.1067498,-75.0778205,-75.149704,-75.163026,-75.1448014,-75.1532337,-75.1861358061,-75.1644732,-75.0304835714,-75.0868253,-75.1496175304,-75.0525701,-75.1590984,-75.1744313,-75.1472469,-75.2332982,-75.0836118,-75.1579846257,-75.1629175,-75.0583349168,-75.0284172,-75.1416778564,-75.127012,-75.166856,-75.158305077,-75.1748969,-75.1923844,-75.1602726,-75.189062,-75.1577025,-75.1612613,-75.1869588,-75.1920424,-75.0581372,-75.2359063583,-75.127588677,-75.2214354,-75.0094825029,-75.1643767,-75.159407,-75.1661282,-75.1593118,-75.0154664,-75.1541846,-75.1636243,-75.18251,-75.061858,-75.1949572908,-75.07655,-75.172368,-75.1869289,-75.1393742,-75.068702,-75.1758562,-75.1769866943,-75.232945,-75.1788476379,-75.1437439718,-75.15598,-75.1644704,-75.1491694,-75.2094578,-75.156532,-75.1721942396,-75.1184531736,-75.159898,-75.1395907626,-75.1679499,-75.1492562,-75.1695317,-75.163972,-75.163993,-75.0737309,-75.1922872,-75.2255038,-75.1726715,-75.2088615,-75.1978144,-75.1754915,-75.1454969,-75.1674681,-75.0648356,-75.2234230242,-75.1754204,-75.1519159,-75.1445806,-75.158273,-75.1719117,-75.1663260162,-75.2246050321,-75.1695573452,-75.2124437,-75.1562026,-75.1506617,-75.1406934857,-75.1640201,-75.0155235,-75.1586195,-75.15019,-75.170218,-75.140681,-75.212136,-75.2061225,-75.1438627,-75.1551081,-75.1732910797,-75.1449131188,-75.143697,-75.1438587,-75.1080869401,-75.1624865435,-75.147458,-75.158424899,-75.2080055,-75.1537113,-75.165882,-75.2231789,-75.1489446239,-75.0854452,-75.1392937134,-75.142057,-75.171477,-75.0352627,-75.1431203,-75.1787516,-75.1570234,-75.2026195,-75.178367123,-75.2079192,-75.1541276,-75.1856193,-75.1672851248,-75.1662055,-75.1609794,-75.05346,-75.157800703,-75.157736,-75.1984187251,-75.1668194,-75.1527502,-75.1564754,-75.1979261264,-75.165919,-74.989807,-75.1707273,-75.1523852348,-75.063771,-75.2020815,-75.13389,-75.1635566,-75.179773,-75.160911,-75.1592326,-75.1876317,-75.243804085,-75.1582708789,-75.1978196153,-75.202618,-75.1600788161,-75.1689709,-75.1604137,-75.2255195,-75.1819683,-75.1555082,-75.1686977423,-75.13463,-75.093851,-75.086436756,-75.1589310688,-75.2028385,-75.143277,-75.0254734,-75.213722,-75.2437496274,-75.247136,-75.0323494,-75.1757526,-75.1820573,-75.037495,-75.1656907284,-75.2061225,-75.2219543,-75.1648601,-74.9661299,-75.066072,-75.1560343422,-75.133377,-75.0639371,-75.1675963,-75.1601943,-75.0768335,-75.157184,-75.2025566533,-75.1591554,-75.1688224,-75.1668181,-75.1490884,-75.0045063,-75.1571412,-75.1569883722,-75.1836618023,-75.0352627,-75.127697,-75.149329,-75.1528953034,-75.2097241761,-75.202337,-75.1736476,-75.1690403,-75.1564947571,-75.0386059,-75.1693585,-75.1683667,-75.1659937554,-75.1718034,-75.1737131,-75.2267333767,-75.145825,-75.1679039,-75.166996,-75.2112357,-75.1891583,-75.024127,-75.0455197,-75.0551653732,-75.1492637,-75.128641,-75.1451350779,-75.1382568,-75.1743743196,-75.2413809,-75.1607343,-75.127202,-75.1497736,-75.1580101624,-75.1546335178,-75.1543113996,-75.1585241407,-75.157903,-75.1321794,-75.156935,-75.0584227592,-75.1848614,-75.2430863,-75.1296708,-75.1507462,-75.1697047,-75.237121582,-75.1406056],\"marker\":{\"color\":\"#636EFA\"},\"mode\":\"markers\",\"name\":\"1\",\"showlegend\":true,\"subplot\":\"mapbox\",\"type\":\"scattermapbox\"},{\"hovertemplate\":\"\\u003cb\\u003e%{hovertext}\\u003c\\u002fb\\u003e\\u003cbr\\u003e\\u003cbr\\u003ePrice Level=2\\u003cbr\\u003elatitude=%{lat}\\u003cbr\\u003elongitude=%{lon}\\u003cextra\\u003e\\u003c\\u002fextra\\u003e\",\"hovertext\":[\"Craft Hall\",\"Wawa\",\"Wendy's\",\"Shanghai Station\",\"Baltic Bakery\",\"Jon's Bar & Grille\",\"Fusion Pizza & Grill\",\"The Love\",\"The Twisted Tail\",\"NY Bagel Cafe & Deli\",\"Mumbai Bistro\",\"Chick-fil-A\",\"Checkers\",\"The Irish Times\",\"24\",\"Sean Thorntons Public House\",\"Morton's The Steakhouse\",\"Flambo Caribbean Restaurant\",\"Naoki Ramen\",\"Ndulge\",\"Chase's Hop Shop\",\"Southgate\",\"Angelina's\",\"Crown Fried Chicken\",\"Gigi and Big R\",\"Spice Grill\",\"Capogiro Gelato\",\"Chenango Restaurant & Bar\",\"The Farm and Fisherman\",\"Dragon House\",\"Buca D\\u2019Oro \",\"J'aime French Bakery\",\"Hammerheads Bar & Grille\",\"Archway Sandwich Shop\",\"Vientiane Caf\\u00e9\",\"Wit or Witout Cheesesteaks\",\"Domino's Pizza\",\"My Blue Heaven\",\"Wiz Kid\",\"Tom's Corner Grill & Pizza\",\"Empress Garden\",\"Los Compadres\",\"Los Potrillos\",\"Divino Wine Bar\",\"Capofitto\",\"La Creperie Cafe\",\"Kurry Shack\",\"Rocchino's\",\"Twenty 21\",\"The Black Sheep Pub & Restaurant\",\"Hunnies Crispy Chicken\",\"Slices Pizza\",\"Marrakesh Express\",\"Lazos Pizza & Grill\",\"Ramble Pizza\",\"Kanella\",\"Commonwealth Kitchen\",\"Asian Star\",\"Steve's Prince of Steaks\",\"Bareburger - Midtown Village\",\"Cafe Habana\",\"Las Cazuelas Restaurant BYOB\",\"D'S Caribbean And American Food\",\"Hai Street Kitchen & Co\",\"Tony Express\",\"Camac\",\"Enzo's\",\"Ricci's Hoagies\",\"Oregon Steaks\",\"Slate\",\"Oriental Kitchen\",\"Valley Shepherd Creamery\",\"In & Out Pizza\",\"Mac's Tavern\",\"Pho Hoa Noodle Soup\",\"Tiffin-Etc\",\"Erawan Thai Cuisine\",\"The Pink Dolphin\",\"Chuck E. Cheese\",\"Copabanana\",\"Fratelly Pizza & Restaurant\",\"Cornerstone Inn\",\"Kato's Cajun\",\"Xochitl\",\"Al Sham Restaurant - Philadelphia\",\"The Set Table\",\"Mom Mom's Kitchen and Polish Food Cart\",\"Snackbar\",\"Cily Chicken Rice\",\"Franny Lou's Porch\",\"Qdoba Mexican Grill\",\"Philadelphia Cricket Club\",\"Goldie\",\"Buena Onda\",\"Vientiane Bistro\",\"Izzy's 33\",\"Ava Restaurant\",\"Little Caesars Pizza\",\"Philly Fusion & Grill Chicken Bowl\",\"Ramada Philadelphia Northeast\",\"Happy Joy Family Restaurant\",\"Los Jimenez\",\"Checkers\",\"Bai Wei\",\"Jeisy Grilled Chicken\",\"Green Basil Thai Kitchen\",\"Authentic LanZhou Handpulled Noodles\",\"Ralphs Italian Restaurant\",\"Terron\",\"Independence Brew Pub\",\"Village Burger\",\"Shing Kee\",\"The Post\",\"Pizza Wings Steaks\",\"JD's Soul Food Kitchen\",\"Non Stop Pizza & Grille\",\"Allegro Pizza\",\"Bottom of the Sea\",\"LaScala's\",\"Fabio's Chicken Restaurant Takeout\",\"Nauti Mermaid Crab House\",\"Trattoria Carina\",\"Lee's Breakfast\",\"Bonks Bar\",\"La Fonda De Teresita\",\"MexiCali\",\"Subway\",\"R2L\",\"500 Degrees\",\"Justin's Snack Corner\",\"Otolith Sustainable Seafood\",\"Asian Garden\",\"TyeMeka's Soul Food\",\"Mommy Telly's Famous BBQ\",\"Chickie's & Pete's\",\"Wise Guys Pizza & Steaks\",\"Layalena Hookah Lounge\",\"Lee How Fook\",\"Surf and Turf Market\",\"Bold Coffee Bar\",\"SPOT Gourmet Burgers\",\"Sid Booker's Shrimp\",\"Olde City Food Market\",\"Urban Village Brewing Co\",\"Pizzeria Vetri\",\"Lemoncello Restaurant Philly\",\"2 in One Cafe\",\"Wishbone\",\"Pizza Hut\",\"Pasqually's Pizza\",\"Ruby's Roof Jamaican Restaurant\",\"Koliyan\",\"Wawa\",\"Big Boyz\",\"Vetri Cucina\",\"Amato's Deli Restaurant\",\"Burrito Bonito\",\"Paradise Pizzeria\",\"Wawa\",\"Mixx Japanese Cuisine and Noodle Bar\",\"Poke Burri\",\"Toscanini Grill and Pizza\",\"Rock N' Rolls Egg Rolls\",\"Fez Moroccon Restaurant\",\"Village Bar and Kitchen\",\"The Freshworks of Port Richmond\",\"Les Bons Temps\",\"Wawa Food Markets\",\"Roula's Pizza\",\"Common Grounds Philly\",\"Kopi Latte\",\"Pagoda Noodle Cafe\",\"New Lee's Chinese Restaurant\",\"Larry's Steaks\",\"Market on Ninth\",\"Wawa\",\"Algorithm Restaurants\",\"Say Cheese\",\"Pho Mi Rittenhouse\",\"New Number One Chinese Restaurant\",\"MexiCali\",\"Wingstop\",\"Bocconcini\",\"Midori Sushi\",\"Mayura Indian Restaurant\",\"Honey's Sit-N-Eat\",\"@Ramen\",\"Happy Panda\",\"Tre Scalini Ristorante\",\"Cherry Lounge\",\"Marathon\",\"Friendly Grocery\",\"La Va Cafe\",\"North by Northwest\",\"ShopRite of Whitman Plaza\",\"Aya's Pizza\",\"Tran's Chinese Food Cart\",\"Roselena's\",\"Red Kings 2 Restaurant\",\"Murph's Bar\",\"Abunai Poke\",\"Subway\",\"Bui's\",\"Axis Pizza\",\"Sbraga\",\"Cosi\",\"Mayfair Pizza\",\"Binto\",\"Domino's Pizza\",\"Wahoo's Fish Taco\",\"Revolution House\",\"Charlie Gray's Rib Crib\",\"Johnnie's Italian Restaurant\",\"Dream House Asian Bistro\",\"Maplewood Nutrition & Dietary Food Shop\",\"Core De Roma\",\"Pete's Pizza\",\"Master Wok\",\"Saladworks\",\"Fan's Cafe\",\"Posh Fuel and Food\",\"Omega Pizza & Restaurant\",\"El Merkury\",\"Under the C\",\"The Whiskey Tango\",\"Carangi Baking\",\"Lechonera Principe\",\"Cinder Copper & Lace\",\"Jembatan 5\",\"Devon Seafood Grill\",\"Chifa\",\"Dunkin'\",\"Independence After Hours\",\"Florida Style Pizza\",\"Fresco Tortilla\",\"SouthHouse\",\"Good Day Eatery\",\"Drunk Crab\",\"Dunkin'\",\"Salt & Pepper Deli III\",\"Rieker's Prime Meats\",\"Stix Asian Eatery\",\"T & F Farmers Pride\",\"Banjara Indian Bistro\",\"Carmen's Famous Italian Hoagies\",\"Barone's How U Doin' Deli & Grocery\",\"Imli Indian Kitchen\",\"Five Guys Pizza\",\"Ekta Indian Cuisine\",\"Xin Xing House\",\"Currito Burritos Without Borders\",\"Chopstick House\",\"Captain Hooks\",\"Revolution Diner\",\"Milano's Pizzeria and Grill\",\"Blue Corn\",\"High Street Provisions\",\"Jim's Steaks\",\"Sammy Chon's KTown BBQ\",\"Imperial Palace Chinese Restaurant\",\"Au Bon Pain\",\"Moshi Moshi\",\"McDonald's\",\"Lake Blue Sushi & Cuisine\",\"Aku's Kitchen\",\"Towne Pizza Sub Shop\",\"Bob's Diner\",\"Cucina Maria\",\"Olive Garden Italian Restaurant\",\"Beijing Panda\",\"Germantown Jerk Hut\",\"Teresa's Mesa\",\"Cadillac Grille\",\"M & M Restaurant\",\"Alyan's Restaurant\",\"Terakawa Ramen\",\"Golden Lake\",\"Tria Wine Room\",\"Red Wine Restaurant\",\"Winnie's Manayunk\",\"East Girard Gastropub\",\"Village Belle\",\"Axis Cafe\",\"Spread Bagelry\",\"The Famous Napoli Pizza\",\"Emperor's Garden Chinese Restaurant\",\"MiXXed Breed Cafe\",\"Goodburger\",\"Burger King\",\"Han Dynasty\",\"Penrose Diner\",\"Ecowas African Restaurant\",\"Chipotle Mexican Grill\",\"Fredy & Tony's Restaurant\",\"Cafe Spice Express\",\"Jordan Johnson's Gourmet Seafood\",\"Popeyes Louisiana Kitchen\",\"Nifty Fifty's\",\"Sisters Restaurant & Nightclub\",\"Milo - The Meeting House\",\"The Refinery at SugarHouse Casino\",\"Burger Busz\",\"Tang Dynasty Buffet\",\"Royal's Restaurants\",\"Great Wall Chinese Restaurant\",\"Dumpling House\",\"Au Bon Pain\",\"IHOP\",\"Khmer Grill\",\"52nd Station Diner\",\"WineO\",\"El Techo\",\"Libertine Restauraunt\",\"Dolce Pizza\",\"Temple Town Pizza & Grill\",\"Wingstop\",\"Anna Restaurant\",\"The Chinese Noodle Factory\",\"Philadelphia Taxi Cab\",\"The Institute\",\"El Sarape Restaurant\",\"Soju Biergarten\",\"Con Murphy's\",\"Eclipse Hookah Lounge\",\"Luke's Lobster Market East\",\"Magic Noodles\",\"The Bellevue Hotel\",\"Passage To India\",\"Fish\",\"Haru\",\"Michael's Family Restaurant\",\"Talk Of The Town\",\"By George! Pizza Pasta & Cheesesteaks\",\"Sarku Japan\",\"Spataro's Cheesesteaks\",\"HomeSlice\",\"Bistro 7\",\"KFC\",\"Popeyes Louisiana Kitchen\",\"Bally Pizza\",\"Beijing\",\"Bellini\",\"Sahara Indian Cuisine\",\"Ngon Ngon\",\"Emmy Squared - Queen Village\",\"Food For Your Soul\",\"Akoya at Pearl\",\"Red Sky\",\"Butcher and Singer\",\"Paddy Whacks Irish Sports Pub - Welsh Road\",\"Frannie Nicks\",\"McDonald's\",\"Craft Manayunk\",\"Castellino's\",\"Queen & Rook Game Cafe\",\"Irwin's\",\"Bluestone Lane - Philadelphia\",\"Tony Luke's Beef and Beer Sports Bar\",\"Alimentari\",\"Cafe at the Mills\",\"Illiano Pizza Restaurant\",\"Fu-Wah Mini Market\",\"Harp & Crown\",\"Koreana\",\"Noon Mediterranean\",\"chili's\",\"Chickie's & Pete's Cafe\",\"George's Food truck\",\"Oxtail International Cuisine and Juice Bar\",\"Spread Bagelry\",\"Wawa\",\"Las Bugambilias\",\"Picanha Brazilian Steakhouse\",\"La Bella Dolce Italia\",\"Sushi Garden & Kitchen\",\"Fogo de Chao\",\"Townsend\",\"Kensington Quarters\",\"Miyabi Restaurant\",\"Chipotle Mexican Grill\",\"Chiu\\u2019s Kitchen\",\"CrepeMaker\",\"Vagrant Coffee\",\"Iron Hill Brewery & Restaurant\",\"MoMos Of Tibet\",\"Quality Taste Jamaican Restaurant\",\"Interstate Drafthouse\",\"Best In Town Pizza\",\"Thai 2 Go\",\"Pizzeria Stella\",\"O'Jung's\",\"4 Seasons Food Market\",\"Aprons Soul Food Restaurant\",\"Ludwig's Garten\",\"BisMillah Gyro\",\"Philly Sunnyside Diner\",\"Cochon\",\"New York Gyro Truck\",\"Pizza City\",\"Supper\",\"Creme Brulee Bistro & Cafe\",\"China House\",\"Fat Jack's BBQ\",\"Pho Hoa Noodle Soup\",\"King's Palace\",\"Sardi's Pollo A La Brasa\",\"Sonny's Famous Steaks\",\"The Juice Room\",\"Jackass Burrito\",\"Mission Taqueria\",\"Jimmy's Timeout Sports Pub\",\"Seiko Japanese Restaurant\",\"Dunkin'\",\"Kingyo\",\"Crisp Kitchen\",\"El Soto Deli & Grocery\",\"Country Club Diner\",\"Flaming Grill & Fusion Buffet\",\"Classic Cake Bakery & Cafe\",\"NY Bagel Cafe & Deli\",\"Wynnefield Pizza\",\"A & J Seafood\",\"Reggae Reggae Vibes\",\"Philly Pretzel Factory\",\"Five Guys\",\"Nick's Roast Beef\",\"International Smokeless BBQ\",\"Hong Kong Deli\",\"Lickety Split\",\"Tasteful Sensations Seafood & Soul Food\",\"Cantina Laredo\",\"The Farmacy\",\"Jack Duggan's Pub\",\"El Provocon\",\"Keating's Rope & Anchor\",\"Salam Cafe and Market\",\"Great Taste Chinese Food\",\"Food Point Deli\",\"Mama's Vegetarian\",\"Rocket Burger\",\"Philly Pretzel Factory\",\"Nan Restaurant\",\"Andy's Chicken\",\"Samwich\",\"Meze Cafe\",\"Union Taco\",\"Ratchada Thai & Laos Cuisine\",\"Byrne's Tavern\",\"A.Cafe AKA Cafe\",\"Q BBQ & Tequila\",\"Jin Wei\",\"Blue Belly BBQ\",\"The Adobe Cafe\",\"Konak\",\"Panda Garden Chinese Restaurant\",\"Tampopo\",\"Tony Lukes Casa De Pasta\",\"Sushi Kingdom\",\"National Mechanics\",\"Cosi\"],\"lat\":[39.9625821,39.954573,40.012141,39.9516153765,39.9768798,39.9412993,40.0839955,39.9506555,39.9418766,40.0027825,39.947207,40.08178,39.9719414,39.9403745,39.9515211,39.988107,39.949603,39.9686973,39.955454,40.025842293,40.0603863,39.9455687,39.940221217,39.971145,39.9512903,39.9862724,39.9541715545,39.9664073,39.944935,39.9503586,39.9470772078,39.948081,40.0374692,39.9528017,39.9483087,40.0378039,39.9453395,39.9883288,39.9509958568,40.0406177,39.9539403,39.9553865,40.0123759,39.9482333,39.9485775068,39.9506242,39.9229257,39.948818,39.9541083,39.9484223,39.9491591674,40.0096537,39.9567155,39.9727751034,39.9793657,39.9463322,40.04186,40.0573352,39.9549777255,39.9489334,39.9519011,39.9698623,40.000452,39.954687,40.004478,39.948202,39.9505432,39.9353601,39.91579,39.9519011,39.971725,39.953168623,40.0700275,39.949794,39.9366969,39.9701516,39.953793,39.9665611,40.076239,39.9515586,40.0478786128,40.033236,39.9515705,39.9428742,40.0300231,40.0098914,39.9439859,39.948831,39.955545,39.9835674,39.951634,40.0650212,39.953074,39.9609147337,39.9881000819,39.9280043249,39.9420412,40.0627091,39.962004,40.1033326,39.9710521,39.915332,40.0752499144,39.9554771,40.036142,39.9413000709,39.9536866,39.9400584,40.011687,39.952616,39.9424508214,39.9346322655,39.9524469799,39.960644,39.9641219,40.022248,39.9514453,39.9422163,39.949529,40.0232879,39.9480691001,39.9488052,40.0014002,39.9863915,39.9304879336,39.954940073,39.9824443591,39.9516172612,39.9503631,39.9502962,39.9842403,39.9576083,40.0381549,39.9565322,39.9114175,39.95703,39.962279,39.9562631,40.0741932,39.9699772,39.9747101233,40.0233829,39.949726,39.9667,39.960888,40.0258777,40.0195284,39.9539029,39.9914698988,39.9545323,40.0382907,39.9383502,39.9771998493,40.0513054696,39.9466441,39.913208,39.9496713,40.0091223,39.950533787,39.953333,39.9467455,39.9839188,39.9705409,39.9405590859,39.9400552,39.97961,39.949854,40.1319593894,40.042051,39.9790629,39.9709602,39.9474496788,40.0643495083,39.9958264,39.9378087,40.0688844854,40.116933,39.9613329598,39.9517712444,39.9551025,39.95499,40.0442404,39.9453439,39.9423842,40.086176,39.96399,39.950475902,40.1013209,39.9262103,39.9560366,39.9504833638,39.9296512,39.9449991381,40.060177,39.9143301122,39.915063,39.96009,39.929374,39.9553515,39.9689397,39.9497563,39.9510096,39.9512903,39.9553365,39.9455017733,39.9481797,40.0384395,40.0256599048,39.992732,39.9535917,39.9497082,40.0445681,40.0227483,40.0343850509,40.0334158,39.9410667419,39.9589789749,39.9523553233,40.0730228774,39.9254329,40.0689365111,39.9978235,39.952185,39.954703,40.1312728,39.9166328,39.9766109,39.9482528775,39.9383367,39.94949,39.949786,40.087335,39.9491008173,39.9261144,39.949224,39.91804,39.9536631,39.9702621176,40.0543239,39.945704,40.0768575019,39.9416094,40.0571665,40.077871324,39.9532735358,39.9198589,39.9388691,40.0296843,39.9692049,40.0354613,39.9591159,39.926769,39.9869459,39.9487772186,39.9489898682,39.9377652566,39.9531172679,40.0479243,39.955447,40.0435209,39.8951329,39.951392,39.9239989,39.9504830986,39.9601633,39.9465,40.032919,39.9397045222,40.078537,40.0034,40.0601522,39.9394833,39.9011799,39.9831358,39.9414081509,39.955402,39.9538411,39.9529405,40.0330744061,40.024735,39.968877,39.938329,39.9552337,39.9545367385,39.937027,40.0649629383,39.9659089,39.9518259,40.0543678735,40.0253737,39.9122173,39.9261517,39.9386420632,39.995528,39.9516337506,40.0450716,39.9510830684,39.9157811,39.9484988,40.0601522,39.9639942,39.9829283,40.002977,40.0719286,39.9304241,39.9538136,39.952398,39.94911,39.9552453374,39.9596810609,39.9665,39.952609,39.9468905,40.0872609384,39.9842432,40.044244,39.9543799638,39.9549604,40.0015641166,39.962848,39.932888,39.9664438,39.95602,39.9411183,39.9509225,40.04357983,39.9491188,39.9489511,39.9478075252,39.948674,40.102162,39.9126407,39.9532222415,39.9516498,39.9531593,39.9671988,39.9505744,40.0585056828,39.9614049,40.0726185,40.0150353,39.949084,39.970455,39.94093,39.941042,39.9225986,39.9517967,39.9498979,39.9493338,40.0745680732,39.9389482384,39.9031583953,40.0230319381,39.9723373258,39.9408669,39.925195,39.9513885876,39.9140772,39.9513109633,40.0077014,40.1290453,39.9482921,39.9504170438,39.9523399,39.9530971,39.9533,40.1011515,39.9541529,39.9247438,39.9419396,40.02217,39.9499940204,39.9477453,39.9419585,39.9447414,39.9509166,39.951097,39.9705028,39.9470156613,40.0075055545,39.9542282,39.9548473,39.9493349729,40.0750694,40.074168,39.9631567,39.97199,40.061588,40.029868,39.9424247094,39.9272913188,39.9498972,39.9400521034,39.950043,39.9532087298,39.9745695,39.9386072,39.954482017,40.080901,39.942621512,39.9259730399,39.9190372,40.096102507,40.0371693,40.0626352,40.0030483,39.9499178538,40.0592116,39.9522598,39.9502217062,40.0461605831,39.9612121,39.9495283,39.9507905,39.9532599,39.9306803523,40.0540854,40.002977,39.9542676513,40.0140948517,39.9846658,40.0012973,39.9703316132,40.0804412,40.0791890292,40.048536,39.9344152,39.9884019,39.9350642,40.0100109,39.8778109906,39.953125,39.874761,40.0394683,39.9457341,40.0331967,39.9536559,39.9287048,39.952706,40.0346506,39.9255776,39.9553597,39.9774804,39.9386746,40.0250895,39.970211,39.936534,39.9841717,39.9503651,39.9484906,39.9554576,39.9386795,40.0342316,39.955585,39.949193,39.9530336,39.9136284,40.0860312,39.9495443,39.949088],\"legendgroup\":\"2\",\"lon\":[-75.1356571,-75.1948936,-75.1150148,-75.2033457223,-75.1161695,-75.1477446,-75.0354963,-75.1708991,-75.1451988,-75.2222705,-75.1572515,-75.0267907,-75.159771,-75.1456109,-75.1798731,-75.105553,-75.1649701595,-75.1606146,-75.1549,-75.2243893677,-75.0845897,-75.1717901,-75.1557966694,-75.15902,-75.1992768,-75.094699,-75.2013800841,-75.1386733,-75.1606759,-75.1615836,-75.1541655511,-75.1608093,-75.0417837,-75.1533475,-75.2178905,-75.0387664,-75.238934,-75.0912665,-75.1723086834,-75.0438084,-75.1563093,-75.1910637,-75.1124633,-75.1726372,-75.1450225711,-75.1697297,-75.1525267,-75.1456539,-75.1746706,-75.1692901,-75.1671322221,-75.1954732,-75.2100343,-75.1789870874,-75.1253492,-75.1579478,-75.0275663,-75.014859,-75.199922158,-75.1595088,-75.175709,-75.1439919,-75.1662905577,-75.202181,-75.152804,-75.162588,-75.1660506,-75.1615836,-75.1653879,-75.175709,-75.1657105,-75.1589321091,-75.1575821,-75.144739,-75.1614094,-75.1488281,-75.155832,-75.1399345,-75.03146,-75.2032578,-75.0593309498,-75.215314,-75.1680038,-75.1456449,-75.1803247,-75.1905348,-75.167449,-75.1740669,-75.1554729,-75.1293858,-75.1721,-75.2065334,-75.192585,-75.1708267829,-75.1282148436,-75.160044618,-75.147714,-75.1520337,-75.1722752,-75.0051621,-75.1582199,-75.1584048,-75.0323500112,-75.1572987,-75.174734,-75.1472321594,-75.1561742,-75.1578655,-75.18933,-75.159445,-75.1420305669,-75.1551747608,-75.1836892962,-75.189224,-75.2043607,-75.0472798,-75.2029159,-75.1544172,-75.152139,-75.1237642,-75.1430340484,-75.1779537,-75.153227,-75.0943523,-75.1582029462,-75.2023024894,-75.1559102741,-75.167190457,-75.1662246,-75.2266546,-75.123013,-75.2036365,-75.1769466,-75.1891783,-75.1745111,-75.203031,-75.141283,-75.1570795,-75.2030576,-75.1639247,-75.1825701445,-75.1483587,-75.1440717,-75.13997,-75.171213,-75.1325899,-75.1745343,-75.204325,-75.0997334182,-75.2089392,-75.1303845,-75.153168,-75.1184864286,-75.0666264582,-75.1631867,-75.17467,-75.1442542,-75.1004709,-75.1619937165,-75.156571,-75.1575593,-75.1198871,-75.1577989,-75.1458802706,-75.1509519,-75.117647,-75.160596,-75.0115236634,-75.1802359,-75.162316,-75.1274537,-75.1439342278,-75.021128657,-75.233934,-75.1579422,-75.0052062453,-75.355294,-75.1550674438,-75.1737245,-75.208546,-75.202699,-75.2317485,-75.1642327,-75.1507361,-75.045126,-75.1444822,-75.1677184179,-75.0287078,-75.1675231,-75.1591747,-75.1673305865,-75.1707949,-75.1770997246,-75.190676,-75.1531118029,-75.240049,-75.189482,-75.1638426,-75.1562283,-75.1334333,-75.1480623,-75.1674321,-75.1992768,-75.1946097,-75.1653677598,-75.1660502,-75.0368603,-75.2235197648,-75.100242,-75.1871746,-75.1439349,-75.1813871,-75.0634418,-75.2161171262,-75.1754611,-75.146232605,-75.2412560129,-75.168056685,-75.0350286614,-75.177009,-75.2402465477,-75.1109507,-75.1758693,-75.1684962,-75.01315,-75.1685035,-75.1401495,-75.1666254178,-75.159771,-75.17066,-75.152623,-75.039989,-75.1491766423,-75.1822397,-75.164942,-75.168707,-75.1695865,-75.1442193308,-75.1418482,-75.2138797,-75.0850222427,-75.1631687,-75.2357367,-75.2083880827,-75.1593375206,-75.1730406,-75.1524722,-75.228592,-75.1325733,-75.0808778,-75.1904692,-75.14621,-75.1564192,-75.1456730068,-75.1570663452,-75.1583243076,-75.1927020446,-75.0584606,-75.154839,-75.1433762,-75.2290123,-75.17062,-75.1425599,-75.1457890123,-75.2406183,-75.1732,-75.21426,-75.1562596858,-75.032031,-75.2067881,-75.1907202,-75.145839,-75.1719716,-75.1018987,-75.1490631994,-75.154484,-75.1770532,-75.1869058,-75.1064681634,-75.2222673,-75.133443,-75.144405,-75.1944974,-75.1943960041,-75.1549257,-74.9836531509,-75.1655053,-75.169687,-75.0721313202,-75.2238628,-75.1827641,-75.233992,-75.1668745431,-75.1297621,-75.168387222,-75.0606831,-75.1663314987,-75.1647757,-75.1631093,-75.1907202,-75.1328364,-75.1547321,-75.2217849,-75.1614096,-75.1563112,-75.1558378,-75.167928,-75.16309,-75.1565693933,-75.2248420939,-75.145408,-75.1712569,-75.1623567,-75.0399161411,-75.1641259,-75.087193,-75.2263397723,-75.1573313,-75.0795582533,-75.1573085,-75.159452,-75.139576,-75.167795,-75.1490884,-75.1583976,-75.05235617,-75.1648441,-75.1630431,-75.1622780016,-75.145814,-75.009483,-75.1728924,-75.1594696319,-75.1682121,-75.1590984,-75.1410133,-75.1454639,-75.1643203227,-75.1443064,-75.1577167,-75.108814,-75.167867,-75.145728,-75.14743,-75.151123,-75.1548452,-75.1722608,-75.1446263,-75.1661758,-75.0316823839,-75.1564078778,-75.2392083406,-75.2190360036,-75.129040464,-75.1455409,-75.1600137,-75.1631133975,-75.1486742,-75.1700653508,-75.1851189,-75.0235565,-75.2170137,-75.1664282754,-75.1715586,-75.1673521,-75.1611,-75.0081239,-75.1966082,-75.171114,-75.1505931839,-75.0626204,-75.1454153298,-75.159542,-75.153177,-75.1649239,-75.1629711,-75.176542,-75.1346993,-75.1576062253,-75.212248984,-75.1562308,-75.1832766,-75.2126938,-75.2055144,-75.2025511,-75.20264,-75.128871,-75.05604,-75.218742,-75.1456823945,-75.1488328617,-75.176164,-75.1867334579,-75.162518,-75.1665757249,-75.1819593,-75.1526555,-75.2052439587,-74.995019,-75.1579622906,-75.1527614381,-75.1836988,-75.0147091857,-75.1084699,-75.23727,-75.2219283,-75.1447920753,-75.1899679,-75.1740323,-75.1665529981,-74.9945482984,-75.1415708,-75.1542873,-75.1696177,-75.172695,-75.1699446009,-75.0704686,-75.2217849,-75.1678994671,-75.2317640074,-75.2311673,-75.1532209843,-75.145784989,-75.1730921,-75.0266629492,-75.06233,-75.1543726,-75.102826,-75.1516194,-75.1546441,-75.2368170695,-75.211986,-75.247085,-75.0563012,-75.1413125,-75.1754915,-75.2193516,-75.1683292,-75.173477,-75.0440235,-75.1700902,-75.202452,-75.128401,-75.1531814,-75.2221742,-75.148728,-75.16139,-75.0987438,-75.1704529,-75.1444675,-75.1551993,-75.1532197,-75.2191448,-75.143719,-75.159102,-75.2102968,-75.1488145,-74.9649713,-75.1459872,-75.147154],\"marker\":{\"color\":\"#FF6692\"},\"mode\":\"markers\",\"name\":\"2\",\"showlegend\":true,\"subplot\":\"mapbox\",\"type\":\"scattermapbox\"},{\"hovertemplate\":\"\\u003cb\\u003e%{hovertext}\\u003c\\u002fb\\u003e\\u003cbr\\u003e\\u003cbr\\u003ePrice Level=3\\u003cbr\\u003elatitude=%{lat}\\u003cbr\\u003elongitude=%{lon}\\u003cextra\\u003e\\u003c\\u002fextra\\u003e\",\"hovertext\":[\"Tuna Bar\",\"Tandoor Authentic Indian Restaurant\",\"Forin Cafe\",\"Wilson's Market\",\"Machismo Burrito Bar\",\"Lucky Wok Restaurant\",\"Mike's Breakfast\",\"Gachi Sushi and Noodle\",\"4 Seasons Grill Mexican Restaurant\",\"Paseo Tapas Bar\",\"Good Karma Cafe\",\"A Taste of Jamaica\",\"Cake Life Bake Shop\",\"Dagwood's Pub\",\"Venuto's Old World Pizza\",\"Jasmine Rice - Rittenhouse\",\"Termini Bros Bakery\",\"Fresh Gulf Seafood\",\"Pita Pocket Falafel & Grille\",\"Master Wok\",\"Swiss Haus Cafe & Pastry Bar\",\"Burger Lane\",\"El Camino Real\",\"Capital Beer\",\"Cloud Factory Hookah Lounge\",\"Village Whiskey\",\"A Tutti, Ristorante Italiano\",\"Tasties\",\"Jade Palace\",\"Don Panchito Mexican Grill\",\"Kumo Hibachi Sushi\",\"Mexican Grill Stand\",\"Watami Sushi & Hibachi\",\"More Than Just Ice Cream\",\"Heffe\",\"Spring Chinese Restaurant\",\"Wawa Food Markets\",\"Federal Donuts\",\"Jimmy G's Steaks\",\"Ground Up Coffee Shop\",\"Side of the Road Jerk Chicken\",\"Oregon Diner\",\"Marra's\",\"Halal Food Special\",\"Diner At Manayunk\",\"Mi Puebla Restaurant\",\"First Street Steaks\",\"China Star\",\"Kurths Sea Food\",\"La Colombe Coffee\",\"Antney's Grub\",\"Gennaro's Famous Pizza\",\"Grey Social\",\"Goat Hollow\",\"The Angelo Pizza\",\"Aqimero\",\"Bistro Romano\",\"Small Oven Pastry Shop\",\"Moriarty's Restaurant and Irish Pub\",\"Keller Market\",\"Meltkraft At Reading Terminal Market\",\"Berks Street Crabs\",\"Wawa\",\"Coos Sports Bar\",\"El Rey\",\"Unity Taqueria\",\"Philly Pretzel Factory\",\"LeBus Cafe\",\"Mr Wish - South Philly\",\"Toast\",\"Kei Sushi Restaurant\",\"DaFranco Pizzeria\"],\"lat\":[39.953949,39.9551144,39.9813471541,40.0390528,40.0626011,40.0342865,40.045729,39.8946117,40.0030161,39.9684914,39.9446092,40.0638727,39.970468014,40.0506387,40.0322069,39.9470839462,39.9530477103,39.920544,39.9491679,39.982461,39.9507452,39.9973553,39.9673004,39.976126,39.9467814,39.9514165949,40.018238,40.0317308,39.9268645,40.0693548,39.9571569052,39.979529,40.103147,39.947791,39.963057286,39.9602344,39.9622478,39.932223,39.9662097908,39.9260608,40.0546082,39.9140204,39.9279881,39.9532117052,40.0259511,40.0599953,39.9691698,39.9918037,39.9852893,39.9712343,39.9155207,40.0312593,39.948269,40.0539069,39.9502888,39.9512876403,39.9419372505,39.939368,39.9485658,40.0721248,39.953223,39.9813211416,39.9264316123,39.9687861,39.9522598,40.0224225,40.037904,39.8654657,39.936311,39.9467659,39.944413,40.1050859],\"legendgroup\":\"3\",\"lon\":[-75.1432262,-75.202451,-75.1322471288,-75.1438169,-75.2372078,-75.1307075,-75.11891,-75.2292952,-75.1239721,-75.176962,-75.1578331,-75.1524294,-75.1345396622,-74.9997615712,-75.2142546,-75.1682054067,-75.1590135265,-75.188066,-75.1677507,-75.156031,-75.1701679,-75.1669794,-75.1403984,-75.119234,-75.1611265,-75.1737677917,-75.2115092,-75.1677993,-75.1542417,-75.0084942,-75.208009522,-75.155748,-75.0102491,-75.1603392,-75.1643311232,-75.1966365,-75.1729739,-75.147463,-75.1603736876,-75.1681768844,-75.1545153,-75.1529839,-75.1658701,-75.1668324715,-75.2243072,-75.1907261,-75.1361942,-75.1131361,-75.1478412,-75.1342432,-75.1624064,-75.1790941,-75.143783,-75.1942308,-75.1446988,-75.1641220332,-75.1446834884,-75.180138,-75.1598508,-75.0767287,-75.1588819,-75.1795094088,-75.1455847058,-75.1604323,-75.1740323,-75.2090019,-75.0383777,-75.2741557,-75.16201,-75.1611269,-75.1707392,-75.0337505],\"marker\":{\"color\":\"#19D3F3\"},\"mode\":\"markers\",\"name\":\"3\",\"showlegend\":true,\"subplot\":\"mapbox\",\"type\":\"scattermapbox\"},{\"hovertemplate\":\"\\u003cb\\u003e%{hovertext}\\u003c\\u002fb\\u003e\\u003cbr\\u003e\\u003cbr\\u003ePrice Level=4\\u003cbr\\u003elatitude=%{lat}\\u003cbr\\u003elongitude=%{lon}\\u003cextra\\u003e\\u003c\\u002fextra\\u003e\",\"hovertext\":[\"Pearl\",\"HipCityVeg - University City\",\"Juniper Commons\",\"Solly Pizza\",\"Sunrise 2 Authentic Thai Food\",\"Oishii Pok\\u00e9\",\"Live Casino Hotel\",\"Abbraccio\",\"Cafe Spice\",\"Gran Caffe L'Aquila\"],\"lat\":[39.9517967,39.953549,39.9440648,40.0618594,39.9694197,39.9532717,39.9091912,39.9483438,39.9489657,39.9512789],\"legendgroup\":\"4\",\"lon\":[-75.1722608,-75.202991,-75.1653273,-75.0520111,-75.1320426,-75.1562016,-75.1646617,-75.2167974,-75.1436016,-75.1695181],\"marker\":{\"color\":\"rgb(255,127,0)\"},\"mode\":\"markers\",\"name\":\"4\",\"showlegend\":true,\"subplot\":\"mapbox\",\"type\":\"scattermapbox\"}],                        {\"template\":{\"data\":{\"histogram2dcontour\":[{\"type\":\"histogram2dcontour\",\"colorbar\":{\"outlinewidth\":0,\"ticks\":\"\"},\"colorscale\":[[0.0,\"#0d0887\"],[0.1111111111111111,\"#46039f\"],[0.2222222222222222,\"#7201a8\"],[0.3333333333333333,\"#9c179e\"],[0.4444444444444444,\"#bd3786\"],[0.5555555555555556,\"#d8576b\"],[0.6666666666666666,\"#ed7953\"],[0.7777777777777778,\"#fb9f3a\"],[0.8888888888888888,\"#fdca26\"],[1.0,\"#f0f921\"]]}],\"choropleth\":[{\"type\":\"choropleth\",\"colorbar\":{\"outlinewidth\":0,\"ticks\":\"\"}}],\"histogram2d\":[{\"type\":\"histogram2d\",\"colorbar\":{\"outlinewidth\":0,\"ticks\":\"\"},\"colorscale\":[[0.0,\"#0d0887\"],[0.1111111111111111,\"#46039f\"],[0.2222222222222222,\"#7201a8\"],[0.3333333333333333,\"#9c179e\"],[0.4444444444444444,\"#bd3786\"],[0.5555555555555556,\"#d8576b\"],[0.6666666666666666,\"#ed7953\"],[0.7777777777777778,\"#fb9f3a\"],[0.8888888888888888,\"#fdca26\"],[1.0,\"#f0f921\"]]}],\"heatmap\":[{\"type\":\"heatmap\",\"colorbar\":{\"outlinewidth\":0,\"ticks\":\"\"},\"colorscale\":[[0.0,\"#0d0887\"],[0.1111111111111111,\"#46039f\"],[0.2222222222222222,\"#7201a8\"],[0.3333333333333333,\"#9c179e\"],[0.4444444444444444,\"#bd3786\"],[0.5555555555555556,\"#d8576b\"],[0.6666666666666666,\"#ed7953\"],[0.7777777777777778,\"#fb9f3a\"],[0.8888888888888888,\"#fdca26\"],[1.0,\"#f0f921\"]]}],\"heatmapgl\":[{\"type\":\"heatmapgl\",\"colorbar\":{\"outlinewidth\":0,\"ticks\":\"\"},\"colorscale\":[[0.0,\"#0d0887\"],[0.1111111111111111,\"#46039f\"],[0.2222222222222222,\"#7201a8\"],[0.3333333333333333,\"#9c179e\"],[0.4444444444444444,\"#bd3786\"],[0.5555555555555556,\"#d8576b\"],[0.6666666666666666,\"#ed7953\"],[0.7777777777777778,\"#fb9f3a\"],[0.8888888888888888,\"#fdca26\"],[1.0,\"#f0f921\"]]}],\"contourcarpet\":[{\"type\":\"contourcarpet\",\"colorbar\":{\"outlinewidth\":0,\"ticks\":\"\"}}],\"contour\":[{\"type\":\"contour\",\"colorbar\":{\"outlinewidth\":0,\"ticks\":\"\"},\"colorscale\":[[0.0,\"#0d0887\"],[0.1111111111111111,\"#46039f\"],[0.2222222222222222,\"#7201a8\"],[0.3333333333333333,\"#9c179e\"],[0.4444444444444444,\"#bd3786\"],[0.5555555555555556,\"#d8576b\"],[0.6666666666666666,\"#ed7953\"],[0.7777777777777778,\"#fb9f3a\"],[0.8888888888888888,\"#fdca26\"],[1.0,\"#f0f921\"]]}],\"surface\":[{\"type\":\"surface\",\"colorbar\":{\"outlinewidth\":0,\"ticks\":\"\"},\"colorscale\":[[0.0,\"#0d0887\"],[0.1111111111111111,\"#46039f\"],[0.2222222222222222,\"#7201a8\"],[0.3333333333333333,\"#9c179e\"],[0.4444444444444444,\"#bd3786\"],[0.5555555555555556,\"#d8576b\"],[0.6666666666666666,\"#ed7953\"],[0.7777777777777778,\"#fb9f3a\"],[0.8888888888888888,\"#fdca26\"],[1.0,\"#f0f921\"]]}],\"mesh3d\":[{\"type\":\"mesh3d\",\"colorbar\":{\"outlinewidth\":0,\"ticks\":\"\"}}],\"scatter\":[{\"fillpattern\":{\"fillmode\":\"overlay\",\"size\":10,\"solidity\":0.2},\"type\":\"scatter\"}],\"parcoords\":[{\"type\":\"parcoords\",\"line\":{\"colorbar\":{\"outlinewidth\":0,\"ticks\":\"\"}}}],\"scatterpolargl\":[{\"type\":\"scatterpolargl\",\"marker\":{\"colorbar\":{\"outlinewidth\":0,\"ticks\":\"\"}}}],\"bar\":[{\"error_x\":{\"color\":\"#2a3f5f\"},\"error_y\":{\"color\":\"#2a3f5f\"},\"marker\":{\"line\":{\"color\":\"#E5ECF6\",\"width\":0.5},\"pattern\":{\"fillmode\":\"overlay\",\"size\":10,\"solidity\":0.2}},\"type\":\"bar\"}],\"scattergeo\":[{\"type\":\"scattergeo\",\"marker\":{\"colorbar\":{\"outlinewidth\":0,\"ticks\":\"\"}}}],\"scatterpolar\":[{\"type\":\"scatterpolar\",\"marker\":{\"colorbar\":{\"outlinewidth\":0,\"ticks\":\"\"}}}],\"histogram\":[{\"marker\":{\"pattern\":{\"fillmode\":\"overlay\",\"size\":10,\"solidity\":0.2}},\"type\":\"histogram\"}],\"scattergl\":[{\"type\":\"scattergl\",\"marker\":{\"colorbar\":{\"outlinewidth\":0,\"ticks\":\"\"}}}],\"scatter3d\":[{\"type\":\"scatter3d\",\"line\":{\"colorbar\":{\"outlinewidth\":0,\"ticks\":\"\"}},\"marker\":{\"colorbar\":{\"outlinewidth\":0,\"ticks\":\"\"}}}],\"scattermapbox\":[{\"type\":\"scattermapbox\",\"marker\":{\"colorbar\":{\"outlinewidth\":0,\"ticks\":\"\"}}}],\"scatterternary\":[{\"type\":\"scatterternary\",\"marker\":{\"colorbar\":{\"outlinewidth\":0,\"ticks\":\"\"}}}],\"scattercarpet\":[{\"type\":\"scattercarpet\",\"marker\":{\"colorbar\":{\"outlinewidth\":0,\"ticks\":\"\"}}}],\"carpet\":[{\"aaxis\":{\"endlinecolor\":\"#2a3f5f\",\"gridcolor\":\"white\",\"linecolor\":\"white\",\"minorgridcolor\":\"white\",\"startlinecolor\":\"#2a3f5f\"},\"baxis\":{\"endlinecolor\":\"#2a3f5f\",\"gridcolor\":\"white\",\"linecolor\":\"white\",\"minorgridcolor\":\"white\",\"startlinecolor\":\"#2a3f5f\"},\"type\":\"carpet\"}],\"table\":[{\"cells\":{\"fill\":{\"color\":\"#EBF0F8\"},\"line\":{\"color\":\"white\"}},\"header\":{\"fill\":{\"color\":\"#C8D4E3\"},\"line\":{\"color\":\"white\"}},\"type\":\"table\"}],\"barpolar\":[{\"marker\":{\"line\":{\"color\":\"#E5ECF6\",\"width\":0.5},\"pattern\":{\"fillmode\":\"overlay\",\"size\":10,\"solidity\":0.2}},\"type\":\"barpolar\"}],\"pie\":[{\"automargin\":true,\"type\":\"pie\"}]},\"layout\":{\"autotypenumbers\":\"strict\",\"colorway\":[\"#636efa\",\"#EF553B\",\"#00cc96\",\"#ab63fa\",\"#FFA15A\",\"#19d3f3\",\"#FF6692\",\"#B6E880\",\"#FF97FF\",\"#FECB52\"],\"font\":{\"color\":\"#2a3f5f\"},\"hovermode\":\"closest\",\"hoverlabel\":{\"align\":\"left\"},\"paper_bgcolor\":\"white\",\"plot_bgcolor\":\"#E5ECF6\",\"polar\":{\"bgcolor\":\"#E5ECF6\",\"angularaxis\":{\"gridcolor\":\"white\",\"linecolor\":\"white\",\"ticks\":\"\"},\"radialaxis\":{\"gridcolor\":\"white\",\"linecolor\":\"white\",\"ticks\":\"\"}},\"ternary\":{\"bgcolor\":\"#E5ECF6\",\"aaxis\":{\"gridcolor\":\"white\",\"linecolor\":\"white\",\"ticks\":\"\"},\"baxis\":{\"gridcolor\":\"white\",\"linecolor\":\"white\",\"ticks\":\"\"},\"caxis\":{\"gridcolor\":\"white\",\"linecolor\":\"white\",\"ticks\":\"\"}},\"coloraxis\":{\"colorbar\":{\"outlinewidth\":0,\"ticks\":\"\"}},\"colorscale\":{\"sequential\":[[0.0,\"#0d0887\"],[0.1111111111111111,\"#46039f\"],[0.2222222222222222,\"#7201a8\"],[0.3333333333333333,\"#9c179e\"],[0.4444444444444444,\"#bd3786\"],[0.5555555555555556,\"#d8576b\"],[0.6666666666666666,\"#ed7953\"],[0.7777777777777778,\"#fb9f3a\"],[0.8888888888888888,\"#fdca26\"],[1.0,\"#f0f921\"]],\"sequentialminus\":[[0.0,\"#0d0887\"],[0.1111111111111111,\"#46039f\"],[0.2222222222222222,\"#7201a8\"],[0.3333333333333333,\"#9c179e\"],[0.4444444444444444,\"#bd3786\"],[0.5555555555555556,\"#d8576b\"],[0.6666666666666666,\"#ed7953\"],[0.7777777777777778,\"#fb9f3a\"],[0.8888888888888888,\"#fdca26\"],[1.0,\"#f0f921\"]],\"diverging\":[[0,\"#8e0152\"],[0.1,\"#c51b7d\"],[0.2,\"#de77ae\"],[0.3,\"#f1b6da\"],[0.4,\"#fde0ef\"],[0.5,\"#f7f7f7\"],[0.6,\"#e6f5d0\"],[0.7,\"#b8e186\"],[0.8,\"#7fbc41\"],[0.9,\"#4d9221\"],[1,\"#276419\"]]},\"xaxis\":{\"gridcolor\":\"white\",\"linecolor\":\"white\",\"ticks\":\"\",\"title\":{\"standoff\":15},\"zerolinecolor\":\"white\",\"automargin\":true,\"zerolinewidth\":2},\"yaxis\":{\"gridcolor\":\"white\",\"linecolor\":\"white\",\"ticks\":\"\",\"title\":{\"standoff\":15},\"zerolinecolor\":\"white\",\"automargin\":true,\"zerolinewidth\":2},\"scene\":{\"xaxis\":{\"backgroundcolor\":\"#E5ECF6\",\"gridcolor\":\"white\",\"linecolor\":\"white\",\"showbackground\":true,\"ticks\":\"\",\"zerolinecolor\":\"white\",\"gridwidth\":2},\"yaxis\":{\"backgroundcolor\":\"#E5ECF6\",\"gridcolor\":\"white\",\"linecolor\":\"white\",\"showbackground\":true,\"ticks\":\"\",\"zerolinecolor\":\"white\",\"gridwidth\":2},\"zaxis\":{\"backgroundcolor\":\"#E5ECF6\",\"gridcolor\":\"white\",\"linecolor\":\"white\",\"showbackground\":true,\"ticks\":\"\",\"zerolinecolor\":\"white\",\"gridwidth\":2}},\"shapedefaults\":{\"line\":{\"color\":\"#2a3f5f\"}},\"annotationdefaults\":{\"arrowcolor\":\"#2a3f5f\",\"arrowhead\":0,\"arrowwidth\":1},\"geo\":{\"bgcolor\":\"white\",\"landcolor\":\"#E5ECF6\",\"subunitcolor\":\"white\",\"showland\":true,\"showlakes\":true,\"lakecolor\":\"white\"},\"title\":{\"x\":0.05},\"mapbox\":{\"style\":\"light\"}}},\"mapbox\":{\"domain\":{\"x\":[0.0,1.0],\"y\":[0.0,1.0]},\"center\":{\"lat\":40.001224605395954,\"lon\":-75.15326202744694},\"zoom\":9.8,\"style\":\"open-street-map\"},\"legend\":{\"title\":{\"text\":\"Price Level\"},\"tracegroupgap\":0},\"margin\":{\"t\":60},\"height\":600,\"title\":{\"text\":\"Map, Restaurants by Price Level\"}},                        {\"responsive\": true}                    ).then(function(){\n",
       "                            \n",
       "var gd = document.getElementById('4bb08645-dbec-46d3-9693-51026717cfa9');\n",
       "var x = new MutationObserver(function (mutations, observer) {{\n",
       "        var display = window.getComputedStyle(gd).display;\n",
       "        if (!display || display === 'none') {{\n",
       "            console.log([gd, 'removed!']);\n",
       "            Plotly.purge(gd);\n",
       "            observer.disconnect();\n",
       "        }}\n",
       "}});\n",
       "\n",
       "// Listen for the removal of the full notebook cells\n",
       "var notebookContainer = gd.closest('#notebook-container');\n",
       "if (notebookContainer) {{\n",
       "    x.observe(notebookContainer, {childList: true});\n",
       "}}\n",
       "\n",
       "// Listen for the clearing of the current output cell\n",
       "var outputEl = gd.closest('.output');\n",
       "if (outputEl) {{\n",
       "    x.observe(outputEl, {childList: true});\n",
       "}}\n",
       "\n",
       "                        })                };                });            </script>        </div>"
      ]
     },
     "metadata": {},
     "output_type": "display_data"
    }
   ],
   "source": [
    "# Define a specific order for the legend\n",
    "price_order = [1,2,3,4]\n",
    "\n",
    "# Create a scatter map for restaurants by price level\n",
    "philly_rest['price_level'] = philly_rest['price_level'].astype(object)\n",
    "fig = px.scatter_mapbox(\n",
    "    philly_rest, \n",
    "    lat=\"latitude\", \n",
    "    lon=\"longitude\", \n",
    "    hover_name=\"name\",\n",
    "    color='price_level',\n",
    "    color_discrete_map={1: '#636EFA', 2: '#FF6692', 3:'#19D3F3', 4:'rgb(255,127,0)'},\n",
    "    category_orders={\"price_level\": price_order},\n",
    "    height=600,\n",
    "    labels={'price_level': 'Price Level'}\n",
    ")\n",
    "\n",
    "# Use an OpenStreetMap (OSM) base map and add title\n",
    "fig.update_layout(\n",
    "    title= 'Map, Restaurants by Price Level',\n",
    "    mapbox_style=\"open-street-map\")\n",
    "\n",
    "# Set map center and zoom level\n",
    "fig.update_layout(\n",
    "    mapbox_style=\"open-street-map\",\n",
    "    mapbox_center={\"lat\": philly_rest[\"latitude\"].mean()+.025, \"lon\": philly_rest[\"longitude\"].mean()},  # Center on mean location\n",
    "    mapbox_zoom=9.8 # Adjust zoom level\n",
    ")\n",
    "\n",
    "# Show the map\n",
    "fig.show()"
   ]
  },
  {
   "cell_type": "code",
   "execution_count": 57,
   "id": "44c35625-68a7-47a3-948f-704884b9e8f1",
   "metadata": {
    "tags": []
   },
   "outputs": [],
   "source": [
    "# Save as PNG\n",
    "fig.write_image(\"restaurant_map_by_price.png\")"
   ]
  },
  {
   "cell_type": "markdown",
   "id": "c3cdebf1-f725-486d-b3b0-a0b8f9dd525f",
   "metadata": {
    "tags": []
   },
   "source": [
    "## Data Metrics for Data Appendix"
   ]
  },
  {
   "cell_type": "markdown",
   "id": "bd1194c2-061f-4688-b771-c1b6985b5696",
   "metadata": {
    "tags": []
   },
   "source": [
    "### Restaurant dataset"
   ]
  },
  {
   "cell_type": "code",
   "execution_count": 4,
   "id": "e2f5d80b-c81c-4008-8266-2acbc611a5e0",
   "metadata": {
    "tags": []
   },
   "outputs": [],
   "source": [
    "# import restaurant dataset\n",
    "philly_rest = pd.read_csv(\"philly_restaurants.csv\")"
   ]
  },
  {
   "cell_type": "code",
   "execution_count": 5,
   "id": "7b418566-52fd-450d-aeca-6c07af471c07",
   "metadata": {
    "tags": []
   },
   "outputs": [
    {
     "data": {
      "text/plain": [
       "(816, 8)"
      ]
     },
     "execution_count": 5,
     "metadata": {},
     "output_type": "execute_result"
    }
   ],
   "source": [
    "# number of rows\n",
    "philly_rest.shape"
   ]
  },
  {
   "cell_type": "code",
   "execution_count": 6,
   "id": "1ab134fa-0bbb-4a00-be67-e52468477ec8",
   "metadata": {
    "tags": []
   },
   "outputs": [
    {
     "data": {
      "text/plain": [
       "business_id      object\n",
       "name             object\n",
       "latitude        float64\n",
       "longitude       float64\n",
       "stars           float64\n",
       "review_count      int64\n",
       "price_level       int64\n",
       "full_address     object\n",
       "dtype: object"
      ]
     },
     "execution_count": 6,
     "metadata": {},
     "output_type": "execute_result"
    }
   ],
   "source": [
    "# columns and datatypes\n",
    "philly_rest.dtypes"
   ]
  },
  {
   "cell_type": "code",
   "execution_count": 7,
   "id": "ffe15942-03e7-4010-9d16-d465ab2c3d8d",
   "metadata": {
    "tags": []
   },
   "outputs": [
    {
     "data": {
      "text/plain": [
       "business_id     0\n",
       "name            0\n",
       "latitude        0\n",
       "longitude       0\n",
       "stars           0\n",
       "review_count    0\n",
       "price_level     0\n",
       "full_address    0\n",
       "dtype: int64"
      ]
     },
     "execution_count": 7,
     "metadata": {},
     "output_type": "execute_result"
    }
   ],
   "source": [
    "# missing values\n",
    "philly_rest.isnull().sum()"
   ]
  },
  {
   "cell_type": "code",
   "execution_count": 21,
   "id": "cedb3a7e-8d8d-4efb-a7f3-15d1c1670c58",
   "metadata": {
    "tags": []
   },
   "outputs": [
    {
     "data": {
      "text/plain": [
       "count    816.000000\n",
       "mean      39.976225\n",
       "std        0.048560\n",
       "min       39.865466\n",
       "25%       39.948201\n",
       "50%       39.954226\n",
       "75%       40.007555\n",
       "max       40.131959\n",
       "Name: latitude, dtype: float64"
      ]
     },
     "metadata": {},
     "output_type": "display_data"
    },
    {
     "data": {
      "image/png": "[encoded data removed]",
      "text/plain": [
       "<Figure size 400x300 with 1 Axes>"
      ]
     },
     "metadata": {},
     "output_type": "display_data"
    }
   ],
   "source": [
    "# latitude\n",
    "display(philly_rest['latitude'].describe())\n",
    "\n",
    "# histogram\n",
    "fig, ax = plt.subplots(figsize=(4, 3))  # Assigns an Axes object\n",
    "plt.hist(philly_rest['latitude'], edgecolor='black')\n",
    "ax.set_xlabel(\"Latitude Value\")\n",
    "ax.set_ylabel(\"Frequency\")\n",
    "ax.set_title(\"Histogram of Latitude\")\n",
    "fig.show()\n",
    "fig.savefig('lat_histogram.png')"
   ]
  },
  {
   "cell_type": "code",
   "execution_count": 23,
   "id": "58e1ac3c-0d1f-4500-8277-1edfc0ff127c",
   "metadata": {
    "tags": []
   },
   "outputs": [
    {
     "data": {
      "text/plain": [
       "count    816.000000\n",
       "mean     -75.153262\n",
       "std        0.050905\n",
       "min      -75.355294\n",
       "25%      -75.175469\n",
       "50%      -75.159771\n",
       "75%      -75.144479\n",
       "max      -74.964808\n",
       "Name: longitude, dtype: float64"
      ]
     },
     "metadata": {},
     "output_type": "display_data"
    },
    {
     "data": {
      "image/png": "[encoded data removed]",
      "text/plain": [
       "<Figure size 400x300 with 1 Axes>"
      ]
     },
     "metadata": {},
     "output_type": "display_data"
    }
   ],
   "source": [
    "# longitude\n",
    "display(philly_rest['longitude'].describe())\n",
    "\n",
    "# histogram\n",
    "fig, ax = plt.subplots(figsize=(4, 3))  # Assigns an Axes object\n",
    "plt.hist(philly_rest['longitude'], edgecolor='black')\n",
    "ax.set_xlabel(\"Longitude Value\")\n",
    "ax.set_ylabel(\"Frequency\")\n",
    "ax.set_title(\"Histogram of Longitude\")\n",
    "fig.show()\n",
    "fig.savefig('lon_histogram.png')"
   ]
  },
  {
   "cell_type": "code",
   "execution_count": 33,
   "id": "2b393219-6132-452f-91ed-f19803dff145",
   "metadata": {
    "tags": []
   },
   "outputs": [
    {
     "data": {
      "text/plain": [
       "count    816.000000\n",
       "mean       3.552083\n",
       "std        0.801484\n",
       "min        1.000000\n",
       "25%        3.000000\n",
       "50%        3.500000\n",
       "75%        4.000000\n",
       "max        5.000000\n",
       "Name: stars, dtype: float64"
      ]
     },
     "metadata": {},
     "output_type": "display_data"
    },
    {
     "data": {
      "image/png": "[encoded data removed]",
      "text/plain": [
       "<Figure size 400x300 with 1 Axes>"
      ]
     },
     "metadata": {},
     "output_type": "display_data"
    }
   ],
   "source": [
    "# stars\n",
    "display(philly_rest['stars'].describe())\n",
    "\n",
    "# histogram\n",
    "fig, ax = plt.subplots(figsize=(4, 3))  # Assigns an Axes object\n",
    "plt.hist(philly_rest['stars'], edgecolor='black')\n",
    "ax.set_xlabel(\"Stars Value\")\n",
    "ax.set_ylabel(\"Frequency\")\n",
    "ax.set_title(\"Histogram of Stars\")\n",
    "fig.show()\n",
    "fig.savefig('stars_rest_histogram.png')"
   ]
  },
  {
   "cell_type": "code",
   "execution_count": 29,
   "id": "0da72d18-fa3f-4685-8566-4266a5fc639c",
   "metadata": {
    "tags": []
   },
   "outputs": [
    {
     "data": {
      "text/plain": [
       "count     816.000000\n",
       "mean      127.626225\n",
       "std       259.711300\n",
       "min         5.000000\n",
       "25%        14.000000\n",
       "50%        40.500000\n",
       "75%       127.250000\n",
       "max      3065.000000\n",
       "Name: review_count, dtype: float64"
      ]
     },
     "metadata": {},
     "output_type": "display_data"
    },
    {
     "data": {
      "image/png": "[encoded data removed]",
      "text/plain": [
       "<Figure size 400x300 with 1 Axes>"
      ]
     },
     "metadata": {},
     "output_type": "display_data"
    }
   ],
   "source": [
    "# review count\n",
    "display(philly_rest['review_count'].describe())\n",
    "\n",
    "# histogram\n",
    "fig, ax = plt.subplots(figsize=(4, 3))  # Assigns an Axes object\n",
    "plt.hist(philly_rest['review_count'], edgecolor='black')\n",
    "ax.set_xlabel(\"Review Count\")\n",
    "ax.set_ylabel(\"Frequency\")\n",
    "ax.set_title(\"Histogram of Review Count\")\n",
    "fig.show()\n",
    "fig.savefig('review_count_histogram.png')"
   ]
  },
  {
   "cell_type": "code",
   "execution_count": 32,
   "id": "9f623030-9c07-4303-b96f-e52411502cef",
   "metadata": {
    "tags": []
   },
   "outputs": [
    {
     "data": {
      "text/plain": [
       "price_level\n",
       "2    460\n",
       "1    274\n",
       "3     72\n",
       "4     10\n",
       "Name: count, dtype: int64"
      ]
     },
     "metadata": {},
     "output_type": "display_data"
    },
    {
     "data": {
      "image/png": "[encoded data removed]",
      "text/plain": [
       "<Figure size 400x300 with 1 Axes>"
      ]
     },
     "metadata": {},
     "output_type": "display_data"
    }
   ],
   "source": [
    "# price level\n",
    "display(philly_rest['price_level'].value_counts())\n",
    "\n",
    "# frequency bar chart\n",
    "fig, ax = plt.subplots(figsize=(4, 3))  # Assigns an Axes object\n",
    "sns.countplot(x=philly_rest['price_level'], palette=\"pastel\")\n",
    "ax.set_xlabel(\"Price Level\")\n",
    "ax.set_ylabel(\"Frequency\")\n",
    "ax.set_title(\"Frequency of Price Level\")\n",
    "fig.show()\n",
    "fig.savefig('price_level_bar.png')"
   ]
  },
  {
   "cell_type": "markdown",
   "id": "fb5f0cd9-645d-4a13-b85c-1d788f16d4b6",
   "metadata": {},
   "source": [
    "### Review dataset"
   ]
  },
  {
   "cell_type": "code",
   "execution_count": 8,
   "id": "9a88f376-c101-4e20-85df-976c3f3fb55a",
   "metadata": {
    "tags": []
   },
   "outputs": [],
   "source": [
    "# import reviews dataset\n",
    "review_df = pd.read_csv(\"philly_reviews.csv\")"
   ]
  },
  {
   "cell_type": "code",
   "execution_count": 9,
   "id": "79f3b5e6-2422-4256-af47-d5374705081d",
   "metadata": {
    "tags": []
   },
   "outputs": [
    {
     "data": {
      "text/plain": [
       "(107600, 5)"
      ]
     },
     "execution_count": 9,
     "metadata": {},
     "output_type": "execute_result"
    }
   ],
   "source": [
    "# number of rows\n",
    "review_df.shape"
   ]
  },
  {
   "cell_type": "code",
   "execution_count": 10,
   "id": "b6369f94-9e21-46c4-ae3c-2ac4fcd22a57",
   "metadata": {
    "tags": []
   },
   "outputs": [
    {
     "data": {
      "text/plain": [
       "review_id       object\n",
       "business_id     object\n",
       "stars          float64\n",
       "text            object\n",
       "date            object\n",
       "dtype: object"
      ]
     },
     "execution_count": 10,
     "metadata": {},
     "output_type": "execute_result"
    }
   ],
   "source": [
    "# columns and datatypes\n",
    "review_df.dtypes"
   ]
  },
  {
   "cell_type": "code",
   "execution_count": 11,
   "id": "12dcd286-b932-42d6-b749-ccdab8ea1ce2",
   "metadata": {
    "tags": []
   },
   "outputs": [
    {
     "data": {
      "text/plain": [
       "review_id      0\n",
       "business_id    0\n",
       "stars          0\n",
       "text           0\n",
       "date           0\n",
       "dtype: int64"
      ]
     },
     "execution_count": 11,
     "metadata": {},
     "output_type": "execute_result"
    }
   ],
   "source": [
    "# missing values\n",
    "review_df.isnull().sum()"
   ]
  },
  {
   "cell_type": "code",
   "execution_count": 36,
   "id": "326d844d-c05e-48f4-bd84-9af43ffee864",
   "metadata": {
    "tags": []
   },
   "outputs": [
    {
     "data": {
      "text/plain": [
       "stars\n",
       "5.0    44123\n",
       "4.0    31015\n",
       "3.0    14208\n",
       "1.0     9614\n",
       "2.0     8640\n",
       "Name: count, dtype: int64"
      ]
     },
     "metadata": {},
     "output_type": "display_data"
    },
    {
     "data": {
      "image/png": "[encoded data removed]",
      "text/plain": [
       "<Figure size 400x300 with 1 Axes>"
      ]
     },
     "metadata": {},
     "output_type": "display_data"
    }
   ],
   "source": [
    "# stars\n",
    "display(review_df['stars'].value_counts())\n",
    "\n",
    "# frequency bar chart\n",
    "fig, ax = plt.subplots(figsize=(4, 3))  # Assigns an Axes object\n",
    "sns.countplot(x=review_df['stars'], palette=\"pastel\")\n",
    "ax.set_xlabel(\"Stars\")\n",
    "ax.set_ylabel(\"Frequency\")\n",
    "ax.set_title(\"Frequency of Stars\")\n",
    "fig.show()\n",
    "fig.savefig('stars_review_bar.png')"
   ]
  },
  {
   "cell_type": "code",
   "execution_count": 40,
   "id": "ea8aa59c-5fed-48d4-87ad-185390ac17ee",
   "metadata": {
    "tags": []
   },
   "outputs": [
    {
     "data": {
      "text/plain": [
       "'2005-07-26 23:42:06'"
      ]
     },
     "metadata": {},
     "output_type": "display_data"
    },
    {
     "data": {
      "text/plain": [
       "'2022-01-19 19:03:21'"
      ]
     },
     "metadata": {},
     "output_type": "display_data"
    }
   ],
   "source": [
    "# date\n",
    "display(review_df['date'].min())\n",
    "display(review_df['date'].max())"
   ]
  }
 ],
 "metadata": {
  "kernelspec": {
   "display_name": "Python 3 (ipykernel)",
   "language": "python",
   "name": "python3"
  },
  "language_info": {
   "codemirror_mode": {
    "name": "ipython",
    "version": 3
   },
   "file_extension": ".py",
   "mimetype": "text/x-python",
   "name": "python",
   "nbconvert_exporter": "python",
   "pygments_lexer": "ipython3",
   "version": "3.11.4"
  }
 },
 "nbformat": 4,
 "nbformat_minor": 5
}
