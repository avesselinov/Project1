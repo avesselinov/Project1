{
 "cells": [
  {
   "cell_type": "markdown",
   "metadata": {
    "colab_type": "text",
    "id": "view-in-github"
   },
   "source": [
    "<a href=\"https://colab.research.google.com/github/avesselinov/Project1/blob/main/spearman_analysis.ipynb\" target=\"_parent\"><img src=\"https://colab.research.google.com/assets/colab-badge.svg\" alt=\"Open In Colab\"/></a>"
   ]
  },
  {
   "cell_type": "markdown",
   "metadata": {},
   "source": [
    "# Spearman Correlation Analysis"
   ]
  },
  {
   "cell_type": "code",
   "execution_count": 1,
   "metadata": {
    "id": "JTOOpcfWJ6o8",
    "tags": []
   },
   "outputs": [],
   "source": [
    "# import packages\n",
    "import pandas as pd\n",
    "import numpy as np\n",
    "from scipy.stats import spearmanr"
   ]
  },
  {
   "cell_type": "code",
   "execution_count": 2,
   "metadata": {
    "id": "JTOOpcfWJ6o8",
    "tags": []
   },
   "outputs": [],
   "source": [
    "# Load dataset (this is with 'price_level' and 'sentiment_score' columns)\n",
    "df = pd.read_csv(\"restaurant_sentiment_scores.csv\")  # from output folder in github"
   ]
  },
  {
   "cell_type": "code",
   "execution_count": 5,
   "metadata": {
    "id": "JTOOpcfWJ6o8",
    "tags": []
   },
   "outputs": [],
   "source": [
    "# Drop any rows with missing values in relevant columns\n",
    "df = df.dropna(subset=['price_level', 'sentiment_score'])"
   ]
  },
  {
   "cell_type": "code",
   "execution_count": 7,
   "metadata": {
    "id": "JTOOpcfWJ6o8",
    "tags": []
   },
   "outputs": [
    {
     "name": "stdout",
     "output_type": "stream",
     "text": [
      "Spearman Correlation: -0.016\n",
      "P-Value: 0.63876\n",
      "No significant correlation found between price level and sentiment score.\n"
     ]
    }
   ],
   "source": [
    "# Calculate Spearman correlation\n",
    "corr, p_value = spearmanr(df['price_level'], df['sentiment_score'])\n",
    "\n",
    "# Print results\n",
    "print(f\"Spearman Correlation: {corr:.3f}\")\n",
    "print(f\"P-Value: {p_value:.5f}\")\n",
    "\n",
    "# Interpretation\n",
    "if p_value < 0.05:\n",
    "    print(\"There is a statistically significant correlation between price level and sentiment score.\")\n",
    "else:\n",
    "    print(\"No significant correlation found between price level and sentiment score.\")"
   ]
  }
 ],
 "metadata": {
  "colab": {
   "authorship_tag": "ABX9TyNtzXdRwTUnn8mAU6TmZZpv",
   "include_colab_link": true,
   "provenance": []
  },
  "kernelspec": {
   "display_name": "Python 3 (ipykernel)",
   "language": "python",
   "name": "python3"
  },
  "language_info": {
   "codemirror_mode": {
    "name": "ipython",
    "version": 3
   },
   "file_extension": ".py",
   "mimetype": "text/x-python",
   "name": "python",
   "nbconvert_exporter": "python",
   "pygments_lexer": "ipython3",
   "version": "3.11.4"
  }
 },
 "nbformat": 4,
 "nbformat_minor": 4
}
